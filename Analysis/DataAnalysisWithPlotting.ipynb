{
 "cells": [
  {
   "cell_type": "code",
   "execution_count": 1,
   "metadata": {
    "scrolled": true
   },
   "outputs": [
    {
     "name": "stdout",
     "output_type": "stream",
     "text": [
      "C:/Users/fm873/Documents/Repos/LidarAnalysis/Results\n",
      "C:/Users/fm873/Documents/Repos/LidarAnalysis/Results\\Cubes\\160mm\\2ft\n",
      "C:/Users/fm873/Documents/Repos/LidarAnalysis/Results\\Cubes\\160mm\\6ft\n",
      "C:/Users/fm873/Documents/Repos/LidarAnalysis/Results\\Cubes\\40mm\\2ft\n",
      "C:/Users/fm873/Documents/Repos/LidarAnalysis/Results\\Cubes\\40mm\\4ft\n",
      "C:/Users/fm873/Documents/Repos/LidarAnalysis/Results\\Cubes\\80mm\\2ft\n",
      "C:/Users/fm873/Documents/Repos/LidarAnalysis/Results\\Cubes\\80mm\\4ft\n",
      "C:/Users/fm873/Documents/Repos/LidarAnalysis/Results\\Cubes\\80mm\\6ft\n",
      "C:/Users/fm873/Documents/Repos/LidarAnalysis/Results\\Handwarmers\\Black\\2ft\\40C\n",
      "C:/Users/fm873/Documents/Repos/LidarAnalysis/Results\\Handwarmers\\Black\\2ft\\45C\n",
      "C:/Users/fm873/Documents/Repos/LidarAnalysis/Results\\Handwarmers\\Black\\2ft\\Ambient\n",
      "C:/Users/fm873/Documents/Repos/LidarAnalysis/Results\\Handwarmers\\Black\\4ft\\40C\n",
      "C:/Users/fm873/Documents/Repos/LidarAnalysis/Results\\Handwarmers\\Black\\4ft\\45C\n",
      "C:/Users/fm873/Documents/Repos/LidarAnalysis/Results\\Handwarmers\\Black\\4ft\\Ambient\n",
      "C:/Users/fm873/Documents/Repos/LidarAnalysis/Results\\Handwarmers\\Black\\6ft\\40C\n",
      "C:/Users/fm873/Documents/Repos/LidarAnalysis/Results\\Handwarmers\\Black\\6ft\\50C\n",
      "C:/Users/fm873/Documents/Repos/LidarAnalysis/Results\\Handwarmers\\Black\\6ft\\Ambient\n",
      "C:/Users/fm873/Documents/Repos/LidarAnalysis/Results\\Handwarmers\\Blue\\2ft\\40C\n",
      "C:/Users/fm873/Documents/Repos/LidarAnalysis/Results\\Handwarmers\\Blue\\2ft\\45C\n",
      "C:/Users/fm873/Documents/Repos/LidarAnalysis/Results\\Handwarmers\\Blue\\2ft\\Ambient\n",
      "C:/Users/fm873/Documents/Repos/LidarAnalysis/Results\\Handwarmers\\Blue\\4ft\\40C\n",
      "C:/Users/fm873/Documents/Repos/LidarAnalysis/Results\\Handwarmers\\Blue\\4ft\\45C\n",
      "C:/Users/fm873/Documents/Repos/LidarAnalysis/Results\\Handwarmers\\Blue\\4ft\\Ambient\n",
      "C:/Users/fm873/Documents/Repos/LidarAnalysis/Results\\Handwarmers\\Blue\\6ft\\40C\n",
      "C:/Users/fm873/Documents/Repos/LidarAnalysis/Results\\Handwarmers\\Blue\\6ft\\50C\n",
      "C:/Users/fm873/Documents/Repos/LidarAnalysis/Results\\Handwarmers\\Blue\\6ft\\Ambient\n",
      "C:/Users/fm873/Documents/Repos/LidarAnalysis/Results\\Handwarmers\\RoseGold\\2ft\\40C\n",
      "C:/Users/fm873/Documents/Repos/LidarAnalysis/Results\\Handwarmers\\RoseGold\\2ft\\45C\n",
      "C:/Users/fm873/Documents/Repos/LidarAnalysis/Results\\Handwarmers\\RoseGold\\2ft\\Ambient\n",
      "C:/Users/fm873/Documents/Repos/LidarAnalysis/Results\\Handwarmers\\RoseGold\\4ft\\40C\n",
      "C:/Users/fm873/Documents/Repos/LidarAnalysis/Results\\Handwarmers\\RoseGold\\4ft\\45C\n",
      "C:/Users/fm873/Documents/Repos/LidarAnalysis/Results\\Handwarmers\\RoseGold\\4ft\\Ambient\n",
      "C:/Users/fm873/Documents/Repos/LidarAnalysis/Results\\Handwarmers\\RoseGold\\6ft\\40C\n",
      "C:/Users/fm873/Documents/Repos/LidarAnalysis/Results\\Handwarmers\\RoseGold\\6ft\\50C\n",
      "C:/Users/fm873/Documents/Repos/LidarAnalysis/Results\\Handwarmers\\RoseGold\\6ft\\Ambient\n",
      "C:/Users/fm873/Documents/Repos/LidarAnalysis/Results\\Handwarmers\\Silver\\2ft\\40C\n",
      "C:/Users/fm873/Documents/Repos/LidarAnalysis/Results\\Handwarmers\\Silver\\2ft\\45C\n",
      "C:/Users/fm873/Documents/Repos/LidarAnalysis/Results\\Handwarmers\\Silver\\2ft\\Ambient\n",
      "C:/Users/fm873/Documents/Repos/LidarAnalysis/Results\\Handwarmers\\Silver\\4ft\\40C\n",
      "C:/Users/fm873/Documents/Repos/LidarAnalysis/Results\\Handwarmers\\Silver\\4ft\\45C\n",
      "C:/Users/fm873/Documents/Repos/LidarAnalysis/Results\\Handwarmers\\Silver\\4ft\\Ambient\n",
      "C:/Users/fm873/Documents/Repos/LidarAnalysis/Results\\Handwarmers\\Silver\\6ft\\40C\n",
      "C:/Users/fm873/Documents/Repos/LidarAnalysis/Results\\Handwarmers\\Silver\\6ft\\50C\n",
      "C:/Users/fm873/Documents/Repos/LidarAnalysis/Results\\Handwarmers\\Silver\\6ft\\Ambient\n"
     ]
    },
    {
     "ename": "KeyboardInterrupt",
     "evalue": "",
     "output_type": "error",
     "traceback": [
      "\u001b[1;31m---------------------------------------------------------------------------\u001b[0m",
      "\u001b[1;31mKeyboardInterrupt\u001b[0m                         Traceback (most recent call last)",
      "\u001b[1;32m<ipython-input-1-2099ecd168b3>\u001b[0m in \u001b[0;36m<module>\u001b[1;34m\u001b[0m\n\u001b[0;32m      4\u001b[0m \u001b[1;31m#%matplotlib inline\u001b[0m\u001b[1;33m\u001b[0m\u001b[1;33m\u001b[0m\u001b[1;33m\u001b[0m\u001b[0m\n\u001b[0;32m      5\u001b[0m \u001b[1;33m\u001b[0m\u001b[0m\n\u001b[1;32m----> 6\u001b[1;33m \u001b[0mcombinedData\u001b[0m  \u001b[1;33m=\u001b[0m \u001b[0mcombineCode\u001b[0m\u001b[1;33m.\u001b[0m\u001b[0mtraverseDirectoriesAndProcess\u001b[0m\u001b[1;33m(\u001b[0m\u001b[1;34m'l'\u001b[0m\u001b[1;33m)\u001b[0m\u001b[1;33m\u001b[0m\u001b[1;33m\u001b[0m\u001b[0m\n\u001b[0m\u001b[0;32m      7\u001b[0m \u001b[0mprint\u001b[0m\u001b[1;33m(\u001b[0m\u001b[1;34m\"test\"\u001b[0m\u001b[1;33m)\u001b[0m\u001b[1;33m\u001b[0m\u001b[1;33m\u001b[0m\u001b[0m\n\u001b[0;32m      8\u001b[0m \u001b[0mdfCombined\u001b[0m \u001b[1;33m=\u001b[0m \u001b[0mcombineCode\u001b[0m\u001b[1;33m.\u001b[0m\u001b[0mgetDataFrame\u001b[0m\u001b[1;33m(\u001b[0m\u001b[0mcombinedData\u001b[0m\u001b[1;33m)\u001b[0m\u001b[1;33m\u001b[0m\u001b[1;33m\u001b[0m\u001b[0m\n",
      "\u001b[1;32m~\\Documents\\Repos\\LidarAnalysis\\Analysis\\combineCode.py\u001b[0m in \u001b[0;36mtraverseDirectoriesAndProcess\u001b[1;34m(filepath)\u001b[0m\n\u001b[0;32m    277\u001b[0m                 \u001b[1;31m#    json.dump(newJsonData, fd)\u001b[0m\u001b[1;33m\u001b[0m\u001b[1;33m\u001b[0m\u001b[1;33m\u001b[0m\u001b[0m\n\u001b[0;32m    278\u001b[0m \u001b[1;33m\u001b[0m\u001b[0m\n\u001b[1;32m--> 279\u001b[1;33m     \u001b[0mmodels\u001b[0m\u001b[1;33m.\u001b[0m\u001b[0mfitData\u001b[0m\u001b[1;33m(\u001b[0m\u001b[0mtrainingJSON\u001b[0m\u001b[1;33m,\u001b[0m \u001b[0mtestJSON\u001b[0m\u001b[1;33m)\u001b[0m\u001b[1;33m\u001b[0m\u001b[1;33m\u001b[0m\u001b[0m\n\u001b[0m\u001b[0;32m    280\u001b[0m \u001b[1;33m\u001b[0m\u001b[0m\n\u001b[0;32m    281\u001b[0m     \u001b[1;31m#plo5 = plotter.Plotter(masterJSON)\u001b[0m\u001b[1;33m\u001b[0m\u001b[1;33m\u001b[0m\u001b[1;33m\u001b[0m\u001b[0m\n",
      "\u001b[1;32m~\\Documents\\Repos\\LidarAnalysis\\Analysis\\models.py\u001b[0m in \u001b[0;36mfitData\u001b[1;34m(training, test)\u001b[0m\n\u001b[0;32m     35\u001b[0m         \u001b[1;32mfor\u001b[0m \u001b[0mi\u001b[0m \u001b[1;32min\u001b[0m \u001b[0mtraining\u001b[0m\u001b[1;33m[\u001b[0m\u001b[1;34m\"area\"\u001b[0m\u001b[1;33m]\u001b[0m\u001b[1;33m:\u001b[0m\u001b[1;33m\u001b[0m\u001b[1;33m\u001b[0m\u001b[0m\n\u001b[0;32m     36\u001b[0m             \u001b[1;32mif\u001b[0m \u001b[1;33m(\u001b[0m\u001b[0mmath\u001b[0m\u001b[1;33m.\u001b[0m\u001b[0minf\u001b[0m \u001b[1;32min\u001b[0m \u001b[0mi\u001b[0m\u001b[1;33m)\u001b[0m \u001b[1;32mor\u001b[0m \u001b[1;33m(\u001b[0m\u001b[0mmath\u001b[0m\u001b[1;33m.\u001b[0m\u001b[0mnan\u001b[0m \u001b[1;32min\u001b[0m \u001b[0mi\u001b[0m\u001b[1;33m)\u001b[0m\u001b[1;33m:\u001b[0m\u001b[1;33m\u001b[0m\u001b[1;33m\u001b[0m\u001b[0m\n\u001b[1;32m---> 37\u001b[1;33m                 \u001b[1;32mreturn\u001b[0m\u001b[1;33m\u001b[0m\u001b[1;33m\u001b[0m\u001b[0m\n\u001b[0m\u001b[0;32m     38\u001b[0m         \u001b[1;32mfor\u001b[0m \u001b[0mi\u001b[0m \u001b[1;32min\u001b[0m \u001b[0mtraining\u001b[0m\u001b[1;33m[\u001b[0m\u001b[1;34m\"distance\"\u001b[0m\u001b[1;33m]\u001b[0m\u001b[1;33m:\u001b[0m\u001b[1;33m\u001b[0m\u001b[1;33m\u001b[0m\u001b[0m\n\u001b[0;32m     39\u001b[0m             \u001b[1;32mif\u001b[0m \u001b[1;33m(\u001b[0m\u001b[0mmath\u001b[0m\u001b[1;33m.\u001b[0m\u001b[0minf\u001b[0m \u001b[1;32min\u001b[0m \u001b[0mi\u001b[0m\u001b[1;33m)\u001b[0m \u001b[1;32mor\u001b[0m \u001b[1;33m(\u001b[0m\u001b[0mmath\u001b[0m\u001b[1;33m.\u001b[0m\u001b[0mnan\u001b[0m \u001b[1;32min\u001b[0m \u001b[0mi\u001b[0m\u001b[1;33m)\u001b[0m\u001b[1;33m:\u001b[0m\u001b[1;33m\u001b[0m\u001b[1;33m\u001b[0m\u001b[0m\n",
      "\u001b[1;32mC:\\ProgramData\\Anaconda3\\lib\\site-packages\\scipy\\optimize\\minpack.py\u001b[0m in \u001b[0;36mcurve_fit\u001b[1;34m(f, xdata, ydata, p0, sigma, absolute_sigma, check_finite, bounds, method, jac, **kwargs)\u001b[0m\n\u001b[0;32m    742\u001b[0m         \u001b[1;31m# Remove full_output from kwargs, otherwise we're passing it in twice.\u001b[0m\u001b[1;33m\u001b[0m\u001b[1;33m\u001b[0m\u001b[1;33m\u001b[0m\u001b[0m\n\u001b[0;32m    743\u001b[0m         \u001b[0mreturn_full\u001b[0m \u001b[1;33m=\u001b[0m \u001b[0mkwargs\u001b[0m\u001b[1;33m.\u001b[0m\u001b[0mpop\u001b[0m\u001b[1;33m(\u001b[0m\u001b[1;34m'full_output'\u001b[0m\u001b[1;33m,\u001b[0m \u001b[1;32mFalse\u001b[0m\u001b[1;33m)\u001b[0m\u001b[1;33m\u001b[0m\u001b[1;33m\u001b[0m\u001b[0m\n\u001b[1;32m--> 744\u001b[1;33m         \u001b[0mres\u001b[0m \u001b[1;33m=\u001b[0m \u001b[0mleastsq\u001b[0m\u001b[1;33m(\u001b[0m\u001b[0mfunc\u001b[0m\u001b[1;33m,\u001b[0m \u001b[0mp0\u001b[0m\u001b[1;33m,\u001b[0m \u001b[0mDfun\u001b[0m\u001b[1;33m=\u001b[0m\u001b[0mjac\u001b[0m\u001b[1;33m,\u001b[0m \u001b[0mfull_output\u001b[0m\u001b[1;33m=\u001b[0m\u001b[1;36m1\u001b[0m\u001b[1;33m,\u001b[0m \u001b[1;33m**\u001b[0m\u001b[0mkwargs\u001b[0m\u001b[1;33m)\u001b[0m\u001b[1;33m\u001b[0m\u001b[1;33m\u001b[0m\u001b[0m\n\u001b[0m\u001b[0;32m    745\u001b[0m         \u001b[0mpopt\u001b[0m\u001b[1;33m,\u001b[0m \u001b[0mpcov\u001b[0m\u001b[1;33m,\u001b[0m \u001b[0minfodict\u001b[0m\u001b[1;33m,\u001b[0m \u001b[0merrmsg\u001b[0m\u001b[1;33m,\u001b[0m \u001b[0mier\u001b[0m \u001b[1;33m=\u001b[0m \u001b[0mres\u001b[0m\u001b[1;33m\u001b[0m\u001b[1;33m\u001b[0m\u001b[0m\n\u001b[0;32m    746\u001b[0m         \u001b[0mcost\u001b[0m \u001b[1;33m=\u001b[0m \u001b[0mnp\u001b[0m\u001b[1;33m.\u001b[0m\u001b[0msum\u001b[0m\u001b[1;33m(\u001b[0m\u001b[0minfodict\u001b[0m\u001b[1;33m[\u001b[0m\u001b[1;34m'fvec'\u001b[0m\u001b[1;33m]\u001b[0m \u001b[1;33m**\u001b[0m \u001b[1;36m2\u001b[0m\u001b[1;33m)\u001b[0m\u001b[1;33m\u001b[0m\u001b[1;33m\u001b[0m\u001b[0m\n",
      "\u001b[1;32mC:\\ProgramData\\Anaconda3\\lib\\site-packages\\scipy\\optimize\\minpack.py\u001b[0m in \u001b[0;36mleastsq\u001b[1;34m(func, x0, args, Dfun, full_output, col_deriv, ftol, xtol, gtol, maxfev, epsfcn, factor, diag)\u001b[0m\n\u001b[0;32m    392\u001b[0m             \u001b[0mmaxfev\u001b[0m \u001b[1;33m=\u001b[0m \u001b[1;36m200\u001b[0m\u001b[1;33m*\u001b[0m\u001b[1;33m(\u001b[0m\u001b[0mn\u001b[0m \u001b[1;33m+\u001b[0m \u001b[1;36m1\u001b[0m\u001b[1;33m)\u001b[0m\u001b[1;33m\u001b[0m\u001b[1;33m\u001b[0m\u001b[0m\n\u001b[0;32m    393\u001b[0m         retval = _minpack._lmdif(func, x0, args, full_output, ftol, xtol,\n\u001b[1;32m--> 394\u001b[1;33m                                  gtol, maxfev, epsfcn, factor, diag)\n\u001b[0m\u001b[0;32m    395\u001b[0m     \u001b[1;32melse\u001b[0m\u001b[1;33m:\u001b[0m\u001b[1;33m\u001b[0m\u001b[1;33m\u001b[0m\u001b[0m\n\u001b[0;32m    396\u001b[0m         \u001b[1;32mif\u001b[0m \u001b[0mcol_deriv\u001b[0m\u001b[1;33m:\u001b[0m\u001b[1;33m\u001b[0m\u001b[1;33m\u001b[0m\u001b[0m\n",
      "\u001b[1;32mC:\\ProgramData\\Anaconda3\\lib\\site-packages\\scipy\\optimize\\minpack.py\u001b[0m in \u001b[0;36mfunc_wrapped\u001b[1;34m(params)\u001b[0m\n\u001b[0;32m    454\u001b[0m     \u001b[1;32mif\u001b[0m \u001b[0mtransform\u001b[0m \u001b[1;32mis\u001b[0m \u001b[1;32mNone\u001b[0m\u001b[1;33m:\u001b[0m\u001b[1;33m\u001b[0m\u001b[1;33m\u001b[0m\u001b[0m\n\u001b[0;32m    455\u001b[0m         \u001b[1;32mdef\u001b[0m \u001b[0mfunc_wrapped\u001b[0m\u001b[1;33m(\u001b[0m\u001b[0mparams\u001b[0m\u001b[1;33m)\u001b[0m\u001b[1;33m:\u001b[0m\u001b[1;33m\u001b[0m\u001b[1;33m\u001b[0m\u001b[0m\n\u001b[1;32m--> 456\u001b[1;33m             \u001b[1;32mreturn\u001b[0m \u001b[0mfunc\u001b[0m\u001b[1;33m(\u001b[0m\u001b[0mxdata\u001b[0m\u001b[1;33m,\u001b[0m \u001b[1;33m*\u001b[0m\u001b[0mparams\u001b[0m\u001b[1;33m)\u001b[0m \u001b[1;33m-\u001b[0m \u001b[0mydata\u001b[0m\u001b[1;33m\u001b[0m\u001b[1;33m\u001b[0m\u001b[0m\n\u001b[0m\u001b[0;32m    457\u001b[0m     \u001b[1;32melif\u001b[0m \u001b[0mtransform\u001b[0m\u001b[1;33m.\u001b[0m\u001b[0mndim\u001b[0m \u001b[1;33m==\u001b[0m \u001b[1;36m1\u001b[0m\u001b[1;33m:\u001b[0m\u001b[1;33m\u001b[0m\u001b[1;33m\u001b[0m\u001b[0m\n\u001b[0;32m    458\u001b[0m         \u001b[1;32mdef\u001b[0m \u001b[0mfunc_wrapped\u001b[0m\u001b[1;33m(\u001b[0m\u001b[0mparams\u001b[0m\u001b[1;33m)\u001b[0m\u001b[1;33m:\u001b[0m\u001b[1;33m\u001b[0m\u001b[1;33m\u001b[0m\u001b[0m\n",
      "\u001b[1;32m~\\Documents\\Repos\\LidarAnalysis\\Analysis\\models.py\u001b[0m in \u001b[0;36mLinearCombinedModel\u001b[1;34m(X, c, a)\u001b[0m\n\u001b[0;32m     49\u001b[0m                 \u001b[1;32mreturn\u001b[0m\u001b[1;33m\u001b[0m\u001b[1;33m\u001b[0m\u001b[0m\n\u001b[0;32m     50\u001b[0m \u001b[1;33m\u001b[0m\u001b[0m\n\u001b[1;32m---> 51\u001b[1;33m     \u001b[1;32mfor\u001b[0m \u001b[0mi\u001b[0m \u001b[1;32min\u001b[0m \u001b[0mrange\u001b[0m\u001b[1;33m(\u001b[0m\u001b[1;36m1\u001b[0m\u001b[1;33m,\u001b[0m\u001b[1;36m10000\u001b[0m\u001b[1;33m)\u001b[0m\u001b[1;33m:\u001b[0m\u001b[1;33m\u001b[0m\u001b[1;33m\u001b[0m\u001b[0m\n\u001b[0m\u001b[0;32m     52\u001b[0m         \u001b[1;32mfor\u001b[0m \u001b[0mj\u001b[0m \u001b[1;32min\u001b[0m \u001b[0mrange\u001b[0m\u001b[1;33m(\u001b[0m\u001b[1;36m1\u001b[0m\u001b[1;33m,\u001b[0m\u001b[1;36m10000\u001b[0m\u001b[1;33m)\u001b[0m\u001b[1;33m:\u001b[0m\u001b[1;33m\u001b[0m\u001b[1;33m\u001b[0m\u001b[0m\n\u001b[0;32m     53\u001b[0m             \u001b[1;32mif\u001b[0m \u001b[0mi\u001b[0m \u001b[1;33m!=\u001b[0m \u001b[1;36m0\u001b[0m \u001b[1;32mand\u001b[0m \u001b[0mj\u001b[0m \u001b[1;33m!=\u001b[0m \u001b[1;36m0\u001b[0m\u001b[1;33m:\u001b[0m\u001b[1;33m\u001b[0m\u001b[1;33m\u001b[0m\u001b[0m\n",
      "\u001b[1;31mKeyboardInterrupt\u001b[0m: "
     ]
    }
   ],
   "source": [
    "import combineCode\n",
    "import seaborn as sns\n",
    "import matplotlib.pyplot as plt\n",
    "#%matplotlib inline\n",
    "\n",
    "combinedData  = combineCode.traverseDirectoriesAndProcess('l')\n",
    "print(\"test\")\n",
    "dfCombined = combineCode.getDataFrame(combinedData)\n",
    "print(\"t2\")\n",
    "normalizedData = combineCode.getNormalizedData(combinedData)\n",
    "print(\"t3\")\n",
    "dfNormalized = combineCode.getDataFrame(normalizedData)\n",
    "print(\"t4\")\n",
    "percentages = combineCode.getPercentageOfExpectedPoints(combinedData)\n",
    "print(\"t5\")\n",
    "dfPercentages = combineCode.getDataFrame(percentages)\n",
    "print(\"t6\")\n",
    "\n",
    "#plot\n",
    "#sns.pairplot(dfCombined)\n",
    "#sns.pairplot(dfNormalized)\n",
    "#sns.pairplot(dfPercentages)\n",
    "'''sns.set(style=\"darkgrid\")\n",
    "g = sns.PairGrid(dfNormalized)\n",
    "print(\"t5\")\n",
    "g.map(sns.scatterplot)\n",
    "print(\"t6\")\n",
    "plt.show(sns)\n",
    "print(\"hello\")'''\n",
    "\n",
    "#sns.distplot(dfNormalized[\"numberPoints\", kde=True, rug=False)\n",
    "#plt.show()\n",
    "'''color = sns.color_palette()[2]\n",
    "g = sns.jointplot(\"temperature\", \"numLidarPoints\", data=dfNormalized, kind=\"reg\",\n",
    "                  xlim=(0, 1), ylim=(0, 1), color=color, size=7)\n",
    "import matplotlib.pyplot as plt\n",
    "plt.show()'''"
   ]
  },
  {
   "cell_type": "code",
   "execution_count": null,
   "metadata": {},
   "outputs": [],
   "source": [
    "'''fig, ax = plt.subplots(subplot_kw={\"projection\": \"3d\"})\n",
    "fig.suptitle('Colors')\n",
    "ax.set_zlabel('% of Expected Lidar Points')\n",
    "ax.set_ylabel('Distance (m)') \n",
    "ax.set_xlabel('Temperatures (C)')\n",
    "\n",
    "Distances = [0.61,1.219,1.829]\n",
    "expectedY_40 = [1961,491,218]\n",
    "\n",
    "distances = [0.61,0.61,0.61,0.61,0.61,0.61,0.61,0.61,0.61,0.61,0.61,0.61,1.219,1.219,1.219,1.219,1.219,1.219,1.219,1.219,1.219,1.219,1.219,1.219,1.829,1.829,1.829,1.829,1.829,1.829,1.829,1.829,1.829,1.829,1.829,1.829]\n",
    "temperatures = [21,40,45,21,40,45,21,40,45,21,40,45,21,40,45,21,40,45,21,40,45,21,40,45,21,40,50,21,40,50,21,40,50,21,40,50]\n",
    "percentageOfExpectedPoints = [60,50,54,53,56,61,50,60,68,53,52,54,64,137,122,55,118,100,59,144,134,61,98,92,96,83,85,72,69,71,72,87,97,111,90,71]\n",
    "colors=[1,1,1,2,2,2,3,3,3,4,4,4,1,1,1,2,2,2,3,3,3,4,4,4,1,1,1,2,2,2,3,3,3,4,4,4,1,1,1,2,2,2,3,3,3,4,4,4]\n",
    "ax.scatter(temperatures, distances, percentageOfExpectedPoints) \n",
    "\n",
    "plt.show()'''\n"
   ]
  },
  {
   "cell_type": "code",
   "execution_count": null,
   "metadata": {},
   "outputs": [],
   "source": []
  }
 ],
 "metadata": {
  "kernelspec": {
   "display_name": "Python 3",
   "language": "python",
   "name": "python3"
  },
  "language_info": {
   "codemirror_mode": {
    "name": "ipython",
    "version": 3
   },
   "file_extension": ".py",
   "mimetype": "text/x-python",
   "name": "python",
   "nbconvert_exporter": "python",
   "pygments_lexer": "ipython3",
   "version": "3.7.3"
  }
 },
 "nbformat": 4,
 "nbformat_minor": 2
}
