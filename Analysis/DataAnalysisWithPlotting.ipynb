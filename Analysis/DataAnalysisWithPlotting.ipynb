{
 "cells": [
  {
   "cell_type": "code",
   "execution_count": 1,
   "metadata": {
    "scrolled": true
   },
   "outputs": [
    {
     "name": "stdout",
     "output_type": "stream",
     "text": [
      "C:/Users/fm873/Documents/Repos/LidarAnalysis/Results\n",
      "C:/Users/fm873/Documents/Repos/LidarAnalysis/Results\\Cubes\\160mm\\2ft\n",
      "17205.406121706594\n",
      "Max:\n",
      "6883\n",
      "temp size:\n",
      "6883\n",
      "humid size:\n",
      "6883\n",
      "light size:\n",
      "6883\n",
      "point num size:\n",
      "6883\n",
      "writing file to: C:/Users/fm873/Documents/Repos/LidarAnalysis/Results\\Cubes\\160mm\\2ft\\Scatter_NoZero\n",
      "['area', 'distance', 'objectTemperature', 'red', 'blue', 'green', 'temperature', 'humidity', 'light', 'numLidarPoints']\n",
      "C:/Users/fm873/Documents/Repos/LidarAnalysis/Results\\Cubes\\160mm\\2ft\\Scatter_NoZero\n",
      "C:/Users/fm873/Documents/Repos/LidarAnalysis/Results\\Cubes\\160mm\\2ft\\Scatter_NoZero\n"
     ]
    },
    {
     "name": "stderr",
     "output_type": "stream",
     "text": [
      "C:\\Users\\fm873\\Documents\\Repos\\LidarAnalysis\\Analysis\\plotter.py:38: RankWarning: Polyfit may be poorly conditioned\n",
      "  z = np.polyfit(self.df[key], self.df[primeKey], 1)\n",
      "C:\\Users\\fm873\\Documents\\Repos\\LidarAnalysis\\Analysis\\plotter.py:38: RankWarning: Polyfit may be poorly conditioned\n",
      "  z = np.polyfit(self.df[key], self.df[primeKey], 1)\n"
     ]
    },
    {
     "name": "stdout",
     "output_type": "stream",
     "text": [
      "C:/Users/fm873/Documents/Repos/LidarAnalysis/Results\\Cubes\\160mm\\2ft\\Scatter_NoZero\n",
      "C:/Users/fm873/Documents/Repos/LidarAnalysis/Results\\Cubes\\160mm\\2ft\\Scatter_NoZero\n"
     ]
    },
    {
     "name": "stderr",
     "output_type": "stream",
     "text": [
      "C:\\Users\\fm873\\Documents\\Repos\\LidarAnalysis\\Analysis\\plotter.py:38: RankWarning: Polyfit may be poorly conditioned\n",
      "  z = np.polyfit(self.df[key], self.df[primeKey], 1)\n",
      "C:\\Users\\fm873\\Documents\\Repos\\LidarAnalysis\\Analysis\\plotter.py:38: RankWarning: Polyfit may be poorly conditioned\n",
      "  z = np.polyfit(self.df[key], self.df[primeKey], 1)\n"
     ]
    },
    {
     "name": "stdout",
     "output_type": "stream",
     "text": [
      "C:/Users/fm873/Documents/Repos/LidarAnalysis/Results\\Cubes\\160mm\\2ft\\Scatter_NoZero\n",
      "C:/Users/fm873/Documents/Repos/LidarAnalysis/Results\\Cubes\\160mm\\2ft\\Scatter_NoZero\n"
     ]
    },
    {
     "name": "stderr",
     "output_type": "stream",
     "text": [
      "C:\\Users\\fm873\\Documents\\Repos\\LidarAnalysis\\Analysis\\plotter.py:38: RankWarning: Polyfit may be poorly conditioned\n",
      "  z = np.polyfit(self.df[key], self.df[primeKey], 1)\n",
      "C:\\Users\\fm873\\Documents\\Repos\\LidarAnalysis\\Analysis\\plotter.py:38: RankWarning: Polyfit may be poorly conditioned\n",
      "  z = np.polyfit(self.df[key], self.df[primeKey], 1)\n"
     ]
    },
    {
     "name": "stdout",
     "output_type": "stream",
     "text": [
      "C:/Users/fm873/Documents/Repos/LidarAnalysis/Results\\Cubes\\160mm\\2ft\\Scatter_NoZero\n",
      "C:/Users/fm873/Documents/Repos/LidarAnalysis/Results\\Cubes\\160mm\\2ft\\Scatter_NoZero\n",
      "C:/Users/fm873/Documents/Repos/LidarAnalysis/Results\\Cubes\\160mm\\2ft\\Scatter_NoZero\n",
      "writing file to: C:/Users/fm873/Documents/Repos/LidarAnalysis/Results\\Cubes\\160mm\\2ft\\Histograms\n",
      "['area', 'distance', 'objectTemperature', 'red', 'blue', 'green', 'temperature', 'humidity', 'light', 'numLidarPoints']\n",
      "C:/Users/fm873/Documents/Repos/LidarAnalysis/Results\\Cubes\\160mm\\6ft\n",
      "2140.941694537347\n",
      "Max:\n",
      "3963\n",
      "temp size:\n",
      "3963\n",
      "humid size:\n",
      "3963\n",
      "light size:\n",
      "3963\n",
      "point num size:\n",
      "3963\n",
      "writing file to: C:/Users/fm873/Documents/Repos/LidarAnalysis/Results\\Cubes\\160mm\\6ft\\Scatter_NoZero\n",
      "['area', 'distance', 'objectTemperature', 'red', 'blue', 'green', 'temperature', 'humidity', 'light', 'numLidarPoints']\n",
      "C:/Users/fm873/Documents/Repos/LidarAnalysis/Results\\Cubes\\160mm\\6ft\\Scatter_NoZero\n",
      "C:/Users/fm873/Documents/Repos/LidarAnalysis/Results\\Cubes\\160mm\\6ft\\Scatter_NoZero\n"
     ]
    },
    {
     "name": "stderr",
     "output_type": "stream",
     "text": [
      "C:\\Users\\fm873\\Documents\\Repos\\LidarAnalysis\\Analysis\\plotter.py:34: RuntimeWarning: More than 20 figures have been opened. Figures created through the pyplot interface (`matplotlib.pyplot.figure`) are retained until explicitly closed and may consume too much memory. (To control this warning, see the rcParam `figure.max_open_warning`).\n",
      "  fig, ax = plt.subplots(1,1)\n",
      "C:\\Users\\fm873\\Documents\\Repos\\LidarAnalysis\\Analysis\\plotter.py:38: RankWarning: Polyfit may be poorly conditioned\n",
      "  z = np.polyfit(self.df[key], self.df[primeKey], 1)\n",
      "C:\\Users\\fm873\\Documents\\Repos\\LidarAnalysis\\Analysis\\plotter.py:38: RankWarning: Polyfit may be poorly conditioned\n",
      "  z = np.polyfit(self.df[key], self.df[primeKey], 1)\n"
     ]
    },
    {
     "name": "stdout",
     "output_type": "stream",
     "text": [
      "C:/Users/fm873/Documents/Repos/LidarAnalysis/Results\\Cubes\\160mm\\6ft\\Scatter_NoZero\n",
      "C:/Users/fm873/Documents/Repos/LidarAnalysis/Results\\Cubes\\160mm\\6ft\\Scatter_NoZero\n"
     ]
    },
    {
     "name": "stderr",
     "output_type": "stream",
     "text": [
      "C:\\Users\\fm873\\Documents\\Repos\\LidarAnalysis\\Analysis\\plotter.py:38: RankWarning: Polyfit may be poorly conditioned\n",
      "  z = np.polyfit(self.df[key], self.df[primeKey], 1)\n",
      "C:\\Users\\fm873\\Documents\\Repos\\LidarAnalysis\\Analysis\\plotter.py:38: RankWarning: Polyfit may be poorly conditioned\n",
      "  z = np.polyfit(self.df[key], self.df[primeKey], 1)\n"
     ]
    },
    {
     "name": "stdout",
     "output_type": "stream",
     "text": [
      "C:/Users/fm873/Documents/Repos/LidarAnalysis/Results\\Cubes\\160mm\\6ft\\Scatter_NoZero\n",
      "C:/Users/fm873/Documents/Repos/LidarAnalysis/Results\\Cubes\\160mm\\6ft\\Scatter_NoZero\n"
     ]
    },
    {
     "name": "stderr",
     "output_type": "stream",
     "text": [
      "C:\\Users\\fm873\\Documents\\Repos\\LidarAnalysis\\Analysis\\plotter.py:38: RankWarning: Polyfit may be poorly conditioned\n",
      "  z = np.polyfit(self.df[key], self.df[primeKey], 1)\n",
      "C:\\Users\\fm873\\Documents\\Repos\\LidarAnalysis\\Analysis\\plotter.py:38: RankWarning: Polyfit may be poorly conditioned\n",
      "  z = np.polyfit(self.df[key], self.df[primeKey], 1)\n"
     ]
    },
    {
     "name": "stdout",
     "output_type": "stream",
     "text": [
      "C:/Users/fm873/Documents/Repos/LidarAnalysis/Results\\Cubes\\160mm\\6ft\\Scatter_NoZero\n",
      "C:/Users/fm873/Documents/Repos/LidarAnalysis/Results\\Cubes\\160mm\\6ft\\Scatter_NoZero\n",
      "C:/Users/fm873/Documents/Repos/LidarAnalysis/Results\\Cubes\\160mm\\6ft\\Scatter_NoZero\n"
     ]
    },
    {
     "name": "stderr",
     "output_type": "stream",
     "text": [
      "C:\\Users\\fm873\\Documents\\Repos\\LidarAnalysis\\Analysis\\plotter.py:48: RuntimeWarning: More than 20 figures have been opened. Figures created through the pyplot interface (`matplotlib.pyplot.figure`) are retained until explicitly closed and may consume too much memory. (To control this warning, see the rcParam `figure.max_open_warning`).\n",
      "  fig, ax = plt.subplots(1,1)\n",
      "C:\\Users\\fm873\\Documents\\Repos\\LidarAnalysis\\Analysis\\plotter.py:64: RuntimeWarning: More than 20 figures have been opened. Figures created through the pyplot interface (`matplotlib.pyplot.figure`) are retained until explicitly closed and may consume too much memory. (To control this warning, see the rcParam `figure.max_open_warning`).\n",
      "  fig, ax = plt.subplots(1,1)\n"
     ]
    },
    {
     "name": "stdout",
     "output_type": "stream",
     "text": [
      "writing file to: C:/Users/fm873/Documents/Repos/LidarAnalysis/Results\\Cubes\\160mm\\6ft\\Histograms\n",
      "['area', 'distance', 'objectTemperature', 'red', 'blue', 'green', 'temperature', 'humidity', 'light', 'numLidarPoints']\n",
      "C:/Users/fm873/Documents/Repos/LidarAnalysis/Results\\Cubes\\40mm\\2ft\n",
      "1689.526179838034\n",
      "Max:\n",
      "0\n",
      "temp size:\n",
      "0\n",
      "humid size:\n",
      "0\n",
      "light size:\n",
      "0\n",
      "point num size:\n",
      "0\n",
      "writing file to: C:/Users/fm873/Documents/Repos/LidarAnalysis/Results\\Cubes\\40mm\\2ft\\Scatter_NoZero\n",
      "['area', 'distance', 'objectTemperature', 'red', 'blue', 'green', 'temperature', 'humidity', 'light', 'numLidarPoints']\n",
      "writing file to: C:/Users/fm873/Documents/Repos/LidarAnalysis/Results\\Cubes\\40mm\\2ft\\Histograms\n",
      "['area', 'distance', 'objectTemperature', 'red', 'blue', 'green', 'temperature', 'humidity', 'light', 'numLidarPoints']\n",
      "C:/Users/fm873/Documents/Repos/LidarAnalysis/Results\\Cubes\\40mm\\4ft\n",
      "309.7354134601931\n",
      "Max:\n",
      "0\n",
      "temp size:\n",
      "0\n",
      "humid size:\n",
      "0\n",
      "light size:\n",
      "0\n",
      "point num size:\n",
      "0\n",
      "writing file to: C:/Users/fm873/Documents/Repos/LidarAnalysis/Results\\Cubes\\40mm\\4ft\\Scatter_NoZero\n",
      "['area', 'distance', 'objectTemperature', 'red', 'blue', 'green', 'temperature', 'humidity', 'light', 'numLidarPoints']\n",
      "writing file to: C:/Users/fm873/Documents/Repos/LidarAnalysis/Results\\Cubes\\40mm\\4ft\\Histograms\n",
      "['area', 'distance', 'objectTemperature', 'red', 'blue', 'green', 'temperature', 'humidity', 'light', 'numLidarPoints']\n",
      "C:/Users/fm873/Documents/Repos/LidarAnalysis/Results\\Cubes\\80mm\\2ft\n",
      "5085.827720768897\n",
      "Max:\n",
      "3190\n",
      "temp size:\n",
      "3190\n",
      "humid size:\n",
      "3190\n",
      "light size:\n",
      "3190\n",
      "point num size:\n",
      "3190\n",
      "writing file to: C:/Users/fm873/Documents/Repos/LidarAnalysis/Results\\Cubes\\80mm\\2ft\\Scatter_NoZero\n",
      "['area', 'distance', 'objectTemperature', 'red', 'blue', 'green', 'temperature', 'humidity', 'light', 'numLidarPoints']\n",
      "C:/Users/fm873/Documents/Repos/LidarAnalysis/Results\\Cubes\\80mm\\2ft\\Scatter_NoZero\n",
      "C:/Users/fm873/Documents/Repos/LidarAnalysis/Results\\Cubes\\80mm\\2ft\\Scatter_NoZero\n"
     ]
    },
    {
     "name": "stderr",
     "output_type": "stream",
     "text": [
      "C:\\Users\\fm873\\Documents\\Repos\\LidarAnalysis\\Analysis\\plotter.py:38: RankWarning: Polyfit may be poorly conditioned\n",
      "  z = np.polyfit(self.df[key], self.df[primeKey], 1)\n",
      "C:\\Users\\fm873\\Documents\\Repos\\LidarAnalysis\\Analysis\\plotter.py:38: RankWarning: Polyfit may be poorly conditioned\n",
      "  z = np.polyfit(self.df[key], self.df[primeKey], 1)\n"
     ]
    },
    {
     "name": "stdout",
     "output_type": "stream",
     "text": [
      "C:/Users/fm873/Documents/Repos/LidarAnalysis/Results\\Cubes\\80mm\\2ft\\Scatter_NoZero\n",
      "C:/Users/fm873/Documents/Repos/LidarAnalysis/Results\\Cubes\\80mm\\2ft\\Scatter_NoZero\n"
     ]
    },
    {
     "name": "stderr",
     "output_type": "stream",
     "text": [
      "C:\\Users\\fm873\\Documents\\Repos\\LidarAnalysis\\Analysis\\plotter.py:38: RankWarning: Polyfit may be poorly conditioned\n",
      "  z = np.polyfit(self.df[key], self.df[primeKey], 1)\n",
      "C:\\Users\\fm873\\Documents\\Repos\\LidarAnalysis\\Analysis\\plotter.py:38: RankWarning: Polyfit may be poorly conditioned\n",
      "  z = np.polyfit(self.df[key], self.df[primeKey], 1)\n"
     ]
    },
    {
     "name": "stdout",
     "output_type": "stream",
     "text": [
      "C:/Users/fm873/Documents/Repos/LidarAnalysis/Results\\Cubes\\80mm\\2ft\\Scatter_NoZero\n",
      "C:/Users/fm873/Documents/Repos/LidarAnalysis/Results\\Cubes\\80mm\\2ft\\Scatter_NoZero\n"
     ]
    },
    {
     "name": "stderr",
     "output_type": "stream",
     "text": [
      "C:\\Users\\fm873\\Documents\\Repos\\LidarAnalysis\\Analysis\\plotter.py:38: RankWarning: Polyfit may be poorly conditioned\n",
      "  z = np.polyfit(self.df[key], self.df[primeKey], 1)\n",
      "C:\\Users\\fm873\\Documents\\Repos\\LidarAnalysis\\Analysis\\plotter.py:38: RankWarning: Polyfit may be poorly conditioned\n",
      "  z = np.polyfit(self.df[key], self.df[primeKey], 1)\n"
     ]
    },
    {
     "name": "stdout",
     "output_type": "stream",
     "text": [
      "C:/Users/fm873/Documents/Repos/LidarAnalysis/Results\\Cubes\\80mm\\2ft\\Scatter_NoZero\n",
      "C:/Users/fm873/Documents/Repos/LidarAnalysis/Results\\Cubes\\80mm\\2ft\\Scatter_NoZero\n",
      "C:/Users/fm873/Documents/Repos/LidarAnalysis/Results\\Cubes\\80mm\\2ft\\Scatter_NoZero\n",
      "writing file to: C:/Users/fm873/Documents/Repos/LidarAnalysis/Results\\Cubes\\80mm\\2ft\\Histograms\n",
      "['area', 'distance', 'objectTemperature', 'red', 'blue', 'green', 'temperature', 'humidity', 'light', 'numLidarPoints']\n",
      "C:/Users/fm873/Documents/Repos/LidarAnalysis/Results\\Cubes\\80mm\\4ft\n",
      "1338.3444777699365\n",
      "Max:\n",
      "4382\n",
      "temp size:\n",
      "4382\n",
      "humid size:\n",
      "4382\n",
      "light size:\n",
      "4382\n",
      "point num size:\n",
      "4382\n",
      "writing file to: C:/Users/fm873/Documents/Repos/LidarAnalysis/Results\\Cubes\\80mm\\4ft\\Scatter_NoZero\n",
      "['area', 'distance', 'objectTemperature', 'red', 'blue', 'green', 'temperature', 'humidity', 'light', 'numLidarPoints']\n",
      "C:/Users/fm873/Documents/Repos/LidarAnalysis/Results\\Cubes\\80mm\\4ft\\Scatter_NoZero\n",
      "C:/Users/fm873/Documents/Repos/LidarAnalysis/Results\\Cubes\\80mm\\4ft\\Scatter_NoZero\n"
     ]
    },
    {
     "name": "stderr",
     "output_type": "stream",
     "text": [
      "C:\\Users\\fm873\\Documents\\Repos\\LidarAnalysis\\Analysis\\plotter.py:38: RankWarning: Polyfit may be poorly conditioned\n",
      "  z = np.polyfit(self.df[key], self.df[primeKey], 1)\n",
      "C:\\Users\\fm873\\Documents\\Repos\\LidarAnalysis\\Analysis\\plotter.py:38: RankWarning: Polyfit may be poorly conditioned\n",
      "  z = np.polyfit(self.df[key], self.df[primeKey], 1)\n"
     ]
    },
    {
     "name": "stdout",
     "output_type": "stream",
     "text": [
      "C:/Users/fm873/Documents/Repos/LidarAnalysis/Results\\Cubes\\80mm\\4ft\\Scatter_NoZero\n",
      "C:/Users/fm873/Documents/Repos/LidarAnalysis/Results\\Cubes\\80mm\\4ft\\Scatter_NoZero\n"
     ]
    },
    {
     "name": "stderr",
     "output_type": "stream",
     "text": [
      "C:\\Users\\fm873\\Documents\\Repos\\LidarAnalysis\\Analysis\\plotter.py:38: RankWarning: Polyfit may be poorly conditioned\n",
      "  z = np.polyfit(self.df[key], self.df[primeKey], 1)\n",
      "C:\\Users\\fm873\\Documents\\Repos\\LidarAnalysis\\Analysis\\plotter.py:38: RankWarning: Polyfit may be poorly conditioned\n",
      "  z = np.polyfit(self.df[key], self.df[primeKey], 1)\n"
     ]
    },
    {
     "name": "stdout",
     "output_type": "stream",
     "text": [
      "C:/Users/fm873/Documents/Repos/LidarAnalysis/Results\\Cubes\\80mm\\4ft\\Scatter_NoZero\n",
      "C:/Users/fm873/Documents/Repos/LidarAnalysis/Results\\Cubes\\80mm\\4ft\\Scatter_NoZero\n"
     ]
    },
    {
     "name": "stderr",
     "output_type": "stream",
     "text": [
      "C:\\Users\\fm873\\Documents\\Repos\\LidarAnalysis\\Analysis\\plotter.py:38: RankWarning: Polyfit may be poorly conditioned\n",
      "  z = np.polyfit(self.df[key], self.df[primeKey], 1)\n",
      "C:\\Users\\fm873\\Documents\\Repos\\LidarAnalysis\\Analysis\\plotter.py:38: RankWarning: Polyfit may be poorly conditioned\n",
      "  z = np.polyfit(self.df[key], self.df[primeKey], 1)\n"
     ]
    },
    {
     "name": "stdout",
     "output_type": "stream",
     "text": [
      "C:/Users/fm873/Documents/Repos/LidarAnalysis/Results\\Cubes\\80mm\\4ft\\Scatter_NoZero\n",
      "C:/Users/fm873/Documents/Repos/LidarAnalysis/Results\\Cubes\\80mm\\4ft\\Scatter_NoZero\n",
      "C:/Users/fm873/Documents/Repos/LidarAnalysis/Results\\Cubes\\80mm\\4ft\\Scatter_NoZero\n",
      "writing file to: C:/Users/fm873/Documents/Repos/LidarAnalysis/Results\\Cubes\\80mm\\4ft\\Histograms\n",
      "['area', 'distance', 'objectTemperature', 'red', 'blue', 'green', 'temperature', 'humidity', 'light', 'numLidarPoints']\n",
      "C:/Users/fm873/Documents/Repos/LidarAnalysis/Results\\Cubes\\80mm\\6ft\n",
      "457.43271028037384\n",
      "Max:\n",
      "4331\n",
      "temp size:\n",
      "4331\n",
      "humid size:\n",
      "4331\n",
      "light size:\n",
      "4331\n",
      "point num size:\n",
      "4331\n",
      "writing file to: C:/Users/fm873/Documents/Repos/LidarAnalysis/Results\\Cubes\\80mm\\6ft\\Scatter_NoZero\n",
      "['area', 'distance', 'objectTemperature', 'red', 'blue', 'green', 'temperature', 'humidity', 'light', 'numLidarPoints']\n",
      "C:/Users/fm873/Documents/Repos/LidarAnalysis/Results\\Cubes\\80mm\\6ft\\Scatter_NoZero\n",
      "C:/Users/fm873/Documents/Repos/LidarAnalysis/Results\\Cubes\\80mm\\6ft\\Scatter_NoZero\n"
     ]
    },
    {
     "name": "stderr",
     "output_type": "stream",
     "text": [
      "C:\\Users\\fm873\\Documents\\Repos\\LidarAnalysis\\Analysis\\plotter.py:38: RankWarning: Polyfit may be poorly conditioned\n",
      "  z = np.polyfit(self.df[key], self.df[primeKey], 1)\n",
      "C:\\Users\\fm873\\Documents\\Repos\\LidarAnalysis\\Analysis\\plotter.py:38: RankWarning: Polyfit may be poorly conditioned\n",
      "  z = np.polyfit(self.df[key], self.df[primeKey], 1)\n",
      "C:\\Users\\fm873\\Documents\\Repos\\LidarAnalysis\\Analysis\\plotter.py:38: RankWarning: Polyfit may be poorly conditioned\n",
      "  z = np.polyfit(self.df[key], self.df[primeKey], 1)\n"
     ]
    },
    {
     "name": "stdout",
     "output_type": "stream",
     "text": [
      "C:/Users/fm873/Documents/Repos/LidarAnalysis/Results\\Cubes\\80mm\\6ft\\Scatter_NoZero\n",
      "C:/Users/fm873/Documents/Repos/LidarAnalysis/Results\\Cubes\\80mm\\6ft\\Scatter_NoZero\n"
     ]
    },
    {
     "name": "stderr",
     "output_type": "stream",
     "text": [
      "C:\\Users\\fm873\\Documents\\Repos\\LidarAnalysis\\Analysis\\plotter.py:38: RankWarning: Polyfit may be poorly conditioned\n",
      "  z = np.polyfit(self.df[key], self.df[primeKey], 1)\n",
      "C:\\Users\\fm873\\Documents\\Repos\\LidarAnalysis\\Analysis\\plotter.py:38: RankWarning: Polyfit may be poorly conditioned\n",
      "  z = np.polyfit(self.df[key], self.df[primeKey], 1)\n"
     ]
    },
    {
     "name": "stdout",
     "output_type": "stream",
     "text": [
      "C:/Users/fm873/Documents/Repos/LidarAnalysis/Results\\Cubes\\80mm\\6ft\\Scatter_NoZero\n",
      "C:/Users/fm873/Documents/Repos/LidarAnalysis/Results\\Cubes\\80mm\\6ft\\Scatter_NoZero\n"
     ]
    },
    {
     "name": "stderr",
     "output_type": "stream",
     "text": [
      "C:\\Users\\fm873\\Documents\\Repos\\LidarAnalysis\\Analysis\\plotter.py:38: RankWarning: Polyfit may be poorly conditioned\n",
      "  z = np.polyfit(self.df[key], self.df[primeKey], 1)\n"
     ]
    },
    {
     "name": "stdout",
     "output_type": "stream",
     "text": [
      "C:/Users/fm873/Documents/Repos/LidarAnalysis/Results\\Cubes\\80mm\\6ft\\Scatter_NoZero\n",
      "C:/Users/fm873/Documents/Repos/LidarAnalysis/Results\\Cubes\\80mm\\6ft\\Scatter_NoZero\n",
      "C:/Users/fm873/Documents/Repos/LidarAnalysis/Results\\Cubes\\80mm\\6ft\\Scatter_NoZero\n",
      "writing file to: C:/Users/fm873/Documents/Repos/LidarAnalysis/Results\\Cubes\\80mm\\6ft\\Histograms\n",
      "['area', 'distance', 'objectTemperature', 'red', 'blue', 'green', 'temperature', 'humidity', 'light', 'numLidarPoints']\n",
      "C:/Users/fm873/Documents/Repos/LidarAnalysis/Results\\Handwarmers\\Black\\2ft\\40C\n",
      "2874.282258064516\n",
      "Max:\n",
      "2293\n",
      "temp size:\n",
      "2293\n",
      "humid size:\n",
      "2293\n",
      "light size:\n",
      "2293\n",
      "point num size:\n",
      "2293\n",
      "writing file to: C:/Users/fm873/Documents/Repos/LidarAnalysis/Results\\Handwarmers\\Black\\2ft\\40C\\Scatter_NoZero\n",
      "['area', 'distance', 'objectTemperature', 'red', 'blue', 'green', 'temperature', 'humidity', 'light', 'numLidarPoints']\n",
      "C:/Users/fm873/Documents/Repos/LidarAnalysis/Results\\Handwarmers\\Black\\2ft\\40C\\Scatter_NoZero\n",
      "C:/Users/fm873/Documents/Repos/LidarAnalysis/Results\\Handwarmers\\Black\\2ft\\40C\\Scatter_NoZero\n"
     ]
    },
    {
     "name": "stderr",
     "output_type": "stream",
     "text": [
      "C:\\Users\\fm873\\Documents\\Repos\\LidarAnalysis\\Analysis\\plotter.py:38: RankWarning: Polyfit may be poorly conditioned\n",
      "  z = np.polyfit(self.df[key], self.df[primeKey], 1)\n",
      "C:\\Users\\fm873\\Documents\\Repos\\LidarAnalysis\\Analysis\\plotter.py:38: RankWarning: Polyfit may be poorly conditioned\n",
      "  z = np.polyfit(self.df[key], self.df[primeKey], 1)\n"
     ]
    },
    {
     "name": "stdout",
     "output_type": "stream",
     "text": [
      "C:/Users/fm873/Documents/Repos/LidarAnalysis/Results\\Handwarmers\\Black\\2ft\\40C\\Scatter_NoZero\n",
      "C:/Users/fm873/Documents/Repos/LidarAnalysis/Results\\Handwarmers\\Black\\2ft\\40C\\Scatter_NoZero\n",
      "Skipping plotting this one\n",
      "C:/Users/fm873/Documents/Repos/LidarAnalysis/Results\\Handwarmers\\Black\\2ft\\45C\n",
      "3145.9698147041245\n",
      "Max:\n",
      "2732\n",
      "temp size:\n",
      "2732\n",
      "humid size:\n",
      "2732\n",
      "light size:\n",
      "2732\n",
      "point num size:\n",
      "2732\n",
      "writing file to: C:/Users/fm873/Documents/Repos/LidarAnalysis/Results\\Handwarmers\\Black\\2ft\\45C\\Scatter_NoZero\n",
      "['area', 'distance', 'objectTemperature', 'red', 'blue', 'green', 'temperature', 'humidity', 'light', 'numLidarPoints']\n",
      "C:/Users/fm873/Documents/Repos/LidarAnalysis/Results\\Handwarmers\\Black\\2ft\\45C\\Scatter_NoZero\n"
     ]
    },
    {
     "name": "stderr",
     "output_type": "stream",
     "text": [
      "C:\\Users\\fm873\\Documents\\Repos\\LidarAnalysis\\Analysis\\plotter.py:38: RankWarning: Polyfit may be poorly conditioned\n",
      "  z = np.polyfit(self.df[key], self.df[primeKey], 1)\n",
      "C:\\ProgramData\\Anaconda3\\lib\\site-packages\\numpy\\lib\\polynomial.py:627: RuntimeWarning: invalid value encountered in true_divide\n",
      "  lhs /= scale\n",
      "C:\\Users\\fm873\\Documents\\Repos\\LidarAnalysis\\Analysis\\plotter.py:38: RankWarning: Polyfit may be poorly conditioned\n",
      "  z = np.polyfit(self.df[key], self.df[primeKey], 1)\n"
     ]
    },
    {
     "name": "stdout",
     "output_type": "stream",
     "text": [
      "C:/Users/fm873/Documents/Repos/LidarAnalysis/Results\\Handwarmers\\Black\\2ft\\45C\\Scatter_NoZero\n",
      "C:/Users/fm873/Documents/Repos/LidarAnalysis/Results\\Handwarmers\\Black\\2ft\\45C\\Scatter_NoZero\n"
     ]
    },
    {
     "name": "stderr",
     "output_type": "stream",
     "text": [
      "C:\\Users\\fm873\\Documents\\Repos\\LidarAnalysis\\Analysis\\plotter.py:38: RankWarning: Polyfit may be poorly conditioned\n",
      "  z = np.polyfit(self.df[key], self.df[primeKey], 1)\n",
      "C:\\Users\\fm873\\Documents\\Repos\\LidarAnalysis\\Analysis\\plotter.py:38: RankWarning: Polyfit may be poorly conditioned\n",
      "  z = np.polyfit(self.df[key], self.df[primeKey], 1)\n"
     ]
    },
    {
     "name": "stdout",
     "output_type": "stream",
     "text": [
      "C:/Users/fm873/Documents/Repos/LidarAnalysis/Results\\Handwarmers\\Black\\2ft\\45C\\Scatter_NoZero\n",
      "Skipping plotting this one\n",
      "C:/Users/fm873/Documents/Repos/LidarAnalysis/Results\\Handwarmers\\Black\\2ft\\Ambient\n",
      "2730.036628974582\n",
      "Max:\n",
      "3849\n",
      "temp size:\n",
      "3849\n",
      "humid size:\n",
      "3849\n",
      "light size:\n",
      "3849\n",
      "point num size:\n",
      "3849\n",
      "writing file to: C:/Users/fm873/Documents/Repos/LidarAnalysis/Results\\Handwarmers\\Black\\2ft\\Ambient\\Scatter_NoZero\n",
      "['area', 'distance', 'objectTemperature', 'red', 'blue', 'green', 'temperature', 'humidity', 'light', 'numLidarPoints']\n",
      "C:/Users/fm873/Documents/Repos/LidarAnalysis/Results\\Handwarmers\\Black\\2ft\\Ambient\\Scatter_NoZero\n",
      "C:/Users/fm873/Documents/Repos/LidarAnalysis/Results\\Handwarmers\\Black\\2ft\\Ambient\\Scatter_NoZero\n"
     ]
    },
    {
     "name": "stderr",
     "output_type": "stream",
     "text": [
      "C:\\Users\\fm873\\Documents\\Repos\\LidarAnalysis\\Analysis\\plotter.py:38: RankWarning: Polyfit may be poorly conditioned\n",
      "  z = np.polyfit(self.df[key], self.df[primeKey], 1)\n",
      "C:\\Users\\fm873\\Documents\\Repos\\LidarAnalysis\\Analysis\\plotter.py:38: RankWarning: Polyfit may be poorly conditioned\n",
      "  z = np.polyfit(self.df[key], self.df[primeKey], 1)\n"
     ]
    },
    {
     "name": "stdout",
     "output_type": "stream",
     "text": [
      "C:/Users/fm873/Documents/Repos/LidarAnalysis/Results\\Handwarmers\\Black\\2ft\\Ambient\\Scatter_NoZero\n",
      "C:/Users/fm873/Documents/Repos/LidarAnalysis/Results\\Handwarmers\\Black\\2ft\\Ambient\\Scatter_NoZero\n",
      "Skipping plotting this one\n",
      "C:/Users/fm873/Documents/Repos/LidarAnalysis/Results\\Handwarmers\\Black\\4ft\\40C"
     ]
    },
    {
     "name": "stderr",
     "output_type": "stream",
     "text": [
      "C:\\Users\\fm873\\Documents\\Repos\\LidarAnalysis\\Analysis\\plotter.py:38: RankWarning: Polyfit may be poorly conditioned\n",
      "  z = np.polyfit(self.df[key], self.df[primeKey], 1)\n"
     ]
    },
    {
     "name": "stdout",
     "output_type": "stream",
     "text": [
      "\n",
      "1526.9349049964815\n",
      "Max:\n",
      "2381\n",
      "temp size:\n",
      "2381\n",
      "humid size:\n",
      "2381\n",
      "light size:\n",
      "2381\n",
      "point num size:\n",
      "2381\n",
      "writing file to: C:/Users/fm873/Documents/Repos/LidarAnalysis/Results\\Handwarmers\\Black\\4ft\\40C\\Scatter_NoZero\n",
      "['area', 'distance', 'objectTemperature', 'red', 'blue', 'green', 'temperature', 'humidity', 'light', 'numLidarPoints']\n",
      "C:/Users/fm873/Documents/Repos/LidarAnalysis/Results\\Handwarmers\\Black\\4ft\\40C\\Scatter_NoZero\n",
      "C:/Users/fm873/Documents/Repos/LidarAnalysis/Results\\Handwarmers\\Black\\4ft\\40C\\Scatter_NoZero\n"
     ]
    },
    {
     "name": "stderr",
     "output_type": "stream",
     "text": [
      "C:\\Users\\fm873\\Documents\\Repos\\LidarAnalysis\\Analysis\\plotter.py:38: RankWarning: Polyfit may be poorly conditioned\n",
      "  z = np.polyfit(self.df[key], self.df[primeKey], 1)\n",
      "C:\\Users\\fm873\\Documents\\Repos\\LidarAnalysis\\Analysis\\plotter.py:38: RankWarning: Polyfit may be poorly conditioned\n",
      "  z = np.polyfit(self.df[key], self.df[primeKey], 1)\n"
     ]
    },
    {
     "name": "stdout",
     "output_type": "stream",
     "text": [
      "C:/Users/fm873/Documents/Repos/LidarAnalysis/Results\\Handwarmers\\Black\\4ft\\40C\\Scatter_NoZero\n",
      "C:/Users/fm873/Documents/Repos/LidarAnalysis/Results\\Handwarmers\\Black\\4ft\\40C\\Scatter_NoZero\n",
      "Skipping plotting this one\n",
      "C:/Users/fm873/Documents/Repos/LidarAnalysis/Results\\Handwarmers\\Black\\4ft\\45C\n",
      "1297.7237384645591\n",
      "Max:\n",
      "3098\n",
      "temp size:\n",
      "3098\n",
      "humid size:\n",
      "3098\n",
      "light size:\n",
      "3098\n",
      "point num size:"
     ]
    },
    {
     "name": "stderr",
     "output_type": "stream",
     "text": [
      "C:\\Users\\fm873\\Documents\\Repos\\LidarAnalysis\\Analysis\\plotter.py:38: RankWarning: Polyfit may be poorly conditioned\n",
      "  z = np.polyfit(self.df[key], self.df[primeKey], 1)\n",
      "C:\\Users\\fm873\\Documents\\Repos\\LidarAnalysis\\Analysis\\plotter.py:38: RankWarning: Polyfit may be poorly conditioned\n",
      "  z = np.polyfit(self.df[key], self.df[primeKey], 1)\n"
     ]
    },
    {
     "name": "stdout",
     "output_type": "stream",
     "text": [
      "\n",
      "3098\n",
      "writing file to: C:/Users/fm873/Documents/Repos/LidarAnalysis/Results\\Handwarmers\\Black\\4ft\\45C\\Scatter_NoZero\n",
      "['area', 'distance', 'objectTemperature', 'red', 'blue', 'green', 'temperature', 'humidity', 'light', 'numLidarPoints']\n",
      "C:/Users/fm873/Documents/Repos/LidarAnalysis/Results\\Handwarmers\\Black\\4ft\\45C\\Scatter_NoZero\n",
      "C:/Users/fm873/Documents/Repos/LidarAnalysis/Results\\Handwarmers\\Black\\4ft\\45C\\Scatter_NoZero\n"
     ]
    },
    {
     "name": "stderr",
     "output_type": "stream",
     "text": [
      "C:\\Users\\fm873\\Documents\\Repos\\LidarAnalysis\\Analysis\\plotter.py:38: RankWarning: Polyfit may be poorly conditioned\n",
      "  z = np.polyfit(self.df[key], self.df[primeKey], 1)\n",
      "C:\\Users\\fm873\\Documents\\Repos\\LidarAnalysis\\Analysis\\plotter.py:38: RankWarning: Polyfit may be poorly conditioned\n",
      "  z = np.polyfit(self.df[key], self.df[primeKey], 1)\n"
     ]
    },
    {
     "name": "stdout",
     "output_type": "stream",
     "text": [
      "C:/Users/fm873/Documents/Repos/LidarAnalysis/Results\\Handwarmers\\Black\\4ft\\45C\\Scatter_NoZero\n",
      "C:/Users/fm873/Documents/Repos/LidarAnalysis/Results\\Handwarmers\\Black\\4ft\\45C\\Scatter_NoZero\n",
      "Skipping plotting this one\n",
      "C:/Users/fm873/Documents/Repos/LidarAnalysis/Results\\Handwarmers\\Black\\4ft\\Ambient\n",
      "716.4134212103056\n",
      "Max:\n",
      "2169\n",
      "temp size:\n",
      "2169\n",
      "humid size:\n",
      "2169\n",
      "light size:\n",
      "2169\n",
      "point num size:\n",
      "2169\n",
      "writing file to: C:/Users/fm873/Documents/Repos/LidarAnalysis/Results\\Handwarmers\\Black\\4ft\\Ambient\\Scatter_NoZero\n",
      "['area', 'distance', 'objectTemperature', 'red', 'blue', 'green', 'temperature', 'humidity', 'light', 'numLidarPoints']\n",
      "C:/Users/fm873/Documents/Repos/LidarAnalysis/Results\\Handwarmers\\Black\\4ft\\Ambient\\Scatter_NoZero\n",
      "C:/Users/fm873/Documents/Repos/LidarAnalysis/Results\\Handwarmers\\Black\\4ft\\Ambient\\Scatter_NoZero\n"
     ]
    },
    {
     "name": "stderr",
     "output_type": "stream",
     "text": [
      "C:\\Users\\fm873\\Documents\\Repos\\LidarAnalysis\\Analysis\\plotter.py:38: RankWarning: Polyfit may be poorly conditioned\n",
      "  z = np.polyfit(self.df[key], self.df[primeKey], 1)\n",
      "C:\\Users\\fm873\\Documents\\Repos\\LidarAnalysis\\Analysis\\plotter.py:38: RankWarning: Polyfit may be poorly conditioned\n",
      "  z = np.polyfit(self.df[key], self.df[primeKey], 1)\n"
     ]
    },
    {
     "name": "stdout",
     "output_type": "stream",
     "text": [
      "C:/Users/fm873/Documents/Repos/LidarAnalysis/Results\\Handwarmers\\Black\\4ft\\Ambient\\Scatter_NoZero\n",
      "C:/Users/fm873/Documents/Repos/LidarAnalysis/Results\\Handwarmers\\Black\\4ft\\Ambient\\Scatter_NoZero\n",
      "Skipping plotting this one\n",
      "C:/Users/fm873/Documents/Repos/LidarAnalysis/Results\\Handwarmers\\Black\\6ft\\40C\n",
      "398.3042701737295\n",
      "Max:\n",
      "2717\n",
      "temp size:\n",
      "2717\n",
      "humid size:\n",
      "2717\n",
      "light size:\n",
      "2717\n",
      "point num size:\n",
      "2717\n",
      "writing file to: C:/Users/fm873/Documents/Repos/LidarAnalysis/Results\\Handwarmers\\Black\\6ft\\40C\\Scatter_NoZero\n",
      "['area', 'distance', 'objectTemperature', 'red', 'blue', 'green', 'temperature', 'humidity', 'light', 'numLidarPoints']\n",
      "C:/Users/fm873/Documents/Repos/LidarAnalysis/Results\\Handwarmers\\Black\\6ft\\40C\\Scatter_NoZero\n"
     ]
    },
    {
     "name": "stderr",
     "output_type": "stream",
     "text": [
      "C:\\Users\\fm873\\Documents\\Repos\\LidarAnalysis\\Analysis\\plotter.py:38: RankWarning: Polyfit may be poorly conditioned\n",
      "  z = np.polyfit(self.df[key], self.df[primeKey], 1)\n",
      "C:\\Users\\fm873\\Documents\\Repos\\LidarAnalysis\\Analysis\\plotter.py:38: RankWarning: Polyfit may be poorly conditioned\n",
      "  z = np.polyfit(self.df[key], self.df[primeKey], 1)\n"
     ]
    },
    {
     "name": "stdout",
     "output_type": "stream",
     "text": [
      "C:/Users/fm873/Documents/Repos/LidarAnalysis/Results\\Handwarmers\\Black\\6ft\\40C\\Scatter_NoZero\n",
      "C:/Users/fm873/Documents/Repos/LidarAnalysis/Results\\Handwarmers\\Black\\6ft\\40C\\Scatter_NoZero\n"
     ]
    },
    {
     "name": "stderr",
     "output_type": "stream",
     "text": [
      "C:\\Users\\fm873\\Documents\\Repos\\LidarAnalysis\\Analysis\\plotter.py:38: RankWarning: Polyfit may be poorly conditioned\n",
      "  z = np.polyfit(self.df[key], self.df[primeKey], 1)\n",
      "C:\\Users\\fm873\\Documents\\Repos\\LidarAnalysis\\Analysis\\plotter.py:38: RankWarning: Polyfit may be poorly conditioned\n",
      "  z = np.polyfit(self.df[key], self.df[primeKey], 1)\n"
     ]
    },
    {
     "name": "stdout",
     "output_type": "stream",
     "text": [
      "C:/Users/fm873/Documents/Repos/LidarAnalysis/Results\\Handwarmers\\Black\\6ft\\40C\\Scatter_NoZero\n",
      "Skipping plotting this one\n",
      "C:/Users/fm873/Documents/Repos/LidarAnalysis/Results\\Handwarmers\\Black\\6ft\\50C\n",
      "407.61267605633805\n",
      "Max:\n",
      "142\n",
      "temp size:\n",
      "142\n",
      "humid size:\n",
      "142\n",
      "light size:\n",
      "142\n",
      "point num size:\n",
      "142\n",
      "writing file to: C:/Users/fm873/Documents/Repos/LidarAnalysis/Results\\Handwarmers\\Black\\6ft\\50C\\Scatter_NoZero\n",
      "['area', 'distance', 'objectTemperature', 'red', 'blue', 'green', 'temperature', 'humidity', 'light', 'numLidarPoints']\n",
      "C:/Users/fm873/Documents/Repos/LidarAnalysis/Results\\Handwarmers\\Black\\6ft\\50C\\Scatter_NoZero\n",
      "C:/Users/fm873/Documents/Repos/LidarAnalysis/Results\\Handwarmers\\Black\\6ft\\50C\\Scatter_NoZero\n"
     ]
    },
    {
     "name": "stderr",
     "output_type": "stream",
     "text": [
      "C:\\Users\\fm873\\Documents\\Repos\\LidarAnalysis\\Analysis\\plotter.py:38: RankWarning: Polyfit may be poorly conditioned\n",
      "  z = np.polyfit(self.df[key], self.df[primeKey], 1)\n",
      "C:\\Users\\fm873\\Documents\\Repos\\LidarAnalysis\\Analysis\\plotter.py:38: RankWarning: Polyfit may be poorly conditioned\n",
      "  z = np.polyfit(self.df[key], self.df[primeKey], 1)\n"
     ]
    },
    {
     "name": "stdout",
     "output_type": "stream",
     "text": [
      "C:/Users/fm873/Documents/Repos/LidarAnalysis/Results\\Handwarmers\\Black\\6ft\\50C\\Scatter_NoZero\n",
      "C:/Users/fm873/Documents/Repos/LidarAnalysis/Results\\Handwarmers\\Black\\6ft\\50C\\Scatter_NoZero\n",
      "Skipping plotting this one\n",
      "C:/Users/fm873/Documents/Repos/LidarAnalysis/Results\\Handwarmers\\Black\\6ft\\Ambient\n",
      "417.92713611742096\n",
      "Max:\n",
      "2481\n",
      "temp size:\n",
      "2481\n",
      "humid size:\n",
      "2481\n",
      "light size:\n",
      "2481\n",
      "point num size:\n",
      "2481\n",
      "writing file to: C:/Users/fm873/Documents/Repos/LidarAnalysis/Results\\Handwarmers\\Black\\6ft\\Ambient\\Scatter_NoZero\n",
      "['area', 'distance', 'objectTemperature', 'red', 'blue', 'green', 'temperature', 'humidity', 'light', 'numLidarPoints']\n",
      "C:/Users/fm873/Documents/Repos/LidarAnalysis/Results\\Handwarmers\\Black\\6ft\\Ambient\\Scatter_NoZero\n"
     ]
    },
    {
     "name": "stderr",
     "output_type": "stream",
     "text": [
      "C:\\Users\\fm873\\Documents\\Repos\\LidarAnalysis\\Analysis\\plotter.py:38: RankWarning: Polyfit may be poorly conditioned\n",
      "  z = np.polyfit(self.df[key], self.df[primeKey], 1)\n",
      "C:\\Users\\fm873\\Documents\\Repos\\LidarAnalysis\\Analysis\\plotter.py:38: RankWarning: Polyfit may be poorly conditioned\n",
      "  z = np.polyfit(self.df[key], self.df[primeKey], 1)\n"
     ]
    },
    {
     "name": "stdout",
     "output_type": "stream",
     "text": [
      "C:/Users/fm873/Documents/Repos/LidarAnalysis/Results\\Handwarmers\\Black\\6ft\\Ambient\\Scatter_NoZero\n",
      "C:/Users/fm873/Documents/Repos/LidarAnalysis/Results\\Handwarmers\\Black\\6ft\\Ambient\\Scatter_NoZero\n"
     ]
    },
    {
     "name": "stderr",
     "output_type": "stream",
     "text": [
      "C:\\Users\\fm873\\Documents\\Repos\\LidarAnalysis\\Analysis\\plotter.py:38: RankWarning: Polyfit may be poorly conditioned\n",
      "  z = np.polyfit(self.df[key], self.df[primeKey], 1)\n",
      "C:\\Users\\fm873\\Documents\\Repos\\LidarAnalysis\\Analysis\\plotter.py:38: RankWarning: Polyfit may be poorly conditioned\n",
      "  z = np.polyfit(self.df[key], self.df[primeKey], 1)\n"
     ]
    },
    {
     "name": "stdout",
     "output_type": "stream",
     "text": [
      "C:/Users/fm873/Documents/Repos/LidarAnalysis/Results\\Handwarmers\\Black\\6ft\\Ambient\\Scatter_NoZero\n",
      "Skipping plotting this one\n",
      "C:/Users/fm873/Documents/Repos/LidarAnalysis/Results\\Handwarmers\\Blue\\2ft\\40C\n",
      "3093.9900134434415\n",
      "Max:\n",
      "2293\n",
      "temp size:\n",
      "2293\n",
      "humid size:\n",
      "2293\n",
      "light size:\n",
      "2293\n",
      "point num size:\n",
      "2293\n",
      "writing file to: C:/Users/fm873/Documents/Repos/LidarAnalysis/Results\\Handwarmers\\Blue\\2ft\\40C\\Scatter_NoZero\n",
      "['area', 'distance', 'objectTemperature', 'red', 'blue', 'green', 'temperature', 'humidity', 'light', 'numLidarPoints']\n",
      "C:/Users/fm873/Documents/Repos/LidarAnalysis/Results\\Handwarmers\\Blue\\2ft\\40C\\Scatter_NoZero\n",
      "C:/Users/fm873/Documents/Repos/LidarAnalysis/Results\\Handwarmers\\Blue\\2ft\\40C\\Scatter_NoZero\n"
     ]
    },
    {
     "name": "stderr",
     "output_type": "stream",
     "text": [
      "C:\\Users\\fm873\\Documents\\Repos\\LidarAnalysis\\Analysis\\plotter.py:38: RankWarning: Polyfit may be poorly conditioned\n",
      "  z = np.polyfit(self.df[key], self.df[primeKey], 1)\n",
      "C:\\Users\\fm873\\Documents\\Repos\\LidarAnalysis\\Analysis\\plotter.py:38: RankWarning: Polyfit may be poorly conditioned\n",
      "  z = np.polyfit(self.df[key], self.df[primeKey], 1)\n"
     ]
    },
    {
     "name": "stdout",
     "output_type": "stream",
     "text": [
      "C:/Users/fm873/Documents/Repos/LidarAnalysis/Results\\Handwarmers\\Blue\\2ft\\40C\\Scatter_NoZero\n",
      "C:/Users/fm873/Documents/Repos/LidarAnalysis/Results\\Handwarmers\\Blue\\2ft\\40C\\Scatter_NoZero\n",
      "C:/Users/fm873/Documents/Repos/LidarAnalysis/Results\\Handwarmers\\Blue\\2ft\\40C\\Scatter_NoZero"
     ]
    },
    {
     "name": "stderr",
     "output_type": "stream",
     "text": [
      "C:\\Users\\fm873\\Documents\\Repos\\LidarAnalysis\\Analysis\\plotter.py:38: RankWarning: Polyfit may be poorly conditioned\n",
      "  z = np.polyfit(self.df[key], self.df[primeKey], 1)\n",
      "C:\\Users\\fm873\\Documents\\Repos\\LidarAnalysis\\Analysis\\plotter.py:38: RankWarning: Polyfit may be poorly conditioned\n",
      "  z = np.polyfit(self.df[key], self.df[primeKey], 1)\n"
     ]
    },
    {
     "name": "stdout",
     "output_type": "stream",
     "text": [
      "\n",
      "C:/Users/fm873/Documents/Repos/LidarAnalysis/Results\\Handwarmers\\Blue\\2ft\\40C\\Scatter_NoZero\n"
     ]
    },
    {
     "name": "stderr",
     "output_type": "stream",
     "text": [
      "C:\\Users\\fm873\\Documents\\Repos\\LidarAnalysis\\Analysis\\plotter.py:38: RankWarning: Polyfit may be poorly conditioned\n",
      "  z = np.polyfit(self.df[key], self.df[primeKey], 1)\n",
      "C:\\Users\\fm873\\Documents\\Repos\\LidarAnalysis\\Analysis\\plotter.py:38: RankWarning: Polyfit may be poorly conditioned\n",
      "  z = np.polyfit(self.df[key], self.df[primeKey], 1)\n"
     ]
    },
    {
     "name": "stdout",
     "output_type": "stream",
     "text": [
      "C:/Users/fm873/Documents/Repos/LidarAnalysis/Results\\Handwarmers\\Blue\\2ft\\40C\\Scatter_NoZero\n",
      "C:/Users/fm873/Documents/Repos/LidarAnalysis/Results\\Handwarmers\\Blue\\2ft\\40C\\Scatter_NoZero\n",
      "C:/Users/fm873/Documents/Repos/LidarAnalysis/Results\\Handwarmers\\Blue\\2ft\\40C\\Scatter_NoZero\n",
      "writing file to: C:/Users/fm873/Documents/Repos/LidarAnalysis/Results\\Handwarmers\\Blue\\2ft\\40C\\Histograms\n",
      "['area', 'distance', 'objectTemperature', 'red', 'blue', 'green', 'temperature', 'humidity', 'light', 'numLidarPoints']\n",
      "C:/Users/fm873/Documents/Repos/LidarAnalysis/Results\\Handwarmers\\Blue\\2ft\\45C\n",
      "3538.615005230907\n",
      "Max:\n",
      "2732\n",
      "temp size:\n",
      "2732\n",
      "humid size:\n",
      "2732\n",
      "light size:\n",
      "2732\n",
      "point num size:\n",
      "2732\n",
      "writing file to: C:/Users/fm873/Documents/Repos/LidarAnalysis/Results\\Handwarmers\\Blue\\2ft\\45C\\Scatter_NoZero\n",
      "['area', 'distance', 'objectTemperature', 'red', 'blue', 'green', 'temperature', 'humidity', 'light', 'numLidarPoints']\n",
      "C:/Users/fm873/Documents/Repos/LidarAnalysis/Results\\Handwarmers\\Blue\\2ft\\45C\\Scatter_NoZero\n",
      "C:/Users/fm873/Documents/Repos/LidarAnalysis/Results\\Handwarmers\\Blue\\2ft\\45C\\Scatter_NoZero\n"
     ]
    },
    {
     "name": "stderr",
     "output_type": "stream",
     "text": [
      "C:\\Users\\fm873\\Documents\\Repos\\LidarAnalysis\\Analysis\\plotter.py:38: RankWarning: Polyfit may be poorly conditioned\n",
      "  z = np.polyfit(self.df[key], self.df[primeKey], 1)\n",
      "C:\\Users\\fm873\\Documents\\Repos\\LidarAnalysis\\Analysis\\plotter.py:38: RankWarning: Polyfit may be poorly conditioned\n",
      "  z = np.polyfit(self.df[key], self.df[primeKey], 1)\n"
     ]
    },
    {
     "name": "stdout",
     "output_type": "stream",
     "text": [
      "C:/Users/fm873/Documents/Repos/LidarAnalysis/Results\\Handwarmers\\Blue\\2ft\\45C\\Scatter_NoZero\n",
      "C:/Users/fm873/Documents/Repos/LidarAnalysis/Results\\Handwarmers\\Blue\\2ft\\45C\\Scatter_NoZero\n"
     ]
    },
    {
     "name": "stderr",
     "output_type": "stream",
     "text": [
      "C:\\Users\\fm873\\Documents\\Repos\\LidarAnalysis\\Analysis\\plotter.py:38: RankWarning: Polyfit may be poorly conditioned\n",
      "  z = np.polyfit(self.df[key], self.df[primeKey], 1)\n",
      "C:\\Users\\fm873\\Documents\\Repos\\LidarAnalysis\\Analysis\\plotter.py:38: RankWarning: Polyfit may be poorly conditioned\n",
      "  z = np.polyfit(self.df[key], self.df[primeKey], 1)\n"
     ]
    },
    {
     "name": "stdout",
     "output_type": "stream",
     "text": [
      "C:/Users/fm873/Documents/Repos/LidarAnalysis/Results\\Handwarmers\\Blue\\2ft\\45C\\Scatter_NoZero\n",
      "C:/Users/fm873/Documents/Repos/LidarAnalysis/Results\\Handwarmers\\Blue\\2ft\\45C\\Scatter_NoZero\n"
     ]
    },
    {
     "name": "stderr",
     "output_type": "stream",
     "text": [
      "C:\\Users\\fm873\\Documents\\Repos\\LidarAnalysis\\Analysis\\plotter.py:38: RankWarning: Polyfit may be poorly conditioned\n",
      "  z = np.polyfit(self.df[key], self.df[primeKey], 1)\n",
      "C:\\Users\\fm873\\Documents\\Repos\\LidarAnalysis\\Analysis\\plotter.py:38: RankWarning: Polyfit may be poorly conditioned\n",
      "  z = np.polyfit(self.df[key], self.df[primeKey], 1)\n"
     ]
    },
    {
     "name": "stdout",
     "output_type": "stream",
     "text": [
      "C:/Users/fm873/Documents/Repos/LidarAnalysis/Results\\Handwarmers\\Blue\\2ft\\45C\\Scatter_NoZero\n",
      "C:/Users/fm873/Documents/Repos/LidarAnalysis/Results\\Handwarmers\\Blue\\2ft\\45C\\Scatter_NoZero\n",
      "C:/Users/fm873/Documents/Repos/LidarAnalysis/Results\\Handwarmers\\Blue\\2ft\\45C\\Scatter_NoZero\n",
      "writing file to: C:/Users/fm873/Documents/Repos/LidarAnalysis/Results\\Handwarmers\\Blue\\2ft\\45C\\Histograms\n",
      "['area', 'distance', 'objectTemperature', 'red', 'blue', 'green', 'temperature', 'humidity', 'light', 'numLidarPoints']\n",
      "C:/Users/fm873/Documents/Repos/LidarAnalysis/Results\\Handwarmers\\Blue\\2ft\\Ambient\n",
      "2604.8143243765708\n",
      "Max:\n",
      "3849\n",
      "temp size:\n",
      "3849\n",
      "humid size:\n",
      "3849\n",
      "light size:\n",
      "3849\n",
      "point num size:\n",
      "3849\n",
      "writing file to: C:/Users/fm873/Documents/Repos/LidarAnalysis/Results\\Handwarmers\\Blue\\2ft\\Ambient\\Scatter_NoZero\n",
      "['area', 'distance', 'objectTemperature', 'red', 'blue', 'green', 'temperature', 'humidity', 'light', 'numLidarPoints']\n",
      "C:/Users/fm873/Documents/Repos/LidarAnalysis/Results\\Handwarmers\\Blue\\2ft\\Ambient\\Scatter_NoZero\n",
      "C:/Users/fm873/Documents/Repos/LidarAnalysis/Results\\Handwarmers\\Blue\\2ft\\Ambient\\Scatter_NoZero\n"
     ]
    },
    {
     "name": "stderr",
     "output_type": "stream",
     "text": [
      "C:\\Users\\fm873\\Documents\\Repos\\LidarAnalysis\\Analysis\\plotter.py:38: RankWarning: Polyfit may be poorly conditioned\n",
      "  z = np.polyfit(self.df[key], self.df[primeKey], 1)\n",
      "C:\\Users\\fm873\\Documents\\Repos\\LidarAnalysis\\Analysis\\plotter.py:38: RankWarning: Polyfit may be poorly conditioned\n",
      "  z = np.polyfit(self.df[key], self.df[primeKey], 1)\n"
     ]
    },
    {
     "name": "stdout",
     "output_type": "stream",
     "text": [
      "C:/Users/fm873/Documents/Repos/LidarAnalysis/Results\\Handwarmers\\Blue\\2ft\\Ambient\\Scatter_NoZero\n",
      "C:/Users/fm873/Documents/Repos/LidarAnalysis/Results\\Handwarmers\\Blue\\2ft\\Ambient\\Scatter_NoZero\n"
     ]
    },
    {
     "name": "stderr",
     "output_type": "stream",
     "text": [
      "C:\\Users\\fm873\\Documents\\Repos\\LidarAnalysis\\Analysis\\plotter.py:38: RankWarning: Polyfit may be poorly conditioned\n",
      "  z = np.polyfit(self.df[key], self.df[primeKey], 1)\n",
      "C:\\Users\\fm873\\Documents\\Repos\\LidarAnalysis\\Analysis\\plotter.py:38: RankWarning: Polyfit may be poorly conditioned\n",
      "  z = np.polyfit(self.df[key], self.df[primeKey], 1)\n"
     ]
    },
    {
     "name": "stdout",
     "output_type": "stream",
     "text": [
      "C:/Users/fm873/Documents/Repos/LidarAnalysis/Results\\Handwarmers\\Blue\\2ft\\Ambient\\Scatter_NoZero\n",
      "C:/Users/fm873/Documents/Repos/LidarAnalysis/Results\\Handwarmers\\Blue\\2ft\\Ambient\\Scatter_NoZero\n"
     ]
    },
    {
     "name": "stderr",
     "output_type": "stream",
     "text": [
      "C:\\Users\\fm873\\Documents\\Repos\\LidarAnalysis\\Analysis\\plotter.py:38: RankWarning: Polyfit may be poorly conditioned\n",
      "  z = np.polyfit(self.df[key], self.df[primeKey], 1)\n",
      "C:\\Users\\fm873\\Documents\\Repos\\LidarAnalysis\\Analysis\\plotter.py:38: RankWarning: Polyfit may be poorly conditioned\n",
      "  z = np.polyfit(self.df[key], self.df[primeKey], 1)\n"
     ]
    },
    {
     "name": "stdout",
     "output_type": "stream",
     "text": [
      "C:/Users/fm873/Documents/Repos/LidarAnalysis/Results\\Handwarmers\\Blue\\2ft\\Ambient\\Scatter_NoZero\n",
      "C:/Users/fm873/Documents/Repos/LidarAnalysis/Results\\Handwarmers\\Blue\\2ft\\Ambient\\Scatter_NoZero\n",
      "C:/Users/fm873/Documents/Repos/LidarAnalysis/Results\\Handwarmers\\Blue\\2ft\\Ambient\\Scatter_NoZero\n",
      "writing file to: C:/Users/fm873/Documents/Repos/LidarAnalysis/Results\\Handwarmers\\Blue\\2ft\\Ambient\\Histograms\n",
      "['area', 'distance', 'objectTemperature', 'red', 'blue', 'green', 'temperature', 'humidity', 'light', 'numLidarPoints']\n",
      "C:/Users/fm873/Documents/Repos/LidarAnalysis/Results\\Handwarmers\\Blue\\4ft\\40C\n",
      "1856.4283954961295\n",
      "Max:\n",
      "2381\n",
      "temp size:\n",
      "2381\n",
      "humid size:\n",
      "2381\n",
      "light size:\n",
      "2381\n",
      "point num size:\n",
      "2381\n",
      "writing file to: C:/Users/fm873/Documents/Repos/LidarAnalysis/Results\\Handwarmers\\Blue\\4ft\\40C\\Scatter_NoZero\n",
      "['area', 'distance', 'objectTemperature', 'red', 'blue', 'green', 'temperature', 'humidity', 'light', 'numLidarPoints']\n",
      "C:/Users/fm873/Documents/Repos/LidarAnalysis/Results\\Handwarmers\\Blue\\4ft\\40C\\Scatter_NoZero\n",
      "C:/Users/fm873/Documents/Repos/LidarAnalysis/Results\\Handwarmers\\Blue\\4ft\\40C\\Scatter_NoZero\n",
      "C:/Users/fm873/Documents/Repos/LidarAnalysis/Results\\Handwarmers\\Blue\\4ft\\40C\\Scatter_NoZero"
     ]
    },
    {
     "name": "stderr",
     "output_type": "stream",
     "text": [
      "C:\\Users\\fm873\\Documents\\Repos\\LidarAnalysis\\Analysis\\plotter.py:38: RankWarning: Polyfit may be poorly conditioned\n",
      "  z = np.polyfit(self.df[key], self.df[primeKey], 1)\n",
      "C:\\Users\\fm873\\Documents\\Repos\\LidarAnalysis\\Analysis\\plotter.py:38: RankWarning: Polyfit may be poorly conditioned\n",
      "  z = np.polyfit(self.df[key], self.df[primeKey], 1)\n"
     ]
    },
    {
     "name": "stdout",
     "output_type": "stream",
     "text": [
      "\n",
      "C:/Users/fm873/Documents/Repos/LidarAnalysis/Results\\Handwarmers\\Blue\\4ft\\40C\\Scatter_NoZero\n"
     ]
    },
    {
     "name": "stderr",
     "output_type": "stream",
     "text": [
      "C:\\Users\\fm873\\Documents\\Repos\\LidarAnalysis\\Analysis\\plotter.py:38: RankWarning: Polyfit may be poorly conditioned\n",
      "  z = np.polyfit(self.df[key], self.df[primeKey], 1)\n",
      "C:\\Users\\fm873\\Documents\\Repos\\LidarAnalysis\\Analysis\\plotter.py:38: RankWarning: Polyfit may be poorly conditioned\n",
      "  z = np.polyfit(self.df[key], self.df[primeKey], 1)\n"
     ]
    },
    {
     "name": "stdout",
     "output_type": "stream",
     "text": [
      "C:/Users/fm873/Documents/Repos/LidarAnalysis/Results\\Handwarmers\\Blue\\4ft\\40C\\Scatter_NoZero\n",
      "C:/Users/fm873/Documents/Repos/LidarAnalysis/Results\\Handwarmers\\Blue\\4ft\\40C\\Scatter_NoZero\n"
     ]
    },
    {
     "name": "stderr",
     "output_type": "stream",
     "text": [
      "C:\\Users\\fm873\\Documents\\Repos\\LidarAnalysis\\Analysis\\plotter.py:38: RankWarning: Polyfit may be poorly conditioned\n",
      "  z = np.polyfit(self.df[key], self.df[primeKey], 1)\n",
      "C:\\Users\\fm873\\Documents\\Repos\\LidarAnalysis\\Analysis\\plotter.py:38: RankWarning: Polyfit may be poorly conditioned\n",
      "  z = np.polyfit(self.df[key], self.df[primeKey], 1)\n"
     ]
    },
    {
     "name": "stdout",
     "output_type": "stream",
     "text": [
      "C:/Users/fm873/Documents/Repos/LidarAnalysis/Results\\Handwarmers\\Blue\\4ft\\40C\\Scatter_NoZero\n",
      "C:/Users/fm873/Documents/Repos/LidarAnalysis/Results\\Handwarmers\\Blue\\4ft\\40C\\Scatter_NoZero\n",
      "C:/Users/fm873/Documents/Repos/LidarAnalysis/Results\\Handwarmers\\Blue\\4ft\\40C\\Scatter_NoZero\n",
      "writing file to: C:/Users/fm873/Documents/Repos/LidarAnalysis/Results\\Handwarmers\\Blue\\4ft\\40C\\Histograms\n",
      "['area', 'distance', 'objectTemperature', 'red', 'blue', 'green', 'temperature', 'humidity', 'light', 'numLidarPoints']\n",
      "C:/Users/fm873/Documents/Repos/LidarAnalysis/Results\\Handwarmers\\Blue\\4ft\\45C\n",
      "1733.3551934027096\n",
      "Max:\n",
      "3098\n",
      "temp size:\n",
      "3098\n",
      "humid size:\n",
      "3098\n",
      "light size:\n",
      "3098\n",
      "point num size:\n",
      "3098\n",
      "writing file to: C:/Users/fm873/Documents/Repos/LidarAnalysis/Results\\Handwarmers\\Blue\\4ft\\45C\\Scatter_NoZero\n",
      "['area', 'distance', 'objectTemperature', 'red', 'blue', 'green', 'temperature', 'humidity', 'light', 'numLidarPoints']\n",
      "C:/Users/fm873/Documents/Repos/LidarAnalysis/Results\\Handwarmers\\Blue\\4ft\\45C\\Scatter_NoZero\n",
      "C:/Users/fm873/Documents/Repos/LidarAnalysis/Results\\Handwarmers\\Blue\\4ft\\45C\\Scatter_NoZero\n"
     ]
    },
    {
     "name": "stderr",
     "output_type": "stream",
     "text": [
      "C:\\Users\\fm873\\Documents\\Repos\\LidarAnalysis\\Analysis\\plotter.py:38: RankWarning: Polyfit may be poorly conditioned\n",
      "  z = np.polyfit(self.df[key], self.df[primeKey], 1)\n",
      "C:\\Users\\fm873\\Documents\\Repos\\LidarAnalysis\\Analysis\\plotter.py:38: RankWarning: Polyfit may be poorly conditioned\n",
      "  z = np.polyfit(self.df[key], self.df[primeKey], 1)\n"
     ]
    },
    {
     "name": "stdout",
     "output_type": "stream",
     "text": [
      "C:/Users/fm873/Documents/Repos/LidarAnalysis/Results\\Handwarmers\\Blue\\4ft\\45C\\Scatter_NoZero\n",
      "C:/Users/fm873/Documents/Repos/LidarAnalysis/Results\\Handwarmers\\Blue\\4ft\\45C\\Scatter_NoZero\n"
     ]
    },
    {
     "name": "stderr",
     "output_type": "stream",
     "text": [
      "C:\\Users\\fm873\\Documents\\Repos\\LidarAnalysis\\Analysis\\plotter.py:38: RankWarning: Polyfit may be poorly conditioned\n",
      "  z = np.polyfit(self.df[key], self.df[primeKey], 1)\n",
      "C:\\Users\\fm873\\Documents\\Repos\\LidarAnalysis\\Analysis\\plotter.py:38: RankWarning: Polyfit may be poorly conditioned\n",
      "  z = np.polyfit(self.df[key], self.df[primeKey], 1)\n"
     ]
    },
    {
     "name": "stdout",
     "output_type": "stream",
     "text": [
      "C:/Users/fm873/Documents/Repos/LidarAnalysis/Results\\Handwarmers\\Blue\\4ft\\45C\\Scatter_NoZero\n"
     ]
    },
    {
     "name": "stderr",
     "output_type": "stream",
     "text": [
      "C:\\Users\\fm873\\Documents\\Repos\\LidarAnalysis\\Analysis\\plotter.py:38: RankWarning: Polyfit may be poorly conditioned\n",
      "  z = np.polyfit(self.df[key], self.df[primeKey], 1)\n"
     ]
    },
    {
     "name": "stdout",
     "output_type": "stream",
     "text": [
      "C:/Users/fm873/Documents/Repos/LidarAnalysis/Results\\Handwarmers\\Blue\\4ft\\45C\\Scatter_NoZero\n",
      "C:/Users/fm873/Documents/Repos/LidarAnalysis/Results\\Handwarmers\\Blue\\4ft\\45C\\Scatter_NoZero\n"
     ]
    },
    {
     "name": "stderr",
     "output_type": "stream",
     "text": [
      "C:\\Users\\fm873\\Documents\\Repos\\LidarAnalysis\\Analysis\\plotter.py:38: RankWarning: Polyfit may be poorly conditioned\n",
      "  z = np.polyfit(self.df[key], self.df[primeKey], 1)\n"
     ]
    },
    {
     "name": "stdout",
     "output_type": "stream",
     "text": [
      "C:/Users/fm873/Documents/Repos/LidarAnalysis/Results\\Handwarmers\\Blue\\4ft\\45C\\Scatter_NoZero\n",
      "C:/Users/fm873/Documents/Repos/LidarAnalysis/Results\\Handwarmers\\Blue\\4ft\\45C\\Scatter_NoZero\n",
      "writing file to: C:/Users/fm873/Documents/Repos/LidarAnalysis/Results\\Handwarmers\\Blue\\4ft\\45C\\Histograms\n",
      "['area', 'distance', 'objectTemperature', 'red', 'blue', 'green', 'temperature', 'humidity', 'light', 'numLidarPoints']\n",
      "C:/Users/fm873/Documents/Repos/LidarAnalysis/Results\\Handwarmers\\Blue\\4ft\\Ambient\n",
      "765.6474935090873\n",
      "Max:\n",
      "2169\n",
      "temp size:\n",
      "2169\n",
      "humid size:\n",
      "2169\n",
      "light size:\n",
      "2169\n",
      "point num size:\n",
      "2169\n",
      "writing file to: C:/Users/fm873/Documents/Repos/LidarAnalysis/Results\\Handwarmers\\Blue\\4ft\\Ambient\\Scatter_NoZero\n",
      "['area', 'distance', 'objectTemperature', 'red', 'blue', 'green', 'temperature', 'humidity', 'light', 'numLidarPoints']\n",
      "C:/Users/fm873/Documents/Repos/LidarAnalysis/Results\\Handwarmers\\Blue\\4ft\\Ambient\\Scatter_NoZero\n",
      "C:/Users/fm873/Documents/Repos/LidarAnalysis/Results\\Handwarmers\\Blue\\4ft\\Ambient\\Scatter_NoZero\n",
      "C:/Users/fm873/Documents/Repos/LidarAnalysis/Results\\Handwarmers\\Blue\\4ft\\Ambient\\Scatter_NoZero\n"
     ]
    },
    {
     "name": "stderr",
     "output_type": "stream",
     "text": [
      "C:\\Users\\fm873\\Documents\\Repos\\LidarAnalysis\\Analysis\\plotter.py:38: RankWarning: Polyfit may be poorly conditioned\n",
      "  z = np.polyfit(self.df[key], self.df[primeKey], 1)\n",
      "C:\\Users\\fm873\\Documents\\Repos\\LidarAnalysis\\Analysis\\plotter.py:38: RankWarning: Polyfit may be poorly conditioned\n",
      "  z = np.polyfit(self.df[key], self.df[primeKey], 1)\n",
      "C:\\Users\\fm873\\Documents\\Repos\\LidarAnalysis\\Analysis\\plotter.py:38: RankWarning: Polyfit may be poorly conditioned\n",
      "  z = np.polyfit(self.df[key], self.df[primeKey], 1)\n",
      "C:\\Users\\fm873\\Documents\\Repos\\LidarAnalysis\\Analysis\\plotter.py:38: RankWarning: Polyfit may be poorly conditioned\n",
      "  z = np.polyfit(self.df[key], self.df[primeKey], 1)\n"
     ]
    },
    {
     "name": "stdout",
     "output_type": "stream",
     "text": [
      "C:/Users/fm873/Documents/Repos/LidarAnalysis/Results\\Handwarmers\\Blue\\4ft\\Ambient\\Scatter_NoZero\n",
      "C:/Users/fm873/Documents/Repos/LidarAnalysis/Results\\Handwarmers\\Blue\\4ft\\Ambient\\Scatter_NoZero\n"
     ]
    },
    {
     "name": "stderr",
     "output_type": "stream",
     "text": [
      "C:\\Users\\fm873\\Documents\\Repos\\LidarAnalysis\\Analysis\\plotter.py:38: RankWarning: Polyfit may be poorly conditioned\n",
      "  z = np.polyfit(self.df[key], self.df[primeKey], 1)\n",
      "C:\\Users\\fm873\\Documents\\Repos\\LidarAnalysis\\Analysis\\plotter.py:38: RankWarning: Polyfit may be poorly conditioned\n",
      "  z = np.polyfit(self.df[key], self.df[primeKey], 1)\n"
     ]
    },
    {
     "name": "stdout",
     "output_type": "stream",
     "text": [
      "C:/Users/fm873/Documents/Repos/LidarAnalysis/Results\\Handwarmers\\Blue\\4ft\\Ambient\\Scatter_NoZero\n",
      "C:/Users/fm873/Documents/Repos/LidarAnalysis/Results\\Handwarmers\\Blue\\4ft\\Ambient\\Scatter_NoZero\n",
      "C:/Users/fm873/Documents/Repos/LidarAnalysis/Results\\Handwarmers\\Blue\\4ft\\Ambient\\Scatter_NoZero\n",
      "C:/Users/fm873/Documents/Repos/LidarAnalysis/Results\\Handwarmers\\Blue\\4ft\\Ambient\\Scatter_NoZero\n",
      "writing file to: C:/Users/fm873/Documents/Repos/LidarAnalysis/Results\\Handwarmers\\Blue\\4ft\\Ambient\\Histograms\n",
      "['area', 'distance', 'objectTemperature', 'red', 'blue', 'green', 'temperature', 'humidity', 'light', 'numLidarPoints']\n",
      "C:/Users/fm873/Documents/Repos/LidarAnalysis/Results\\Handwarmers\\Blue\\6ft\\40C\n",
      "496.5970779220779\n",
      "Max:\n",
      "2717\n",
      "temp size:\n",
      "2717\n",
      "humid size:\n",
      "2717\n",
      "light size:\n",
      "2717\n",
      "point num size:\n",
      "2717\n",
      "writing file to: C:/Users/fm873/Documents/Repos/LidarAnalysis/Results\\Handwarmers\\Blue\\6ft\\40C\\Scatter_NoZero\n",
      "['area', 'distance', 'objectTemperature', 'red', 'blue', 'green', 'temperature', 'humidity', 'light', 'numLidarPoints']\n",
      "C:/Users/fm873/Documents/Repos/LidarAnalysis/Results\\Handwarmers\\Blue\\6ft\\40C\\Scatter_NoZero\n",
      "C:/Users/fm873/Documents/Repos/LidarAnalysis/Results\\Handwarmers\\Blue\\6ft\\40C\\Scatter_NoZero\n"
     ]
    },
    {
     "name": "stderr",
     "output_type": "stream",
     "text": [
      "C:\\Users\\fm873\\Documents\\Repos\\LidarAnalysis\\Analysis\\plotter.py:38: RankWarning: Polyfit may be poorly conditioned\n",
      "  z = np.polyfit(self.df[key], self.df[primeKey], 1)\n",
      "C:\\Users\\fm873\\Documents\\Repos\\LidarAnalysis\\Analysis\\plotter.py:38: RankWarning: Polyfit may be poorly conditioned\n",
      "  z = np.polyfit(self.df[key], self.df[primeKey], 1)\n"
     ]
    },
    {
     "name": "stdout",
     "output_type": "stream",
     "text": [
      "C:/Users/fm873/Documents/Repos/LidarAnalysis/Results\\Handwarmers\\Blue\\6ft\\40C\\Scatter_NoZero\n",
      "C:/Users/fm873/Documents/Repos/LidarAnalysis/Results\\Handwarmers\\Blue\\6ft\\40C\\Scatter_NoZero\n"
     ]
    },
    {
     "name": "stderr",
     "output_type": "stream",
     "text": [
      "C:\\Users\\fm873\\Documents\\Repos\\LidarAnalysis\\Analysis\\plotter.py:38: RankWarning: Polyfit may be poorly conditioned\n",
      "  z = np.polyfit(self.df[key], self.df[primeKey], 1)\n",
      "C:\\Users\\fm873\\Documents\\Repos\\LidarAnalysis\\Analysis\\plotter.py:38: RankWarning: Polyfit may be poorly conditioned\n",
      "  z = np.polyfit(self.df[key], self.df[primeKey], 1)\n"
     ]
    },
    {
     "name": "stdout",
     "output_type": "stream",
     "text": [
      "C:/Users/fm873/Documents/Repos/LidarAnalysis/Results\\Handwarmers\\Blue\\6ft\\40C\\Scatter_NoZero\n",
      "C:/Users/fm873/Documents/Repos/LidarAnalysis/Results\\Handwarmers\\Blue\\6ft\\40C\\Scatter_NoZero\n"
     ]
    },
    {
     "name": "stderr",
     "output_type": "stream",
     "text": [
      "C:\\Users\\fm873\\Documents\\Repos\\LidarAnalysis\\Analysis\\plotter.py:38: RankWarning: Polyfit may be poorly conditioned\n",
      "  z = np.polyfit(self.df[key], self.df[primeKey], 1)\n",
      "C:\\Users\\fm873\\Documents\\Repos\\LidarAnalysis\\Analysis\\plotter.py:38: RankWarning: Polyfit may be poorly conditioned\n",
      "  z = np.polyfit(self.df[key], self.df[primeKey], 1)\n"
     ]
    },
    {
     "name": "stdout",
     "output_type": "stream",
     "text": [
      "C:/Users/fm873/Documents/Repos/LidarAnalysis/Results\\Handwarmers\\Blue\\6ft\\40C\\Scatter_NoZero\n",
      "C:/Users/fm873/Documents/Repos/LidarAnalysis/Results\\Handwarmers\\Blue\\6ft\\40C\\Scatter_NoZero\n",
      "C:/Users/fm873/Documents/Repos/LidarAnalysis/Results\\Handwarmers\\Blue\\6ft\\40C\\Scatter_NoZero\n",
      "writing file to: C:/Users/fm873/Documents/Repos/LidarAnalysis/Results\\Handwarmers\\Blue\\6ft\\40C\\Histograms\n",
      "['area', 'distance', 'objectTemperature', 'red', 'blue', 'green', 'temperature', 'humidity', 'light', 'numLidarPoints']\n",
      "C:/Users/fm873/Documents/Repos/LidarAnalysis/Results\\Handwarmers\\Blue\\6ft\\50C\n",
      "554.3450704225352\n",
      "Max:\n",
      "142\n",
      "temp size:\n",
      "142\n",
      "humid size:\n",
      "142\n",
      "light size:\n",
      "142\n",
      "point num size:\n",
      "142\n",
      "writing file to: C:/Users/fm873/Documents/Repos/LidarAnalysis/Results\\Handwarmers\\Blue\\6ft\\50C\\Scatter_NoZero\n",
      "['area', 'distance', 'objectTemperature', 'red', 'blue', 'green', 'temperature', 'humidity', 'light', 'numLidarPoints']\n",
      "C:/Users/fm873/Documents/Repos/LidarAnalysis/Results\\Handwarmers\\Blue\\6ft\\50C\\Scatter_NoZero\n",
      "C:/Users/fm873/Documents/Repos/LidarAnalysis/Results\\Handwarmers\\Blue\\6ft\\50C\\Scatter_NoZero\n",
      "C:/Users/fm873/Documents/Repos/LidarAnalysis/Results\\Handwarmers\\Blue\\6ft\\50C\\Scatter_NoZero\n"
     ]
    },
    {
     "name": "stderr",
     "output_type": "stream",
     "text": [
      "C:\\Users\\fm873\\Documents\\Repos\\LidarAnalysis\\Analysis\\plotter.py:38: RankWarning: Polyfit may be poorly conditioned\n",
      "  z = np.polyfit(self.df[key], self.df[primeKey], 1)\n",
      "C:\\Users\\fm873\\Documents\\Repos\\LidarAnalysis\\Analysis\\plotter.py:38: RankWarning: Polyfit may be poorly conditioned\n",
      "  z = np.polyfit(self.df[key], self.df[primeKey], 1)\n",
      "C:\\Users\\fm873\\Documents\\Repos\\LidarAnalysis\\Analysis\\plotter.py:38: RankWarning: Polyfit may be poorly conditioned\n",
      "  z = np.polyfit(self.df[key], self.df[primeKey], 1)\n",
      "C:\\Users\\fm873\\Documents\\Repos\\LidarAnalysis\\Analysis\\plotter.py:38: RankWarning: Polyfit may be poorly conditioned\n",
      "  z = np.polyfit(self.df[key], self.df[primeKey], 1)\n"
     ]
    },
    {
     "name": "stdout",
     "output_type": "stream",
     "text": [
      "C:/Users/fm873/Documents/Repos/LidarAnalysis/Results\\Handwarmers\\Blue\\6ft\\50C\\Scatter_NoZero\n",
      "C:/Users/fm873/Documents/Repos/LidarAnalysis/Results\\Handwarmers\\Blue\\6ft\\50C\\Scatter_NoZero\n"
     ]
    },
    {
     "name": "stderr",
     "output_type": "stream",
     "text": [
      "C:\\Users\\fm873\\Documents\\Repos\\LidarAnalysis\\Analysis\\plotter.py:38: RankWarning: Polyfit may be poorly conditioned\n",
      "  z = np.polyfit(self.df[key], self.df[primeKey], 1)\n",
      "C:\\Users\\fm873\\Documents\\Repos\\LidarAnalysis\\Analysis\\plotter.py:38: RankWarning: Polyfit may be poorly conditioned\n",
      "  z = np.polyfit(self.df[key], self.df[primeKey], 1)\n"
     ]
    },
    {
     "name": "stdout",
     "output_type": "stream",
     "text": [
      "C:/Users/fm873/Documents/Repos/LidarAnalysis/Results\\Handwarmers\\Blue\\6ft\\50C\\Scatter_NoZero\n",
      "C:/Users/fm873/Documents/Repos/LidarAnalysis/Results\\Handwarmers\\Blue\\6ft\\50C\\Scatter_NoZero\n",
      "C:/Users/fm873/Documents/Repos/LidarAnalysis/Results\\Handwarmers\\Blue\\6ft\\50C\\Scatter_NoZero\n",
      "C:/Users/fm873/Documents/Repos/LidarAnalysis/Results\\Handwarmers\\Blue\\6ft\\50C\\Scatter_NoZero\n",
      "writing file to: C:/Users/fm873/Documents/Repos/LidarAnalysis/Results\\Handwarmers\\Blue\\6ft\\50C\\Histograms\n",
      "['area', 'distance', 'objectTemperature', 'red', 'blue', 'green', 'temperature', 'humidity', 'light', 'numLidarPoints']\n",
      "C:/Users/fm873/Documents/Repos/LidarAnalysis/Results\\Handwarmers\\Blue\\6ft\\Ambient\n",
      "417.9276476756379\n",
      "Max:\n",
      "2481\n",
      "temp size:\n",
      "2481\n",
      "humid size:\n",
      "2481\n",
      "light size:\n",
      "2481\n",
      "point num size:\n",
      "2481\n",
      "writing file to: C:/Users/fm873/Documents/Repos/LidarAnalysis/Results\\Handwarmers\\Blue\\6ft\\Ambient\\Scatter_NoZero\n",
      "['area', 'distance', 'objectTemperature', 'red', 'blue', 'green', 'temperature', 'humidity', 'light', 'numLidarPoints']\n",
      "C:/Users/fm873/Documents/Repos/LidarAnalysis/Results\\Handwarmers\\Blue\\6ft\\Ambient\\Scatter_NoZero\n",
      "C:/Users/fm873/Documents/Repos/LidarAnalysis/Results\\Handwarmers\\Blue\\6ft\\Ambient\\Scatter_NoZero\n"
     ]
    },
    {
     "name": "stderr",
     "output_type": "stream",
     "text": [
      "C:\\Users\\fm873\\Documents\\Repos\\LidarAnalysis\\Analysis\\plotter.py:38: RankWarning: Polyfit may be poorly conditioned\n",
      "  z = np.polyfit(self.df[key], self.df[primeKey], 1)\n",
      "C:\\Users\\fm873\\Documents\\Repos\\LidarAnalysis\\Analysis\\plotter.py:38: RankWarning: Polyfit may be poorly conditioned\n",
      "  z = np.polyfit(self.df[key], self.df[primeKey], 1)\n"
     ]
    },
    {
     "name": "stdout",
     "output_type": "stream",
     "text": [
      "C:/Users/fm873/Documents/Repos/LidarAnalysis/Results\\Handwarmers\\Blue\\6ft\\Ambient\\Scatter_NoZero\n",
      "C:/Users/fm873/Documents/Repos/LidarAnalysis/Results\\Handwarmers\\Blue\\6ft\\Ambient\\Scatter_NoZero\n"
     ]
    },
    {
     "name": "stderr",
     "output_type": "stream",
     "text": [
      "C:\\Users\\fm873\\Documents\\Repos\\LidarAnalysis\\Analysis\\plotter.py:38: RankWarning: Polyfit may be poorly conditioned\n",
      "  z = np.polyfit(self.df[key], self.df[primeKey], 1)\n",
      "C:\\Users\\fm873\\Documents\\Repos\\LidarAnalysis\\Analysis\\plotter.py:38: RankWarning: Polyfit may be poorly conditioned\n",
      "  z = np.polyfit(self.df[key], self.df[primeKey], 1)\n"
     ]
    },
    {
     "name": "stdout",
     "output_type": "stream",
     "text": [
      "C:/Users/fm873/Documents/Repos/LidarAnalysis/Results\\Handwarmers\\Blue\\6ft\\Ambient\\Scatter_NoZero\n",
      "C:/Users/fm873/Documents/Repos/LidarAnalysis/Results\\Handwarmers\\Blue\\6ft\\Ambient\\Scatter_NoZero\n"
     ]
    },
    {
     "name": "stderr",
     "output_type": "stream",
     "text": [
      "C:\\Users\\fm873\\Documents\\Repos\\LidarAnalysis\\Analysis\\plotter.py:38: RankWarning: Polyfit may be poorly conditioned\n",
      "  z = np.polyfit(self.df[key], self.df[primeKey], 1)\n",
      "C:\\Users\\fm873\\Documents\\Repos\\LidarAnalysis\\Analysis\\plotter.py:38: RankWarning: Polyfit may be poorly conditioned\n",
      "  z = np.polyfit(self.df[key], self.df[primeKey], 1)\n"
     ]
    },
    {
     "name": "stdout",
     "output_type": "stream",
     "text": [
      "C:/Users/fm873/Documents/Repos/LidarAnalysis/Results\\Handwarmers\\Blue\\6ft\\Ambient\\Scatter_NoZero\n",
      "C:/Users/fm873/Documents/Repos/LidarAnalysis/Results\\Handwarmers\\Blue\\6ft\\Ambient\\Scatter_NoZero\n",
      "C:/Users/fm873/Documents/Repos/LidarAnalysis/Results\\Handwarmers\\Blue\\6ft\\Ambient\\Scatter_NoZero\n",
      "writing file to: C:/Users/fm873/Documents/Repos/LidarAnalysis/Results\\Handwarmers\\Blue\\6ft\\Ambient\\Histograms\n",
      "['area', 'distance', 'objectTemperature', 'red', 'blue', 'green', 'temperature', 'humidity', 'light', 'numLidarPoints']\n",
      "C:/Users/fm873/Documents/Repos/LidarAnalysis/Results\\Handwarmers\\RoseGold\\2ft\\40C\n",
      "2578.9846390168973\n",
      "Max:\n",
      "2293\n",
      "temp size:\n",
      "2293\n",
      "humid size:\n",
      "2293\n",
      "light size:\n",
      "2293\n",
      "point num size:\n",
      "2293\n",
      "writing file to: C:/Users/fm873/Documents/Repos/LidarAnalysis/Results\\Handwarmers\\RoseGold\\2ft\\40C\\Scatter_NoZero\n",
      "['area', 'distance', 'objectTemperature', 'red', 'blue', 'green', 'temperature', 'humidity', 'light', 'numLidarPoints']\n",
      "C:/Users/fm873/Documents/Repos/LidarAnalysis/Results\\Handwarmers\\RoseGold\\2ft\\40C\\Scatter_NoZero\n",
      "C:/Users/fm873/Documents/Repos/LidarAnalysis/Results\\Handwarmers\\RoseGold\\2ft\\40C\\Scatter_NoZero\n"
     ]
    },
    {
     "name": "stderr",
     "output_type": "stream",
     "text": [
      "C:\\Users\\fm873\\Documents\\Repos\\LidarAnalysis\\Analysis\\plotter.py:38: RankWarning: Polyfit may be poorly conditioned\n",
      "  z = np.polyfit(self.df[key], self.df[primeKey], 1)\n",
      "C:\\Users\\fm873\\Documents\\Repos\\LidarAnalysis\\Analysis\\plotter.py:38: RankWarning: Polyfit may be poorly conditioned\n",
      "  z = np.polyfit(self.df[key], self.df[primeKey], 1)\n"
     ]
    },
    {
     "name": "stdout",
     "output_type": "stream",
     "text": [
      "C:/Users/fm873/Documents/Repos/LidarAnalysis/Results\\Handwarmers\\RoseGold\\2ft\\40C\\Scatter_NoZero\n",
      "C:/Users/fm873/Documents/Repos/LidarAnalysis/Results\\Handwarmers\\RoseGold\\2ft\\40C\\Scatter_NoZero\n"
     ]
    },
    {
     "name": "stderr",
     "output_type": "stream",
     "text": [
      "C:\\Users\\fm873\\Documents\\Repos\\LidarAnalysis\\Analysis\\plotter.py:38: RankWarning: Polyfit may be poorly conditioned\n",
      "  z = np.polyfit(self.df[key], self.df[primeKey], 1)\n",
      "C:\\Users\\fm873\\Documents\\Repos\\LidarAnalysis\\Analysis\\plotter.py:38: RankWarning: Polyfit may be poorly conditioned\n",
      "  z = np.polyfit(self.df[key], self.df[primeKey], 1)\n"
     ]
    },
    {
     "name": "stdout",
     "output_type": "stream",
     "text": [
      "C:/Users/fm873/Documents/Repos/LidarAnalysis/Results\\Handwarmers\\RoseGold\\2ft\\40C\\Scatter_NoZero\n",
      "C:/Users/fm873/Documents/Repos/LidarAnalysis/Results\\Handwarmers\\RoseGold\\2ft\\40C\\Scatter_NoZero\n"
     ]
    },
    {
     "name": "stderr",
     "output_type": "stream",
     "text": [
      "C:\\Users\\fm873\\Documents\\Repos\\LidarAnalysis\\Analysis\\plotter.py:38: RankWarning: Polyfit may be poorly conditioned\n",
      "  z = np.polyfit(self.df[key], self.df[primeKey], 1)\n",
      "C:\\Users\\fm873\\Documents\\Repos\\LidarAnalysis\\Analysis\\plotter.py:38: RankWarning: Polyfit may be poorly conditioned\n",
      "  z = np.polyfit(self.df[key], self.df[primeKey], 1)\n"
     ]
    },
    {
     "name": "stdout",
     "output_type": "stream",
     "text": [
      "C:/Users/fm873/Documents/Repos/LidarAnalysis/Results\\Handwarmers\\RoseGold\\2ft\\40C\\Scatter_NoZero\n",
      "C:/Users/fm873/Documents/Repos/LidarAnalysis/Results\\Handwarmers\\RoseGold\\2ft\\40C\\Scatter_NoZero\n",
      "C:/Users/fm873/Documents/Repos/LidarAnalysis/Results\\Handwarmers\\RoseGold\\2ft\\40C\\Scatter_NoZero\n",
      "writing file to: C:/Users/fm873/Documents/Repos/LidarAnalysis/Results\\Handwarmers\\RoseGold\\2ft\\40C\\Histograms\n",
      "['area', 'distance', 'objectTemperature', 'red', 'blue', 'green', 'temperature', 'humidity', 'light', 'numLidarPoints']\n",
      "C:/Users/fm873/Documents/Repos/LidarAnalysis/Results\\Handwarmers\\RoseGold\\2ft\\45C\n",
      "2784.95517035266\n",
      "Max:\n",
      "2732\n",
      "temp size:\n",
      "2732\n",
      "humid size:\n",
      "2732\n",
      "light size:\n",
      "2732\n",
      "point num size:\n",
      "2732\n",
      "writing file to: C:/Users/fm873/Documents/Repos/LidarAnalysis/Results\\Handwarmers\\RoseGold\\2ft\\45C\\Scatter_NoZero\n",
      "['area', 'distance', 'objectTemperature', 'red', 'blue', 'green', 'temperature', 'humidity', 'light', 'numLidarPoints']\n",
      "C:/Users/fm873/Documents/Repos/LidarAnalysis/Results\\Handwarmers\\RoseGold\\2ft\\45C\\Scatter_NoZero\n",
      "C:/Users/fm873/Documents/Repos/LidarAnalysis/Results\\Handwarmers\\RoseGold\\2ft\\45C\\Scatter_NoZero\n"
     ]
    },
    {
     "name": "stderr",
     "output_type": "stream",
     "text": [
      "C:\\Users\\fm873\\Documents\\Repos\\LidarAnalysis\\Analysis\\plotter.py:38: RankWarning: Polyfit may be poorly conditioned\n",
      "  z = np.polyfit(self.df[key], self.df[primeKey], 1)\n",
      "C:\\Users\\fm873\\Documents\\Repos\\LidarAnalysis\\Analysis\\plotter.py:38: RankWarning: Polyfit may be poorly conditioned\n",
      "  z = np.polyfit(self.df[key], self.df[primeKey], 1)\n"
     ]
    },
    {
     "name": "stdout",
     "output_type": "stream",
     "text": [
      "C:/Users/fm873/Documents/Repos/LidarAnalysis/Results\\Handwarmers\\RoseGold\\2ft\\45C\\Scatter_NoZero\n",
      "C:/Users/fm873/Documents/Repos/LidarAnalysis/Results\\Handwarmers\\RoseGold\\2ft\\45C\\Scatter_NoZero\n"
     ]
    },
    {
     "name": "stderr",
     "output_type": "stream",
     "text": [
      "C:\\Users\\fm873\\Documents\\Repos\\LidarAnalysis\\Analysis\\plotter.py:38: RankWarning: Polyfit may be poorly conditioned\n",
      "  z = np.polyfit(self.df[key], self.df[primeKey], 1)\n",
      "C:\\Users\\fm873\\Documents\\Repos\\LidarAnalysis\\Analysis\\plotter.py:38: RankWarning: Polyfit may be poorly conditioned\n",
      "  z = np.polyfit(self.df[key], self.df[primeKey], 1)\n"
     ]
    },
    {
     "name": "stdout",
     "output_type": "stream",
     "text": [
      "C:/Users/fm873/Documents/Repos/LidarAnalysis/Results\\Handwarmers\\RoseGold\\2ft\\45C\\Scatter_NoZero\n",
      "C:/Users/fm873/Documents/Repos/LidarAnalysis/Results\\Handwarmers\\RoseGold\\2ft\\45C\\Scatter_NoZero\n"
     ]
    },
    {
     "name": "stderr",
     "output_type": "stream",
     "text": [
      "C:\\Users\\fm873\\Documents\\Repos\\LidarAnalysis\\Analysis\\plotter.py:38: RankWarning: Polyfit may be poorly conditioned\n",
      "  z = np.polyfit(self.df[key], self.df[primeKey], 1)\n",
      "C:\\Users\\fm873\\Documents\\Repos\\LidarAnalysis\\Analysis\\plotter.py:38: RankWarning: Polyfit may be poorly conditioned\n",
      "  z = np.polyfit(self.df[key], self.df[primeKey], 1)\n"
     ]
    },
    {
     "name": "stdout",
     "output_type": "stream",
     "text": [
      "C:/Users/fm873/Documents/Repos/LidarAnalysis/Results\\Handwarmers\\RoseGold\\2ft\\45C\\Scatter_NoZero\n",
      "C:/Users/fm873/Documents/Repos/LidarAnalysis/Results\\Handwarmers\\RoseGold\\2ft\\45C\\Scatter_NoZero\n",
      "C:/Users/fm873/Documents/Repos/LidarAnalysis/Results\\Handwarmers\\RoseGold\\2ft\\45C\\Scatter_NoZero\n",
      "writing file to: C:/Users/fm873/Documents/Repos/LidarAnalysis/Results\\Handwarmers\\RoseGold\\2ft\\45C\\Histograms\n",
      "['area', 'distance', 'objectTemperature', 'red', 'blue', 'green', 'temperature', 'humidity', 'light', 'numLidarPoints']\n",
      "C:/Users/fm873/Documents/Repos/LidarAnalysis/Results\\Handwarmers\\RoseGold\\2ft\\Ambient\n",
      "3071.0795476512662\n",
      "Max:\n",
      "3849\n",
      "temp size:\n",
      "3849\n",
      "humid size:\n",
      "3849\n",
      "light size:\n",
      "3849\n",
      "point num size:\n",
      "3849\n",
      "writing file to: C:/Users/fm873/Documents/Repos/LidarAnalysis/Results\\Handwarmers\\RoseGold\\2ft\\Ambient\\Scatter_NoZero\n",
      "['area', 'distance', 'objectTemperature', 'red', 'blue', 'green', 'temperature', 'humidity', 'light', 'numLidarPoints']\n",
      "C:/Users/fm873/Documents/Repos/LidarAnalysis/Results\\Handwarmers\\RoseGold\\2ft\\Ambient\\Scatter_NoZero\n",
      "C:/Users/fm873/Documents/Repos/LidarAnalysis/Results\\Handwarmers\\RoseGold\\2ft\\Ambient\\Scatter_NoZero\n"
     ]
    },
    {
     "name": "stderr",
     "output_type": "stream",
     "text": [
      "C:\\Users\\fm873\\Documents\\Repos\\LidarAnalysis\\Analysis\\plotter.py:38: RankWarning: Polyfit may be poorly conditioned\n",
      "  z = np.polyfit(self.df[key], self.df[primeKey], 1)\n",
      "C:\\Users\\fm873\\Documents\\Repos\\LidarAnalysis\\Analysis\\plotter.py:38: RankWarning: Polyfit may be poorly conditioned\n",
      "  z = np.polyfit(self.df[key], self.df[primeKey], 1)\n"
     ]
    },
    {
     "name": "stdout",
     "output_type": "stream",
     "text": [
      "C:/Users/fm873/Documents/Repos/LidarAnalysis/Results\\Handwarmers\\RoseGold\\2ft\\Ambient\\Scatter_NoZero\n",
      "C:/Users/fm873/Documents/Repos/LidarAnalysis/Results\\Handwarmers\\RoseGold\\2ft\\Ambient\\Scatter_NoZero\n"
     ]
    },
    {
     "name": "stderr",
     "output_type": "stream",
     "text": [
      "C:\\Users\\fm873\\Documents\\Repos\\LidarAnalysis\\Analysis\\plotter.py:38: RankWarning: Polyfit may be poorly conditioned\n",
      "  z = np.polyfit(self.df[key], self.df[primeKey], 1)\n",
      "C:\\Users\\fm873\\Documents\\Repos\\LidarAnalysis\\Analysis\\plotter.py:38: RankWarning: Polyfit may be poorly conditioned\n",
      "  z = np.polyfit(self.df[key], self.df[primeKey], 1)\n"
     ]
    },
    {
     "name": "stdout",
     "output_type": "stream",
     "text": [
      "C:/Users/fm873/Documents/Repos/LidarAnalysis/Results\\Handwarmers\\RoseGold\\2ft\\Ambient\\Scatter_NoZero\n",
      "C:/Users/fm873/Documents/Repos/LidarAnalysis/Results\\Handwarmers\\RoseGold\\2ft\\Ambient\\Scatter_NoZero\n"
     ]
    },
    {
     "name": "stderr",
     "output_type": "stream",
     "text": [
      "C:\\Users\\fm873\\Documents\\Repos\\LidarAnalysis\\Analysis\\plotter.py:38: RankWarning: Polyfit may be poorly conditioned\n",
      "  z = np.polyfit(self.df[key], self.df[primeKey], 1)\n",
      "C:\\Users\\fm873\\Documents\\Repos\\LidarAnalysis\\Analysis\\plotter.py:38: RankWarning: Polyfit may be poorly conditioned\n",
      "  z = np.polyfit(self.df[key], self.df[primeKey], 1)\n"
     ]
    },
    {
     "name": "stdout",
     "output_type": "stream",
     "text": [
      "C:/Users/fm873/Documents/Repos/LidarAnalysis/Results\\Handwarmers\\RoseGold\\2ft\\Ambient\\Scatter_NoZero\n",
      "C:/Users/fm873/Documents/Repos/LidarAnalysis/Results\\Handwarmers\\RoseGold\\2ft\\Ambient\\Scatter_NoZero\n",
      "C:/Users/fm873/Documents/Repos/LidarAnalysis/Results\\Handwarmers\\RoseGold\\2ft\\Ambient\\Scatter_NoZero\n",
      "writing file to: C:/Users/fm873/Documents/Repos/LidarAnalysis/Results\\Handwarmers\\RoseGold\\2ft\\Ambient\\Histograms\n",
      "['area', 'distance', 'objectTemperature', 'red', 'blue', 'green', 'temperature', 'humidity', 'light', 'numLidarPoints']\n",
      "C:/Users/fm873/Documents/Repos/LidarAnalysis/Results\\Handwarmers\\RoseGold\\4ft\\40C\n",
      "1761.5707248416609\n",
      "Max:\n",
      "2381\n",
      "temp size:\n",
      "2381\n",
      "humid size:\n",
      "2381\n",
      "light size:\n",
      "2381\n",
      "point num size:\n",
      "2381\n",
      "writing file to: C:/Users/fm873/Documents/Repos/LidarAnalysis/Results\\Handwarmers\\RoseGold\\4ft\\40C\\Scatter_NoZero\n",
      "['area', 'distance', 'objectTemperature', 'red', 'blue', 'green', 'temperature', 'humidity', 'light', 'numLidarPoints']\n",
      "C:/Users/fm873/Documents/Repos/LidarAnalysis/Results\\Handwarmers\\RoseGold\\4ft\\40C\\Scatter_NoZero\n",
      "C:/Users/fm873/Documents/Repos/LidarAnalysis/Results\\Handwarmers\\RoseGold\\4ft\\40C\\Scatter_NoZero\n"
     ]
    },
    {
     "name": "stderr",
     "output_type": "stream",
     "text": [
      "C:\\Users\\fm873\\Documents\\Repos\\LidarAnalysis\\Analysis\\plotter.py:38: RankWarning: Polyfit may be poorly conditioned\n",
      "  z = np.polyfit(self.df[key], self.df[primeKey], 1)\n",
      "C:\\Users\\fm873\\Documents\\Repos\\LidarAnalysis\\Analysis\\plotter.py:38: RankWarning: Polyfit may be poorly conditioned\n",
      "  z = np.polyfit(self.df[key], self.df[primeKey], 1)\n"
     ]
    },
    {
     "name": "stdout",
     "output_type": "stream",
     "text": [
      "C:/Users/fm873/Documents/Repos/LidarAnalysis/Results\\Handwarmers\\RoseGold\\4ft\\40C\\Scatter_NoZero\n",
      "C:/Users/fm873/Documents/Repos/LidarAnalysis/Results\\Handwarmers\\RoseGold\\4ft\\40C\\Scatter_NoZero\n"
     ]
    },
    {
     "name": "stderr",
     "output_type": "stream",
     "text": [
      "C:\\Users\\fm873\\Documents\\Repos\\LidarAnalysis\\Analysis\\plotter.py:38: RankWarning: Polyfit may be poorly conditioned\n",
      "  z = np.polyfit(self.df[key], self.df[primeKey], 1)\n",
      "C:\\Users\\fm873\\Documents\\Repos\\LidarAnalysis\\Analysis\\plotter.py:38: RankWarning: Polyfit may be poorly conditioned\n",
      "  z = np.polyfit(self.df[key], self.df[primeKey], 1)\n"
     ]
    },
    {
     "name": "stdout",
     "output_type": "stream",
     "text": [
      "C:/Users/fm873/Documents/Repos/LidarAnalysis/Results\\Handwarmers\\RoseGold\\4ft\\40C\\Scatter_NoZero\n",
      "C:/Users/fm873/Documents/Repos/LidarAnalysis/Results\\Handwarmers\\RoseGold\\4ft\\40C\\Scatter_NoZero\n"
     ]
    },
    {
     "name": "stderr",
     "output_type": "stream",
     "text": [
      "C:\\Users\\fm873\\Documents\\Repos\\LidarAnalysis\\Analysis\\plotter.py:38: RankWarning: Polyfit may be poorly conditioned\n",
      "  z = np.polyfit(self.df[key], self.df[primeKey], 1)\n",
      "C:\\Users\\fm873\\Documents\\Repos\\LidarAnalysis\\Analysis\\plotter.py:38: RankWarning: Polyfit may be poorly conditioned\n",
      "  z = np.polyfit(self.df[key], self.df[primeKey], 1)\n"
     ]
    },
    {
     "name": "stdout",
     "output_type": "stream",
     "text": [
      "C:/Users/fm873/Documents/Repos/LidarAnalysis/Results\\Handwarmers\\RoseGold\\4ft\\40C\\Scatter_NoZero\n",
      "C:/Users/fm873/Documents/Repos/LidarAnalysis/Results\\Handwarmers\\RoseGold\\4ft\\40C\\Scatter_NoZero\n",
      "C:/Users/fm873/Documents/Repos/LidarAnalysis/Results\\Handwarmers\\RoseGold\\4ft\\40C\\Scatter_NoZero\n",
      "writing file to: C:/Users/fm873/Documents/Repos/LidarAnalysis/Results\\Handwarmers\\RoseGold\\4ft\\40C\\Histograms\n",
      "['area', 'distance', 'objectTemperature', 'red', 'blue', 'green', 'temperature', 'humidity', 'light', 'numLidarPoints']\n",
      "C:/Users/fm873/Documents/Repos/LidarAnalysis/Results\\Handwarmers\\RoseGold\\4ft\\45C\n",
      "1572.3655998429217\n",
      "Max:\n",
      "3098\n",
      "temp size:\n",
      "3098\n",
      "humid size:\n",
      "3098\n",
      "light size:\n",
      "3098\n",
      "point num size:\n",
      "3098\n",
      "writing file to: C:/Users/fm873/Documents/Repos/LidarAnalysis/Results\\Handwarmers\\RoseGold\\4ft\\45C\\Scatter_NoZero\n",
      "['area', 'distance', 'objectTemperature', 'red', 'blue', 'green', 'temperature', 'humidity', 'light', 'numLidarPoints']\n",
      "C:/Users/fm873/Documents/Repos/LidarAnalysis/Results\\Handwarmers\\RoseGold\\4ft\\45C\\Scatter_NoZero\n",
      "C:/Users/fm873/Documents/Repos/LidarAnalysis/Results\\Handwarmers\\RoseGold\\4ft\\45C\\Scatter_NoZero\n"
     ]
    },
    {
     "name": "stderr",
     "output_type": "stream",
     "text": [
      "C:\\Users\\fm873\\Documents\\Repos\\LidarAnalysis\\Analysis\\plotter.py:38: RankWarning: Polyfit may be poorly conditioned\n",
      "  z = np.polyfit(self.df[key], self.df[primeKey], 1)\n",
      "C:\\Users\\fm873\\Documents\\Repos\\LidarAnalysis\\Analysis\\plotter.py:38: RankWarning: Polyfit may be poorly conditioned\n",
      "  z = np.polyfit(self.df[key], self.df[primeKey], 1)\n"
     ]
    },
    {
     "name": "stdout",
     "output_type": "stream",
     "text": [
      "C:/Users/fm873/Documents/Repos/LidarAnalysis/Results\\Handwarmers\\RoseGold\\4ft\\45C\\Scatter_NoZero\n",
      "C:/Users/fm873/Documents/Repos/LidarAnalysis/Results\\Handwarmers\\RoseGold\\4ft\\45C\\Scatter_NoZero\n"
     ]
    },
    {
     "name": "stderr",
     "output_type": "stream",
     "text": [
      "C:\\Users\\fm873\\Documents\\Repos\\LidarAnalysis\\Analysis\\plotter.py:38: RankWarning: Polyfit may be poorly conditioned\n",
      "  z = np.polyfit(self.df[key], self.df[primeKey], 1)\n",
      "C:\\Users\\fm873\\Documents\\Repos\\LidarAnalysis\\Analysis\\plotter.py:38: RankWarning: Polyfit may be poorly conditioned\n",
      "  z = np.polyfit(self.df[key], self.df[primeKey], 1)\n"
     ]
    },
    {
     "name": "stdout",
     "output_type": "stream",
     "text": [
      "C:/Users/fm873/Documents/Repos/LidarAnalysis/Results\\Handwarmers\\RoseGold\\4ft\\45C\\Scatter_NoZero\n",
      "C:/Users/fm873/Documents/Repos/LidarAnalysis/Results\\Handwarmers\\RoseGold\\4ft\\45C\\Scatter_NoZero\n"
     ]
    },
    {
     "name": "stderr",
     "output_type": "stream",
     "text": [
      "C:\\Users\\fm873\\Documents\\Repos\\LidarAnalysis\\Analysis\\plotter.py:38: RankWarning: Polyfit may be poorly conditioned\n",
      "  z = np.polyfit(self.df[key], self.df[primeKey], 1)\n",
      "C:\\Users\\fm873\\Documents\\Repos\\LidarAnalysis\\Analysis\\plotter.py:38: RankWarning: Polyfit may be poorly conditioned\n",
      "  z = np.polyfit(self.df[key], self.df[primeKey], 1)\n"
     ]
    },
    {
     "name": "stdout",
     "output_type": "stream",
     "text": [
      "C:/Users/fm873/Documents/Repos/LidarAnalysis/Results\\Handwarmers\\RoseGold\\4ft\\45C\\Scatter_NoZero\n",
      "C:/Users/fm873/Documents/Repos/LidarAnalysis/Results\\Handwarmers\\RoseGold\\4ft\\45C\\Scatter_NoZero\n",
      "C:/Users/fm873/Documents/Repos/LidarAnalysis/Results\\Handwarmers\\RoseGold\\4ft\\45C\\Scatter_NoZero\n",
      "writing file to: C:/Users/fm873/Documents/Repos/LidarAnalysis/Results\\Handwarmers\\RoseGold\\4ft\\45C\\Histograms\n",
      "['area', 'distance', 'objectTemperature', 'red', 'blue', 'green', 'temperature', 'humidity', 'light', 'numLidarPoints']\n",
      "C:/Users/fm873/Documents/Repos/LidarAnalysis/Results\\Handwarmers\\RoseGold\\4ft\\Ambient\n",
      "827.455453455853\n",
      "Max:\n",
      "2169\n",
      "temp size:\n",
      "2169\n",
      "humid size:\n",
      "2169\n",
      "light size:\n",
      "2169\n",
      "point num size:\n",
      "2169\n",
      "writing file to: C:/Users/fm873/Documents/Repos/LidarAnalysis/Results\\Handwarmers\\RoseGold\\4ft\\Ambient\\Scatter_NoZero\n",
      "['area', 'distance', 'objectTemperature', 'red', 'blue', 'green', 'temperature', 'humidity', 'light', 'numLidarPoints']\n",
      "C:/Users/fm873/Documents/Repos/LidarAnalysis/Results\\Handwarmers\\RoseGold\\4ft\\Ambient\\Scatter_NoZero\n",
      "C:/Users/fm873/Documents/Repos/LidarAnalysis/Results\\Handwarmers\\RoseGold\\4ft\\Ambient\\Scatter_NoZero\n"
     ]
    },
    {
     "name": "stderr",
     "output_type": "stream",
     "text": [
      "C:\\Users\\fm873\\Documents\\Repos\\LidarAnalysis\\Analysis\\plotter.py:38: RankWarning: Polyfit may be poorly conditioned\n",
      "  z = np.polyfit(self.df[key], self.df[primeKey], 1)\n",
      "C:\\Users\\fm873\\Documents\\Repos\\LidarAnalysis\\Analysis\\plotter.py:38: RankWarning: Polyfit may be poorly conditioned\n",
      "  z = np.polyfit(self.df[key], self.df[primeKey], 1)\n"
     ]
    },
    {
     "name": "stdout",
     "output_type": "stream",
     "text": [
      "C:/Users/fm873/Documents/Repos/LidarAnalysis/Results\\Handwarmers\\RoseGold\\4ft\\Ambient\\Scatter_NoZero\n",
      "C:/Users/fm873/Documents/Repos/LidarAnalysis/Results\\Handwarmers\\RoseGold\\4ft\\Ambient\\Scatter_NoZero\n"
     ]
    },
    {
     "name": "stderr",
     "output_type": "stream",
     "text": [
      "C:\\Users\\fm873\\Documents\\Repos\\LidarAnalysis\\Analysis\\plotter.py:38: RankWarning: Polyfit may be poorly conditioned\n",
      "  z = np.polyfit(self.df[key], self.df[primeKey], 1)\n",
      "C:\\Users\\fm873\\Documents\\Repos\\LidarAnalysis\\Analysis\\plotter.py:38: RankWarning: Polyfit may be poorly conditioned\n",
      "  z = np.polyfit(self.df[key], self.df[primeKey], 1)\n"
     ]
    },
    {
     "name": "stdout",
     "output_type": "stream",
     "text": [
      "C:/Users/fm873/Documents/Repos/LidarAnalysis/Results\\Handwarmers\\RoseGold\\4ft\\Ambient\\Scatter_NoZero\n",
      "C:/Users/fm873/Documents/Repos/LidarAnalysis/Results\\Handwarmers\\RoseGold\\4ft\\Ambient\\Scatter_NoZero\n"
     ]
    },
    {
     "name": "stderr",
     "output_type": "stream",
     "text": [
      "C:\\Users\\fm873\\Documents\\Repos\\LidarAnalysis\\Analysis\\plotter.py:38: RankWarning: Polyfit may be poorly conditioned\n",
      "  z = np.polyfit(self.df[key], self.df[primeKey], 1)\n",
      "C:\\Users\\fm873\\Documents\\Repos\\LidarAnalysis\\Analysis\\plotter.py:38: RankWarning: Polyfit may be poorly conditioned\n",
      "  z = np.polyfit(self.df[key], self.df[primeKey], 1)\n"
     ]
    },
    {
     "name": "stdout",
     "output_type": "stream",
     "text": [
      "C:/Users/fm873/Documents/Repos/LidarAnalysis/Results\\Handwarmers\\RoseGold\\4ft\\Ambient\\Scatter_NoZero\n",
      "C:/Users/fm873/Documents/Repos/LidarAnalysis/Results\\Handwarmers\\RoseGold\\4ft\\Ambient\\Scatter_NoZero\n",
      "C:/Users/fm873/Documents/Repos/LidarAnalysis/Results\\Handwarmers\\RoseGold\\4ft\\Ambient\\Scatter_NoZero\n",
      "writing file to: C:/Users/fm873/Documents/Repos/LidarAnalysis/Results\\Handwarmers\\RoseGold\\4ft\\Ambient\\Histograms\n",
      "['area', 'distance', 'objectTemperature', 'red', 'blue', 'green', 'temperature', 'humidity', 'light', 'numLidarPoints']\n",
      "C:/Users/fm873/Documents/Repos/LidarAnalysis/Results\\Handwarmers\\RoseGold\\6ft\\40C\n",
      "478.17012987012987\n",
      "Max:\n",
      "2717\n",
      "temp size:\n",
      "2717\n",
      "humid size:\n",
      "2717\n",
      "light size:\n",
      "2717\n",
      "point num size:\n",
      "2717\n",
      "writing file to: C:/Users/fm873/Documents/Repos/LidarAnalysis/Results\\Handwarmers\\RoseGold\\6ft\\40C\\Scatter_NoZero\n",
      "['area', 'distance', 'objectTemperature', 'red', 'blue', 'green', 'temperature', 'humidity', 'light', 'numLidarPoints']\n",
      "C:/Users/fm873/Documents/Repos/LidarAnalysis/Results\\Handwarmers\\RoseGold\\6ft\\40C\\Scatter_NoZero\n",
      "C:/Users/fm873/Documents/Repos/LidarAnalysis/Results\\Handwarmers\\RoseGold\\6ft\\40C\\Scatter_NoZero\n"
     ]
    },
    {
     "name": "stderr",
     "output_type": "stream",
     "text": [
      "C:\\Users\\fm873\\Documents\\Repos\\LidarAnalysis\\Analysis\\plotter.py:38: RankWarning: Polyfit may be poorly conditioned\n",
      "  z = np.polyfit(self.df[key], self.df[primeKey], 1)\n",
      "C:\\Users\\fm873\\Documents\\Repos\\LidarAnalysis\\Analysis\\plotter.py:38: RankWarning: Polyfit may be poorly conditioned\n",
      "  z = np.polyfit(self.df[key], self.df[primeKey], 1)\n"
     ]
    },
    {
     "name": "stdout",
     "output_type": "stream",
     "text": [
      "C:/Users/fm873/Documents/Repos/LidarAnalysis/Results\\Handwarmers\\RoseGold\\6ft\\40C\\Scatter_NoZero\n",
      "C:/Users/fm873/Documents/Repos/LidarAnalysis/Results\\Handwarmers\\RoseGold\\6ft\\40C\\Scatter_NoZero\n"
     ]
    },
    {
     "name": "stderr",
     "output_type": "stream",
     "text": [
      "C:\\Users\\fm873\\Documents\\Repos\\LidarAnalysis\\Analysis\\plotter.py:38: RankWarning: Polyfit may be poorly conditioned\n",
      "  z = np.polyfit(self.df[key], self.df[primeKey], 1)\n",
      "C:\\Users\\fm873\\Documents\\Repos\\LidarAnalysis\\Analysis\\plotter.py:38: RankWarning: Polyfit may be poorly conditioned\n",
      "  z = np.polyfit(self.df[key], self.df[primeKey], 1)\n"
     ]
    },
    {
     "name": "stdout",
     "output_type": "stream",
     "text": [
      "C:/Users/fm873/Documents/Repos/LidarAnalysis/Results\\Handwarmers\\RoseGold\\6ft\\40C\\Scatter_NoZero\n",
      "C:/Users/fm873/Documents/Repos/LidarAnalysis/Results\\Handwarmers\\RoseGold\\6ft\\40C\\Scatter_NoZero\n"
     ]
    },
    {
     "name": "stderr",
     "output_type": "stream",
     "text": [
      "C:\\Users\\fm873\\Documents\\Repos\\LidarAnalysis\\Analysis\\plotter.py:38: RankWarning: Polyfit may be poorly conditioned\n",
      "  z = np.polyfit(self.df[key], self.df[primeKey], 1)\n",
      "C:\\Users\\fm873\\Documents\\Repos\\LidarAnalysis\\Analysis\\plotter.py:38: RankWarning: Polyfit may be poorly conditioned\n",
      "  z = np.polyfit(self.df[key], self.df[primeKey], 1)\n"
     ]
    },
    {
     "name": "stdout",
     "output_type": "stream",
     "text": [
      "C:/Users/fm873/Documents/Repos/LidarAnalysis/Results\\Handwarmers\\RoseGold\\6ft\\40C\\Scatter_NoZero\n",
      "C:/Users/fm873/Documents/Repos/LidarAnalysis/Results\\Handwarmers\\RoseGold\\6ft\\40C\\Scatter_NoZero\n",
      "C:/Users/fm873/Documents/Repos/LidarAnalysis/Results\\Handwarmers\\RoseGold\\6ft\\40C\\Scatter_NoZero\n",
      "writing file to: C:/Users/fm873/Documents/Repos/LidarAnalysis/Results\\Handwarmers\\RoseGold\\6ft\\40C\\Histograms\n",
      "['area', 'distance', 'objectTemperature', 'red', 'blue', 'green', 'temperature', 'humidity', 'light', 'numLidarPoints']\n",
      "C:/Users/fm873/Documents/Repos/LidarAnalysis/Results\\Handwarmers\\RoseGold\\6ft\\50C\n",
      "488.2042253521127\n",
      "Max:\n",
      "142\n",
      "temp size:\n",
      "142\n",
      "humid size:\n",
      "142\n",
      "light size:\n",
      "142\n",
      "point num size:\n",
      "142\n",
      "writing file to: C:/Users/fm873/Documents/Repos/LidarAnalysis/Results\\Handwarmers\\RoseGold\\6ft\\50C\\Scatter_NoZero\n",
      "['area', 'distance', 'objectTemperature', 'red', 'blue', 'green', 'temperature', 'humidity', 'light', 'numLidarPoints']\n",
      "C:/Users/fm873/Documents/Repos/LidarAnalysis/Results\\Handwarmers\\RoseGold\\6ft\\50C\\Scatter_NoZero\n",
      "C:/Users/fm873/Documents/Repos/LidarAnalysis/Results\\Handwarmers\\RoseGold\\6ft\\50C\\Scatter_NoZero\n"
     ]
    },
    {
     "name": "stderr",
     "output_type": "stream",
     "text": [
      "C:\\Users\\fm873\\Documents\\Repos\\LidarAnalysis\\Analysis\\plotter.py:38: RankWarning: Polyfit may be poorly conditioned\n",
      "  z = np.polyfit(self.df[key], self.df[primeKey], 1)\n",
      "C:\\Users\\fm873\\Documents\\Repos\\LidarAnalysis\\Analysis\\plotter.py:38: RankWarning: Polyfit may be poorly conditioned\n",
      "  z = np.polyfit(self.df[key], self.df[primeKey], 1)\n"
     ]
    },
    {
     "name": "stdout",
     "output_type": "stream",
     "text": [
      "C:/Users/fm873/Documents/Repos/LidarAnalysis/Results\\Handwarmers\\RoseGold\\6ft\\50C\\Scatter_NoZero\n",
      "C:/Users/fm873/Documents/Repos/LidarAnalysis/Results\\Handwarmers\\RoseGold\\6ft\\50C\\Scatter_NoZero\n",
      "C:/Users/fm873/Documents/Repos/LidarAnalysis/Results\\Handwarmers\\RoseGold\\6ft\\50C\\Scatter_NoZero"
     ]
    },
    {
     "name": "stderr",
     "output_type": "stream",
     "text": [
      "C:\\Users\\fm873\\Documents\\Repos\\LidarAnalysis\\Analysis\\plotter.py:38: RankWarning: Polyfit may be poorly conditioned\n",
      "  z = np.polyfit(self.df[key], self.df[primeKey], 1)\n",
      "C:\\Users\\fm873\\Documents\\Repos\\LidarAnalysis\\Analysis\\plotter.py:38: RankWarning: Polyfit may be poorly conditioned\n",
      "  z = np.polyfit(self.df[key], self.df[primeKey], 1)\n"
     ]
    },
    {
     "name": "stdout",
     "output_type": "stream",
     "text": [
      "\n",
      "C:/Users/fm873/Documents/Repos/LidarAnalysis/Results\\Handwarmers\\RoseGold\\6ft\\50C\\Scatter_NoZero\n"
     ]
    },
    {
     "name": "stderr",
     "output_type": "stream",
     "text": [
      "C:\\Users\\fm873\\Documents\\Repos\\LidarAnalysis\\Analysis\\plotter.py:38: RankWarning: Polyfit may be poorly conditioned\n",
      "  z = np.polyfit(self.df[key], self.df[primeKey], 1)\n",
      "C:\\Users\\fm873\\Documents\\Repos\\LidarAnalysis\\Analysis\\plotter.py:38: RankWarning: Polyfit may be poorly conditioned\n",
      "  z = np.polyfit(self.df[key], self.df[primeKey], 1)\n"
     ]
    },
    {
     "name": "stdout",
     "output_type": "stream",
     "text": [
      "C:/Users/fm873/Documents/Repos/LidarAnalysis/Results\\Handwarmers\\RoseGold\\6ft\\50C\\Scatter_NoZero\n",
      "C:/Users/fm873/Documents/Repos/LidarAnalysis/Results\\Handwarmers\\RoseGold\\6ft\\50C\\Scatter_NoZero\n",
      "C:/Users/fm873/Documents/Repos/LidarAnalysis/Results\\Handwarmers\\RoseGold\\6ft\\50C\\Scatter_NoZero\n",
      "writing file to: C:/Users/fm873/Documents/Repos/LidarAnalysis/Results\\Handwarmers\\RoseGold\\6ft\\50C\\Histograms\n",
      "['area', 'distance', 'objectTemperature', 'red', 'blue', 'green', 'temperature', 'humidity', 'light', 'numLidarPoints']\n",
      "C:/Users/fm873/Documents/Repos/LidarAnalysis/Results\\Handwarmers\\RoseGold\\6ft\\Ambient\n",
      "549.1127031277302\n",
      "Max:\n",
      "2481\n",
      "temp size:\n",
      "2481\n",
      "humid size:\n",
      "2481\n",
      "light size:\n",
      "2481\n",
      "point num size:\n",
      "2481\n",
      "writing file to: C:/Users/fm873/Documents/Repos/LidarAnalysis/Results\\Handwarmers\\RoseGold\\6ft\\Ambient\\Scatter_NoZero\n",
      "['area', 'distance', 'objectTemperature', 'red', 'blue', 'green', 'temperature', 'humidity', 'light', 'numLidarPoints']\n",
      "C:/Users/fm873/Documents/Repos/LidarAnalysis/Results\\Handwarmers\\RoseGold\\6ft\\Ambient\\Scatter_NoZero\n"
     ]
    },
    {
     "name": "stderr",
     "output_type": "stream",
     "text": [
      "C:\\Users\\fm873\\Documents\\Repos\\LidarAnalysis\\Analysis\\plotter.py:38: RankWarning: Polyfit may be poorly conditioned\n",
      "  z = np.polyfit(self.df[key], self.df[primeKey], 1)\n"
     ]
    },
    {
     "name": "stdout",
     "output_type": "stream",
     "text": [
      "C:/Users/fm873/Documents/Repos/LidarAnalysis/Results\\Handwarmers\\RoseGold\\6ft\\Ambient\\Scatter_NoZero\n"
     ]
    },
    {
     "name": "stderr",
     "output_type": "stream",
     "text": [
      "C:\\Users\\fm873\\Documents\\Repos\\LidarAnalysis\\Analysis\\plotter.py:38: RankWarning: Polyfit may be poorly conditioned\n",
      "  z = np.polyfit(self.df[key], self.df[primeKey], 1)\n"
     ]
    },
    {
     "name": "stdout",
     "output_type": "stream",
     "text": [
      "C:/Users/fm873/Documents/Repos/LidarAnalysis/Results\\Handwarmers\\RoseGold\\6ft\\Ambient\\Scatter_NoZero\n",
      "C:/Users/fm873/Documents/Repos/LidarAnalysis/Results\\Handwarmers\\RoseGold\\6ft\\Ambient\\Scatter_NoZero\n"
     ]
    },
    {
     "name": "stderr",
     "output_type": "stream",
     "text": [
      "C:\\Users\\fm873\\Documents\\Repos\\LidarAnalysis\\Analysis\\plotter.py:38: RankWarning: Polyfit may be poorly conditioned\n",
      "  z = np.polyfit(self.df[key], self.df[primeKey], 1)\n",
      "C:\\Users\\fm873\\Documents\\Repos\\LidarAnalysis\\Analysis\\plotter.py:38: RankWarning: Polyfit may be poorly conditioned\n",
      "  z = np.polyfit(self.df[key], self.df[primeKey], 1)\n"
     ]
    },
    {
     "name": "stdout",
     "output_type": "stream",
     "text": [
      "C:/Users/fm873/Documents/Repos/LidarAnalysis/Results\\Handwarmers\\RoseGold\\6ft\\Ambient\\Scatter_NoZero\n",
      "C:/Users/fm873/Documents/Repos/LidarAnalysis/Results\\Handwarmers\\RoseGold\\6ft\\Ambient\\Scatter_NoZero\n"
     ]
    },
    {
     "name": "stderr",
     "output_type": "stream",
     "text": [
      "C:\\Users\\fm873\\Documents\\Repos\\LidarAnalysis\\Analysis\\plotter.py:38: RankWarning: Polyfit may be poorly conditioned\n",
      "  z = np.polyfit(self.df[key], self.df[primeKey], 1)\n",
      "C:\\Users\\fm873\\Documents\\Repos\\LidarAnalysis\\Analysis\\plotter.py:38: RankWarning: Polyfit may be poorly conditioned\n",
      "  z = np.polyfit(self.df[key], self.df[primeKey], 1)\n"
     ]
    },
    {
     "name": "stdout",
     "output_type": "stream",
     "text": [
      "C:/Users/fm873/Documents/Repos/LidarAnalysis/Results\\Handwarmers\\RoseGold\\6ft\\Ambient\\Scatter_NoZero\n",
      "C:/Users/fm873/Documents/Repos/LidarAnalysis/Results\\Handwarmers\\RoseGold\\6ft\\Ambient\\Scatter_NoZero\n",
      "C:/Users/fm873/Documents/Repos/LidarAnalysis/Results\\Handwarmers\\RoseGold\\6ft\\Ambient\\Scatter_NoZero\n",
      "writing file to: C:/Users/fm873/Documents/Repos/LidarAnalysis/Results\\Handwarmers\\RoseGold\\6ft\\Ambient\\Histograms\n",
      "['area', 'distance', 'objectTemperature', 'red', 'blue', 'green', 'temperature', 'humidity', 'light', 'numLidarPoints']\n",
      "C:/Users/fm873/Documents/Repos/LidarAnalysis/Results\\Handwarmers\\Silver\\2ft\\40C\n",
      "2692.1344344152103\n",
      "Max:\n",
      "2293\n",
      "temp size:\n",
      "2293\n",
      "humid size:\n",
      "2293\n",
      "light size:\n",
      "2293\n",
      "point num size:\n",
      "2293\n",
      "writing file to: C:/Users/fm873/Documents/Repos/LidarAnalysis/Results\\Handwarmers\\Silver\\2ft\\40C\\Scatter_NoZero\n",
      "['area', 'distance', 'objectTemperature', 'red', 'blue', 'green', 'temperature', 'humidity', 'light', 'numLidarPoints']\n",
      "C:/Users/fm873/Documents/Repos/LidarAnalysis/Results\\Handwarmers\\Silver\\2ft\\40C\\Scatter_NoZero\n",
      "C:/Users/fm873/Documents/Repos/LidarAnalysis/Results\\Handwarmers\\Silver\\2ft\\40C\\Scatter_NoZero\n"
     ]
    },
    {
     "name": "stderr",
     "output_type": "stream",
     "text": [
      "C:\\Users\\fm873\\Documents\\Repos\\LidarAnalysis\\Analysis\\plotter.py:38: RankWarning: Polyfit may be poorly conditioned\n",
      "  z = np.polyfit(self.df[key], self.df[primeKey], 1)\n",
      "C:\\Users\\fm873\\Documents\\Repos\\LidarAnalysis\\Analysis\\plotter.py:38: RankWarning: Polyfit may be poorly conditioned\n",
      "  z = np.polyfit(self.df[key], self.df[primeKey], 1)\n"
     ]
    },
    {
     "name": "stdout",
     "output_type": "stream",
     "text": [
      "C:/Users/fm873/Documents/Repos/LidarAnalysis/Results\\Handwarmers\\Silver\\2ft\\40C\\Scatter_NoZero\n",
      "C:/Users/fm873/Documents/Repos/LidarAnalysis/Results\\Handwarmers\\Silver\\2ft\\40C\\Scatter_NoZero\n"
     ]
    },
    {
     "name": "stderr",
     "output_type": "stream",
     "text": [
      "C:\\Users\\fm873\\Documents\\Repos\\LidarAnalysis\\Analysis\\plotter.py:38: RankWarning: Polyfit may be poorly conditioned\n",
      "  z = np.polyfit(self.df[key], self.df[primeKey], 1)\n",
      "C:\\Users\\fm873\\Documents\\Repos\\LidarAnalysis\\Analysis\\plotter.py:38: RankWarning: Polyfit may be poorly conditioned\n",
      "  z = np.polyfit(self.df[key], self.df[primeKey], 1)\n"
     ]
    },
    {
     "name": "stdout",
     "output_type": "stream",
     "text": [
      "C:/Users/fm873/Documents/Repos/LidarAnalysis/Results\\Handwarmers\\Silver\\2ft\\40C\\Scatter_NoZero\n",
      "C:/Users/fm873/Documents/Repos/LidarAnalysis/Results\\Handwarmers\\Silver\\2ft\\40C\\Scatter_NoZero\n"
     ]
    },
    {
     "name": "stderr",
     "output_type": "stream",
     "text": [
      "C:\\Users\\fm873\\Documents\\Repos\\LidarAnalysis\\Analysis\\plotter.py:38: RankWarning: Polyfit may be poorly conditioned\n",
      "  z = np.polyfit(self.df[key], self.df[primeKey], 1)\n",
      "C:\\Users\\fm873\\Documents\\Repos\\LidarAnalysis\\Analysis\\plotter.py:38: RankWarning: Polyfit may be poorly conditioned\n",
      "  z = np.polyfit(self.df[key], self.df[primeKey], 1)\n"
     ]
    },
    {
     "name": "stdout",
     "output_type": "stream",
     "text": [
      "C:/Users/fm873/Documents/Repos/LidarAnalysis/Results\\Handwarmers\\Silver\\2ft\\40C\\Scatter_NoZero\n",
      "C:/Users/fm873/Documents/Repos/LidarAnalysis/Results\\Handwarmers\\Silver\\2ft\\40C\\Scatter_NoZero\n",
      "C:/Users/fm873/Documents/Repos/LidarAnalysis/Results\\Handwarmers\\Silver\\2ft\\40C\\Scatter_NoZero\n",
      "writing file to: C:/Users/fm873/Documents/Repos/LidarAnalysis/Results\\Handwarmers\\Silver\\2ft\\40C\\Histograms\n",
      "['area', 'distance', 'objectTemperature', 'red', 'blue', 'green', 'temperature', 'humidity', 'light', 'numLidarPoints']\n",
      "C:/Users/fm873/Documents/Repos/LidarAnalysis/Results\\Handwarmers\\Silver\\2ft\\45C\n",
      "2756.009713090257\n",
      "Max:\n",
      "2732\n",
      "temp size:\n",
      "2732\n",
      "humid size:\n",
      "2732\n",
      "light size:\n",
      "2732\n",
      "point num size:\n",
      "2732\n",
      "writing file to: C:/Users/fm873/Documents/Repos/LidarAnalysis/Results\\Handwarmers\\Silver\\2ft\\45C\\Scatter_NoZero\n",
      "['area', 'distance', 'objectTemperature', 'red', 'blue', 'green', 'temperature', 'humidity', 'light', 'numLidarPoints']\n",
      "C:/Users/fm873/Documents/Repos/LidarAnalysis/Results\\Handwarmers\\Silver\\2ft\\45C\\Scatter_NoZero\n",
      "C:/Users/fm873/Documents/Repos/LidarAnalysis/Results\\Handwarmers\\Silver\\2ft\\45C\\Scatter_NoZero\n"
     ]
    },
    {
     "name": "stderr",
     "output_type": "stream",
     "text": [
      "C:\\Users\\fm873\\Documents\\Repos\\LidarAnalysis\\Analysis\\plotter.py:38: RankWarning: Polyfit may be poorly conditioned\n",
      "  z = np.polyfit(self.df[key], self.df[primeKey], 1)\n",
      "C:\\Users\\fm873\\Documents\\Repos\\LidarAnalysis\\Analysis\\plotter.py:38: RankWarning: Polyfit may be poorly conditioned\n",
      "  z = np.polyfit(self.df[key], self.df[primeKey], 1)\n"
     ]
    },
    {
     "name": "stdout",
     "output_type": "stream",
     "text": [
      "C:/Users/fm873/Documents/Repos/LidarAnalysis/Results\\Handwarmers\\Silver\\2ft\\45C\\Scatter_NoZero\n",
      "C:/Users/fm873/Documents/Repos/LidarAnalysis/Results\\Handwarmers\\Silver\\2ft\\45C\\Scatter_NoZero\n"
     ]
    },
    {
     "name": "stderr",
     "output_type": "stream",
     "text": [
      "C:\\Users\\fm873\\Documents\\Repos\\LidarAnalysis\\Analysis\\plotter.py:38: RankWarning: Polyfit may be poorly conditioned\n",
      "  z = np.polyfit(self.df[key], self.df[primeKey], 1)\n",
      "C:\\Users\\fm873\\Documents\\Repos\\LidarAnalysis\\Analysis\\plotter.py:38: RankWarning: Polyfit may be poorly conditioned\n",
      "  z = np.polyfit(self.df[key], self.df[primeKey], 1)\n"
     ]
    },
    {
     "name": "stdout",
     "output_type": "stream",
     "text": [
      "C:/Users/fm873/Documents/Repos/LidarAnalysis/Results\\Handwarmers\\Silver\\2ft\\45C\\Scatter_NoZero\n",
      "C:/Users/fm873/Documents/Repos/LidarAnalysis/Results\\Handwarmers\\Silver\\2ft\\45C\\Scatter_NoZero\n"
     ]
    },
    {
     "name": "stderr",
     "output_type": "stream",
     "text": [
      "C:\\Users\\fm873\\Documents\\Repos\\LidarAnalysis\\Analysis\\plotter.py:38: RankWarning: Polyfit may be poorly conditioned\n",
      "  z = np.polyfit(self.df[key], self.df[primeKey], 1)\n",
      "C:\\Users\\fm873\\Documents\\Repos\\LidarAnalysis\\Analysis\\plotter.py:38: RankWarning: Polyfit may be poorly conditioned\n",
      "  z = np.polyfit(self.df[key], self.df[primeKey], 1)\n"
     ]
    },
    {
     "name": "stdout",
     "output_type": "stream",
     "text": [
      "C:/Users/fm873/Documents/Repos/LidarAnalysis/Results\\Handwarmers\\Silver\\2ft\\45C\\Scatter_NoZero\n",
      "C:/Users/fm873/Documents/Repos/LidarAnalysis/Results\\Handwarmers\\Silver\\2ft\\45C\\Scatter_NoZero\n",
      "C:/Users/fm873/Documents/Repos/LidarAnalysis/Results\\Handwarmers\\Silver\\2ft\\45C\\Scatter_NoZero\n",
      "writing file to: C:/Users/fm873/Documents/Repos/LidarAnalysis/Results\\Handwarmers\\Silver\\2ft\\45C\\Histograms\n",
      "['area', 'distance', 'objectTemperature', 'red', 'blue', 'green', 'temperature', 'humidity', 'light', 'numLidarPoints']\n",
      "C:/Users/fm873/Documents/Repos/LidarAnalysis/Results\\Handwarmers\\Silver\\2ft\\Ambient\n",
      "2724.4416739151443\n",
      "Max:\n",
      "3849\n",
      "temp size:\n",
      "3849\n",
      "humid size:\n",
      "3849\n",
      "light size:\n",
      "3849\n",
      "point num size:\n",
      "3849\n",
      "writing file to: C:/Users/fm873/Documents/Repos/LidarAnalysis/Results\\Handwarmers\\Silver\\2ft\\Ambient\\Scatter_NoZero\n",
      "['area', 'distance', 'objectTemperature', 'red', 'blue', 'green', 'temperature', 'humidity', 'light', 'numLidarPoints']\n",
      "C:/Users/fm873/Documents/Repos/LidarAnalysis/Results\\Handwarmers\\Silver\\2ft\\Ambient\\Scatter_NoZero\n",
      "C:/Users/fm873/Documents/Repos/LidarAnalysis/Results\\Handwarmers\\Silver\\2ft\\Ambient\\Scatter_NoZero\n"
     ]
    },
    {
     "name": "stderr",
     "output_type": "stream",
     "text": [
      "C:\\Users\\fm873\\Documents\\Repos\\LidarAnalysis\\Analysis\\plotter.py:38: RankWarning: Polyfit may be poorly conditioned\n",
      "  z = np.polyfit(self.df[key], self.df[primeKey], 1)\n",
      "C:\\Users\\fm873\\Documents\\Repos\\LidarAnalysis\\Analysis\\plotter.py:38: RankWarning: Polyfit may be poorly conditioned\n",
      "  z = np.polyfit(self.df[key], self.df[primeKey], 1)\n"
     ]
    },
    {
     "name": "stdout",
     "output_type": "stream",
     "text": [
      "C:/Users/fm873/Documents/Repos/LidarAnalysis/Results\\Handwarmers\\Silver\\2ft\\Ambient\\Scatter_NoZero\n",
      "C:/Users/fm873/Documents/Repos/LidarAnalysis/Results\\Handwarmers\\Silver\\2ft\\Ambient\\Scatter_NoZero\n"
     ]
    },
    {
     "name": "stderr",
     "output_type": "stream",
     "text": [
      "C:\\Users\\fm873\\Documents\\Repos\\LidarAnalysis\\Analysis\\plotter.py:38: RankWarning: Polyfit may be poorly conditioned\n",
      "  z = np.polyfit(self.df[key], self.df[primeKey], 1)\n",
      "C:\\Users\\fm873\\Documents\\Repos\\LidarAnalysis\\Analysis\\plotter.py:38: RankWarning: Polyfit may be poorly conditioned\n",
      "  z = np.polyfit(self.df[key], self.df[primeKey], 1)\n"
     ]
    },
    {
     "name": "stdout",
     "output_type": "stream",
     "text": [
      "C:/Users/fm873/Documents/Repos/LidarAnalysis/Results\\Handwarmers\\Silver\\2ft\\Ambient\\Scatter_NoZero\n",
      "C:/Users/fm873/Documents/Repos/LidarAnalysis/Results\\Handwarmers\\Silver\\2ft\\Ambient\\Scatter_NoZero\n"
     ]
    },
    {
     "name": "stderr",
     "output_type": "stream",
     "text": [
      "C:\\Users\\fm873\\Documents\\Repos\\LidarAnalysis\\Analysis\\plotter.py:38: RankWarning: Polyfit may be poorly conditioned\n",
      "  z = np.polyfit(self.df[key], self.df[primeKey], 1)\n",
      "C:\\Users\\fm873\\Documents\\Repos\\LidarAnalysis\\Analysis\\plotter.py:38: RankWarning: Polyfit may be poorly conditioned\n",
      "  z = np.polyfit(self.df[key], self.df[primeKey], 1)\n"
     ]
    },
    {
     "name": "stdout",
     "output_type": "stream",
     "text": [
      "C:/Users/fm873/Documents/Repos/LidarAnalysis/Results\\Handwarmers\\Silver\\2ft\\Ambient\\Scatter_NoZero\n",
      "C:/Users/fm873/Documents/Repos/LidarAnalysis/Results\\Handwarmers\\Silver\\2ft\\Ambient\\Scatter_NoZero\n",
      "C:/Users/fm873/Documents/Repos/LidarAnalysis/Results\\Handwarmers\\Silver\\2ft\\Ambient\\Scatter_NoZero\n",
      "writing file to: C:/Users/fm873/Documents/Repos/LidarAnalysis/Results\\Handwarmers\\Silver\\2ft\\Ambient\\Histograms\n",
      "['area', 'distance', 'objectTemperature', 'red', 'blue', 'green', 'temperature', 'humidity', 'light', 'numLidarPoints']\n",
      "C:/Users/fm873/Documents/Repos/LidarAnalysis/Results\\Handwarmers\\Silver\\4ft\\40C\n",
      "1260.6498944405348\n",
      "Max:\n",
      "2381\n",
      "temp size:\n",
      "2381\n",
      "humid size:\n",
      "2381\n",
      "light size:\n",
      "2381\n",
      "point num size:\n",
      "2381\n",
      "writing file to: C:/Users/fm873/Documents/Repos/LidarAnalysis/Results\\Handwarmers\\Silver\\4ft\\40C\\Scatter_NoZero\n",
      "['area', 'distance', 'objectTemperature', 'red', 'blue', 'green', 'temperature', 'humidity', 'light', 'numLidarPoints']\n",
      "C:/Users/fm873/Documents/Repos/LidarAnalysis/Results\\Handwarmers\\Silver\\4ft\\40C\\Scatter_NoZero\n",
      "C:/Users/fm873/Documents/Repos/LidarAnalysis/Results\\Handwarmers\\Silver\\4ft\\40C\\Scatter_NoZero\n"
     ]
    },
    {
     "name": "stderr",
     "output_type": "stream",
     "text": [
      "C:\\Users\\fm873\\Documents\\Repos\\LidarAnalysis\\Analysis\\plotter.py:38: RankWarning: Polyfit may be poorly conditioned\n",
      "  z = np.polyfit(self.df[key], self.df[primeKey], 1)\n",
      "C:\\Users\\fm873\\Documents\\Repos\\LidarAnalysis\\Analysis\\plotter.py:38: RankWarning: Polyfit may be poorly conditioned\n",
      "  z = np.polyfit(self.df[key], self.df[primeKey], 1)\n"
     ]
    },
    {
     "name": "stdout",
     "output_type": "stream",
     "text": [
      "C:/Users/fm873/Documents/Repos/LidarAnalysis/Results\\Handwarmers\\Silver\\4ft\\40C\\Scatter_NoZero\n",
      "C:/Users/fm873/Documents/Repos/LidarAnalysis/Results\\Handwarmers\\Silver\\4ft\\40C\\Scatter_NoZero\n"
     ]
    },
    {
     "name": "stderr",
     "output_type": "stream",
     "text": [
      "C:\\Users\\fm873\\Documents\\Repos\\LidarAnalysis\\Analysis\\plotter.py:38: RankWarning: Polyfit may be poorly conditioned\n",
      "  z = np.polyfit(self.df[key], self.df[primeKey], 1)\n",
      "C:\\Users\\fm873\\Documents\\Repos\\LidarAnalysis\\Analysis\\plotter.py:38: RankWarning: Polyfit may be poorly conditioned\n",
      "  z = np.polyfit(self.df[key], self.df[primeKey], 1)\n"
     ]
    },
    {
     "name": "stdout",
     "output_type": "stream",
     "text": [
      "C:/Users/fm873/Documents/Repos/LidarAnalysis/Results\\Handwarmers\\Silver\\4ft\\40C\\Scatter_NoZero\n",
      "C:/Users/fm873/Documents/Repos/LidarAnalysis/Results\\Handwarmers\\Silver\\4ft\\40C\\Scatter_NoZero\n"
     ]
    },
    {
     "name": "stderr",
     "output_type": "stream",
     "text": [
      "C:\\Users\\fm873\\Documents\\Repos\\LidarAnalysis\\Analysis\\plotter.py:38: RankWarning: Polyfit may be poorly conditioned\n",
      "  z = np.polyfit(self.df[key], self.df[primeKey], 1)\n",
      "C:\\Users\\fm873\\Documents\\Repos\\LidarAnalysis\\Analysis\\plotter.py:38: RankWarning: Polyfit may be poorly conditioned\n",
      "  z = np.polyfit(self.df[key], self.df[primeKey], 1)\n"
     ]
    },
    {
     "name": "stdout",
     "output_type": "stream",
     "text": [
      "C:/Users/fm873/Documents/Repos/LidarAnalysis/Results\\Handwarmers\\Silver\\4ft\\40C\\Scatter_NoZero\n",
      "C:/Users/fm873/Documents/Repos/LidarAnalysis/Results\\Handwarmers\\Silver\\4ft\\40C\\Scatter_NoZero\n",
      "C:/Users/fm873/Documents/Repos/LidarAnalysis/Results\\Handwarmers\\Silver\\4ft\\40C\\Scatter_NoZero\n",
      "writing file to: C:/Users/fm873/Documents/Repos/LidarAnalysis/Results\\Handwarmers\\Silver\\4ft\\40C\\Histograms\n",
      "['area', 'distance', 'objectTemperature', 'red', 'blue', 'green', 'temperature', 'humidity', 'light', 'numLidarPoints']\n",
      "C:/Users/fm873/Documents/Repos/LidarAnalysis/Results\\Handwarmers\\Silver\\4ft\\45C\n",
      "1180.9917517674785\n",
      "Max:\n",
      "3098\n",
      "temp size:\n",
      "3098\n",
      "humid size:\n",
      "3098\n",
      "light size:\n",
      "3098\n",
      "point num size:\n",
      "3098\n",
      "writing file to: C:/Users/fm873/Documents/Repos/LidarAnalysis/Results\\Handwarmers\\Silver\\4ft\\45C\\Scatter_NoZero\n",
      "['area', 'distance', 'objectTemperature', 'red', 'blue', 'green', 'temperature', 'humidity', 'light', 'numLidarPoints']\n",
      "C:/Users/fm873/Documents/Repos/LidarAnalysis/Results\\Handwarmers\\Silver\\4ft\\45C\\Scatter_NoZero\n",
      "C:/Users/fm873/Documents/Repos/LidarAnalysis/Results\\Handwarmers\\Silver\\4ft\\45C\\Scatter_NoZero\n",
      "C:/Users/fm873/Documents/Repos/LidarAnalysis/Results\\Handwarmers\\Silver\\4ft\\45C\\Scatter_NoZero\n"
     ]
    },
    {
     "name": "stderr",
     "output_type": "stream",
     "text": [
      "C:\\Users\\fm873\\Documents\\Repos\\LidarAnalysis\\Analysis\\plotter.py:38: RankWarning: Polyfit may be poorly conditioned\n",
      "  z = np.polyfit(self.df[key], self.df[primeKey], 1)\n",
      "C:\\Users\\fm873\\Documents\\Repos\\LidarAnalysis\\Analysis\\plotter.py:38: RankWarning: Polyfit may be poorly conditioned\n",
      "  z = np.polyfit(self.df[key], self.df[primeKey], 1)\n",
      "C:\\Users\\fm873\\Documents\\Repos\\LidarAnalysis\\Analysis\\plotter.py:38: RankWarning: Polyfit may be poorly conditioned\n",
      "  z = np.polyfit(self.df[key], self.df[primeKey], 1)\n",
      "C:\\Users\\fm873\\Documents\\Repos\\LidarAnalysis\\Analysis\\plotter.py:38: RankWarning: Polyfit may be poorly conditioned\n",
      "  z = np.polyfit(self.df[key], self.df[primeKey], 1)\n"
     ]
    },
    {
     "name": "stdout",
     "output_type": "stream",
     "text": [
      "C:/Users/fm873/Documents/Repos/LidarAnalysis/Results\\Handwarmers\\Silver\\4ft\\45C\\Scatter_NoZero\n",
      "C:/Users/fm873/Documents/Repos/LidarAnalysis/Results\\Handwarmers\\Silver\\4ft\\45C\\Scatter_NoZero\n"
     ]
    },
    {
     "name": "stderr",
     "output_type": "stream",
     "text": [
      "C:\\Users\\fm873\\Documents\\Repos\\LidarAnalysis\\Analysis\\plotter.py:38: RankWarning: Polyfit may be poorly conditioned\n",
      "  z = np.polyfit(self.df[key], self.df[primeKey], 1)\n",
      "C:\\Users\\fm873\\Documents\\Repos\\LidarAnalysis\\Analysis\\plotter.py:38: RankWarning: Polyfit may be poorly conditioned\n",
      "  z = np.polyfit(self.df[key], self.df[primeKey], 1)\n"
     ]
    },
    {
     "name": "stdout",
     "output_type": "stream",
     "text": [
      "C:/Users/fm873/Documents/Repos/LidarAnalysis/Results\\Handwarmers\\Silver\\4ft\\45C\\Scatter_NoZero\n",
      "C:/Users/fm873/Documents/Repos/LidarAnalysis/Results\\Handwarmers\\Silver\\4ft\\45C\\Scatter_NoZero\n",
      "C:/Users/fm873/Documents/Repos/LidarAnalysis/Results\\Handwarmers\\Silver\\4ft\\45C\\Scatter_NoZero\n",
      "C:/Users/fm873/Documents/Repos/LidarAnalysis/Results\\Handwarmers\\Silver\\4ft\\45C\\Scatter_NoZero\n",
      "writing file to: C:/Users/fm873/Documents/Repos/LidarAnalysis/Results\\Handwarmers\\Silver\\4ft\\45C\\Histograms\n",
      "['area', 'distance', 'objectTemperature', 'red', 'blue', 'green', 'temperature', 'humidity', 'light', 'numLidarPoints']\n",
      "C:/Users/fm873/Documents/Repos/LidarAnalysis/Results\\Handwarmers\\Silver\\4ft\\Ambient\n",
      "788.8945476333133\n",
      "Max:\n",
      "2169\n",
      "temp size:\n",
      "2169\n",
      "humid size:\n",
      "2169\n",
      "light size:\n",
      "2169\n",
      "point num size:\n",
      "2169\n",
      "writing file to: C:/Users/fm873/Documents/Repos/LidarAnalysis/Results\\Handwarmers\\Silver\\4ft\\Ambient\\Scatter_NoZero\n",
      "['area', 'distance', 'objectTemperature', 'red', 'blue', 'green', 'temperature', 'humidity', 'light', 'numLidarPoints']\n",
      "C:/Users/fm873/Documents/Repos/LidarAnalysis/Results\\Handwarmers\\Silver\\4ft\\Ambient\\Scatter_NoZero\n",
      "C:/Users/fm873/Documents/Repos/LidarAnalysis/Results\\Handwarmers\\Silver\\4ft\\Ambient\\Scatter_NoZero\n"
     ]
    },
    {
     "name": "stderr",
     "output_type": "stream",
     "text": [
      "C:\\Users\\fm873\\Documents\\Repos\\LidarAnalysis\\Analysis\\plotter.py:38: RankWarning: Polyfit may be poorly conditioned\n",
      "  z = np.polyfit(self.df[key], self.df[primeKey], 1)\n",
      "C:\\Users\\fm873\\Documents\\Repos\\LidarAnalysis\\Analysis\\plotter.py:38: RankWarning: Polyfit may be poorly conditioned\n",
      "  z = np.polyfit(self.df[key], self.df[primeKey], 1)\n"
     ]
    },
    {
     "name": "stdout",
     "output_type": "stream",
     "text": [
      "C:/Users/fm873/Documents/Repos/LidarAnalysis/Results\\Handwarmers\\Silver\\4ft\\Ambient\\Scatter_NoZero\n",
      "C:/Users/fm873/Documents/Repos/LidarAnalysis/Results\\Handwarmers\\Silver\\4ft\\Ambient\\Scatter_NoZero\n"
     ]
    },
    {
     "name": "stderr",
     "output_type": "stream",
     "text": [
      "C:\\Users\\fm873\\Documents\\Repos\\LidarAnalysis\\Analysis\\plotter.py:38: RankWarning: Polyfit may be poorly conditioned\n",
      "  z = np.polyfit(self.df[key], self.df[primeKey], 1)\n",
      "C:\\Users\\fm873\\Documents\\Repos\\LidarAnalysis\\Analysis\\plotter.py:38: RankWarning: Polyfit may be poorly conditioned\n",
      "  z = np.polyfit(self.df[key], self.df[primeKey], 1)\n"
     ]
    },
    {
     "name": "stdout",
     "output_type": "stream",
     "text": [
      "C:/Users/fm873/Documents/Repos/LidarAnalysis/Results\\Handwarmers\\Silver\\4ft\\Ambient\\Scatter_NoZero\n",
      "C:/Users/fm873/Documents/Repos/LidarAnalysis/Results\\Handwarmers\\Silver\\4ft\\Ambient\\Scatter_NoZero\n"
     ]
    },
    {
     "name": "stderr",
     "output_type": "stream",
     "text": [
      "C:\\Users\\fm873\\Documents\\Repos\\LidarAnalysis\\Analysis\\plotter.py:38: RankWarning: Polyfit may be poorly conditioned\n",
      "  z = np.polyfit(self.df[key], self.df[primeKey], 1)\n",
      "C:\\Users\\fm873\\Documents\\Repos\\LidarAnalysis\\Analysis\\plotter.py:38: RankWarning: Polyfit may be poorly conditioned\n",
      "  z = np.polyfit(self.df[key], self.df[primeKey], 1)\n"
     ]
    },
    {
     "name": "stdout",
     "output_type": "stream",
     "text": [
      "C:/Users/fm873/Documents/Repos/LidarAnalysis/Results\\Handwarmers\\Silver\\4ft\\Ambient\\Scatter_NoZero\n",
      "C:/Users/fm873/Documents/Repos/LidarAnalysis/Results\\Handwarmers\\Silver\\4ft\\Ambient\\Scatter_NoZero\n",
      "C:/Users/fm873/Documents/Repos/LidarAnalysis/Results\\Handwarmers\\Silver\\4ft\\Ambient\\Scatter_NoZero\n",
      "writing file to: C:/Users/fm873/Documents/Repos/LidarAnalysis/Results\\Handwarmers\\Silver\\4ft\\Ambient\\Histograms\n",
      "['area', 'distance', 'objectTemperature', 'red', 'blue', 'green', 'temperature', 'humidity', 'light', 'numLidarPoints']\n",
      "C:/Users/fm873/Documents/Repos/LidarAnalysis/Results\\Handwarmers\\Silver\\6ft\\40C\n",
      "517.2899821399578\n",
      "Max:\n",
      "2717\n",
      "temp size:\n",
      "2717\n",
      "humid size:\n",
      "2717\n",
      "light size:\n",
      "2717\n",
      "point num size:\n",
      "2717\n",
      "writing file to: C:/Users/fm873/Documents/Repos/LidarAnalysis/Results\\Handwarmers\\Silver\\6ft\\40C\\Scatter_NoZero\n",
      "['area', 'distance', 'objectTemperature', 'red', 'blue', 'green', 'temperature', 'humidity', 'light', 'numLidarPoints']\n",
      "C:/Users/fm873/Documents/Repos/LidarAnalysis/Results\\Handwarmers\\Silver\\6ft\\40C\\Scatter_NoZero\n",
      "C:/Users/fm873/Documents/Repos/LidarAnalysis/Results\\Handwarmers\\Silver\\6ft\\40C\\Scatter_NoZero\n"
     ]
    },
    {
     "name": "stderr",
     "output_type": "stream",
     "text": [
      "C:\\Users\\fm873\\Documents\\Repos\\LidarAnalysis\\Analysis\\plotter.py:38: RankWarning: Polyfit may be poorly conditioned\n",
      "  z = np.polyfit(self.df[key], self.df[primeKey], 1)\n",
      "C:\\Users\\fm873\\Documents\\Repos\\LidarAnalysis\\Analysis\\plotter.py:38: RankWarning: Polyfit may be poorly conditioned\n",
      "  z = np.polyfit(self.df[key], self.df[primeKey], 1)\n"
     ]
    },
    {
     "name": "stdout",
     "output_type": "stream",
     "text": [
      "C:/Users/fm873/Documents/Repos/LidarAnalysis/Results\\Handwarmers\\Silver\\6ft\\40C\\Scatter_NoZero\n",
      "C:/Users/fm873/Documents/Repos/LidarAnalysis/Results\\Handwarmers\\Silver\\6ft\\40C\\Scatter_NoZero\n"
     ]
    },
    {
     "name": "stderr",
     "output_type": "stream",
     "text": [
      "C:\\Users\\fm873\\Documents\\Repos\\LidarAnalysis\\Analysis\\plotter.py:38: RankWarning: Polyfit may be poorly conditioned\n",
      "  z = np.polyfit(self.df[key], self.df[primeKey], 1)\n",
      "C:\\Users\\fm873\\Documents\\Repos\\LidarAnalysis\\Analysis\\plotter.py:38: RankWarning: Polyfit may be poorly conditioned\n",
      "  z = np.polyfit(self.df[key], self.df[primeKey], 1)\n"
     ]
    },
    {
     "name": "stdout",
     "output_type": "stream",
     "text": [
      "C:/Users/fm873/Documents/Repos/LidarAnalysis/Results\\Handwarmers\\Silver\\6ft\\40C\\Scatter_NoZero\n",
      "C:/Users/fm873/Documents/Repos/LidarAnalysis/Results\\Handwarmers\\Silver\\6ft\\40C\\Scatter_NoZero\n"
     ]
    },
    {
     "name": "stderr",
     "output_type": "stream",
     "text": [
      "C:\\Users\\fm873\\Documents\\Repos\\LidarAnalysis\\Analysis\\plotter.py:38: RankWarning: Polyfit may be poorly conditioned\n",
      "  z = np.polyfit(self.df[key], self.df[primeKey], 1)\n",
      "C:\\Users\\fm873\\Documents\\Repos\\LidarAnalysis\\Analysis\\plotter.py:38: RankWarning: Polyfit may be poorly conditioned\n",
      "  z = np.polyfit(self.df[key], self.df[primeKey], 1)\n"
     ]
    },
    {
     "name": "stdout",
     "output_type": "stream",
     "text": [
      "C:/Users/fm873/Documents/Repos/LidarAnalysis/Results\\Handwarmers\\Silver\\6ft\\40C\\Scatter_NoZero\n",
      "C:/Users/fm873/Documents/Repos/LidarAnalysis/Results\\Handwarmers\\Silver\\6ft\\40C\\Scatter_NoZero\n",
      "C:/Users/fm873/Documents/Repos/LidarAnalysis/Results\\Handwarmers\\Silver\\6ft\\40C\\Scatter_NoZero\n",
      "writing file to: C:/Users/fm873/Documents/Repos/LidarAnalysis/Results\\Handwarmers\\Silver\\6ft\\40C\\Histograms\n",
      "['area', 'distance', 'objectTemperature', 'red', 'blue', 'green', 'temperature', 'humidity', 'light', 'numLidarPoints']\n",
      "C:/Users/fm873/Documents/Repos/LidarAnalysis/Results\\Handwarmers\\Silver\\6ft\\50C\n",
      "407.2112676056338\n",
      "Max:\n",
      "142\n",
      "temp size:\n",
      "142\n",
      "humid size:\n",
      "142\n",
      "light size:\n",
      "142\n",
      "point num size:\n",
      "142\n",
      "writing file to: C:/Users/fm873/Documents/Repos/LidarAnalysis/Results\\Handwarmers\\Silver\\6ft\\50C\\Scatter_NoZero\n",
      "['area', 'distance', 'objectTemperature', 'red', 'blue', 'green', 'temperature', 'humidity', 'light', 'numLidarPoints']\n",
      "C:/Users/fm873/Documents/Repos/LidarAnalysis/Results\\Handwarmers\\Silver\\6ft\\50C\\Scatter_NoZero\n",
      "C:/Users/fm873/Documents/Repos/LidarAnalysis/Results\\Handwarmers\\Silver\\6ft\\50C\\Scatter_NoZero\n",
      "C:/Users/fm873/Documents/Repos/LidarAnalysis/Results\\Handwarmers\\Silver\\6ft\\50C\\Scatter_NoZero\n"
     ]
    },
    {
     "name": "stderr",
     "output_type": "stream",
     "text": [
      "C:\\Users\\fm873\\Documents\\Repos\\LidarAnalysis\\Analysis\\plotter.py:38: RankWarning: Polyfit may be poorly conditioned\n",
      "  z = np.polyfit(self.df[key], self.df[primeKey], 1)\n",
      "C:\\Users\\fm873\\Documents\\Repos\\LidarAnalysis\\Analysis\\plotter.py:38: RankWarning: Polyfit may be poorly conditioned\n",
      "  z = np.polyfit(self.df[key], self.df[primeKey], 1)\n",
      "C:\\Users\\fm873\\Documents\\Repos\\LidarAnalysis\\Analysis\\plotter.py:38: RankWarning: Polyfit may be poorly conditioned\n",
      "  z = np.polyfit(self.df[key], self.df[primeKey], 1)\n"
     ]
    },
    {
     "name": "stdout",
     "output_type": "stream",
     "text": [
      "C:/Users/fm873/Documents/Repos/LidarAnalysis/Results\\Handwarmers\\Silver\\6ft\\50C\\Scatter_NoZero\n",
      "C:/Users/fm873/Documents/Repos/LidarAnalysis/Results\\Handwarmers\\Silver\\6ft\\50C\\Scatter_NoZero\n"
     ]
    },
    {
     "name": "stderr",
     "output_type": "stream",
     "text": [
      "C:\\Users\\fm873\\Documents\\Repos\\LidarAnalysis\\Analysis\\plotter.py:38: RankWarning: Polyfit may be poorly conditioned\n",
      "  z = np.polyfit(self.df[key], self.df[primeKey], 1)\n",
      "C:\\Users\\fm873\\Documents\\Repos\\LidarAnalysis\\Analysis\\plotter.py:38: RankWarning: Polyfit may be poorly conditioned\n",
      "  z = np.polyfit(self.df[key], self.df[primeKey], 1)\n"
     ]
    },
    {
     "name": "stdout",
     "output_type": "stream",
     "text": [
      "C:/Users/fm873/Documents/Repos/LidarAnalysis/Results\\Handwarmers\\Silver\\6ft\\50C\\Scatter_NoZero\n",
      "C:/Users/fm873/Documents/Repos/LidarAnalysis/Results\\Handwarmers\\Silver\\6ft\\50C\\Scatter_NoZero\n",
      "C:/Users/fm873/Documents/Repos/LidarAnalysis/Results\\Handwarmers\\Silver\\6ft\\50C\\Scatter_NoZero"
     ]
    },
    {
     "name": "stderr",
     "output_type": "stream",
     "text": [
      "C:\\Users\\fm873\\Documents\\Repos\\LidarAnalysis\\Analysis\\plotter.py:38: RankWarning: Polyfit may be poorly conditioned\n",
      "  z = np.polyfit(self.df[key], self.df[primeKey], 1)\n"
     ]
    },
    {
     "name": "stdout",
     "output_type": "stream",
     "text": [
      "\n",
      "C:/Users/fm873/Documents/Repos/LidarAnalysis/Results\\Handwarmers\\Silver\\6ft\\50C\\Scatter_NoZero\n",
      "writing file to: C:/Users/fm873/Documents/Repos/LidarAnalysis/Results\\Handwarmers\\Silver\\6ft\\50C\\Histograms\n",
      "['area', 'distance', 'objectTemperature', 'red', 'blue', 'green', 'temperature', 'humidity', 'light', 'numLidarPoints']\n",
      "C:/Users/fm873/Documents/Repos/LidarAnalysis/Results\\Handwarmers\\Silver\\6ft\\Ambient\n",
      "637.0330304089479\n",
      "Max:\n",
      "2481\n",
      "temp size:\n",
      "2481\n",
      "humid size:\n",
      "2481\n",
      "light size:\n",
      "2481\n",
      "point num size:\n",
      "2481\n",
      "writing file to: C:/Users/fm873/Documents/Repos/LidarAnalysis/Results\\Handwarmers\\Silver\\6ft\\Ambient\\Scatter_NoZero\n",
      "['area', 'distance', 'objectTemperature', 'red', 'blue', 'green', 'temperature', 'humidity', 'light', 'numLidarPoints']\n",
      "C:/Users/fm873/Documents/Repos/LidarAnalysis/Results\\Handwarmers\\Silver\\6ft\\Ambient\\Scatter_NoZero\n",
      "C:/Users/fm873/Documents/Repos/LidarAnalysis/Results\\Handwarmers\\Silver\\6ft\\Ambient\\Scatter_NoZero\n"
     ]
    },
    {
     "name": "stderr",
     "output_type": "stream",
     "text": [
      "C:\\Users\\fm873\\Documents\\Repos\\LidarAnalysis\\Analysis\\plotter.py:38: RankWarning: Polyfit may be poorly conditioned\n",
      "  z = np.polyfit(self.df[key], self.df[primeKey], 1)\n",
      "C:\\Users\\fm873\\Documents\\Repos\\LidarAnalysis\\Analysis\\plotter.py:38: RankWarning: Polyfit may be poorly conditioned\n",
      "  z = np.polyfit(self.df[key], self.df[primeKey], 1)\n"
     ]
    },
    {
     "name": "stdout",
     "output_type": "stream",
     "text": [
      "C:/Users/fm873/Documents/Repos/LidarAnalysis/Results\\Handwarmers\\Silver\\6ft\\Ambient\\Scatter_NoZero\n",
      "C:/Users/fm873/Documents/Repos/LidarAnalysis/Results\\Handwarmers\\Silver\\6ft\\Ambient\\Scatter_NoZero\n"
     ]
    },
    {
     "name": "stderr",
     "output_type": "stream",
     "text": [
      "C:\\Users\\fm873\\Documents\\Repos\\LidarAnalysis\\Analysis\\plotter.py:38: RankWarning: Polyfit may be poorly conditioned\n",
      "  z = np.polyfit(self.df[key], self.df[primeKey], 1)\n",
      "C:\\Users\\fm873\\Documents\\Repos\\LidarAnalysis\\Analysis\\plotter.py:38: RankWarning: Polyfit may be poorly conditioned\n",
      "  z = np.polyfit(self.df[key], self.df[primeKey], 1)\n"
     ]
    },
    {
     "name": "stdout",
     "output_type": "stream",
     "text": [
      "C:/Users/fm873/Documents/Repos/LidarAnalysis/Results\\Handwarmers\\Silver\\6ft\\Ambient\\Scatter_NoZero\n",
      "C:/Users/fm873/Documents/Repos/LidarAnalysis/Results\\Handwarmers\\Silver\\6ft\\Ambient\\Scatter_NoZero\n"
     ]
    },
    {
     "name": "stderr",
     "output_type": "stream",
     "text": [
      "C:\\Users\\fm873\\Documents\\Repos\\LidarAnalysis\\Analysis\\plotter.py:38: RankWarning: Polyfit may be poorly conditioned\n",
      "  z = np.polyfit(self.df[key], self.df[primeKey], 1)\n",
      "C:\\Users\\fm873\\Documents\\Repos\\LidarAnalysis\\Analysis\\plotter.py:38: RankWarning: Polyfit may be poorly conditioned\n",
      "  z = np.polyfit(self.df[key], self.df[primeKey], 1)\n"
     ]
    },
    {
     "name": "stdout",
     "output_type": "stream",
     "text": [
      "C:/Users/fm873/Documents/Repos/LidarAnalysis/Results\\Handwarmers\\Silver\\6ft\\Ambient\\Scatter_NoZero\n",
      "C:/Users/fm873/Documents/Repos/LidarAnalysis/Results\\Handwarmers\\Silver\\6ft\\Ambient\\Scatter_NoZero\n",
      "C:/Users/fm873/Documents/Repos/LidarAnalysis/Results\\Handwarmers\\Silver\\6ft\\Ambient\\Scatter_NoZero\n",
      "writing file to: C:/Users/fm873/Documents/Repos/LidarAnalysis/Results\\Handwarmers\\Silver\\6ft\\Ambient\\Histograms\n",
      "['area', 'distance', 'objectTemperature', 'red', 'blue', 'green', 'temperature', 'humidity', 'light', 'numLidarPoints']\n",
      "writing file to: C:/Users/fm873/Documents/Repos/LidarAnalysis/Results\\Scatter_NoZero\n",
      "['area', 'distance', 'objectTemperature', 'red', 'green', 'blue', 'temperature', 'humidity', 'light', 'numLidarPoints']\n",
      "C:/Users/fm873/Documents/Repos/LidarAnalysis/Results\\Scatter_NoZero\n",
      "C:/Users/fm873/Documents/Repos/LidarAnalysis/Results\\Scatter_NoZero\n",
      "C:/Users/fm873/Documents/Repos/LidarAnalysis/Results\\Scatter_NoZero\n",
      "C:/Users/fm873/Documents/Repos/LidarAnalysis/Results\\Scatter_NoZero\n",
      "C:/Users/fm873/Documents/Repos/LidarAnalysis/Results\\Scatter_NoZero\n",
      "C:/Users/fm873/Documents/Repos/LidarAnalysis/Results\\Scatter_NoZero\n",
      "C:/Users/fm873/Documents/Repos/LidarAnalysis/Results\\Scatter_NoZero\n",
      "C:/Users/fm873/Documents/Repos/LidarAnalysis/Results\\Scatter_NoZero\n",
      "C:/Users/fm873/Documents/Repos/LidarAnalysis/Results\\Scatter_NoZero\n",
      "writing file to: C:/Users/fm873/Documents/Repos/LidarAnalysis/Results\\Histograms\n",
      "['area', 'distance', 'objectTemperature', 'red', 'green', 'blue', 'temperature', 'humidity', 'light', 'numLidarPoints']\n",
      "test\n",
      "t2\n",
      "t3\n",
      "t4\n"
     ]
    },
    {
     "data": {
      "text/plain": [
       "'color = sns.color_palette()[2]\\ng = sns.jointplot(\"temperature\", \"numLidarPoints\", data=dfNormalized, kind=\"reg\",\\n                  xlim=(0, 1), ylim=(0, 1), color=color, size=7)\\nimport matplotlib.pyplot as plt\\nplt.show()'"
      ]
     },
     "execution_count": 1,
     "metadata": {},
     "output_type": "execute_result"
    }
   ],
   "source": [
    "import combineCode\n",
    "import seaborn as sns\n",
    "import matplotlib.pyplot as plt\n",
    "#%matplotlib inline\n",
    "\n",
    "combinedData  = combineCode.traverseDirectoriesAndProcess('l')\n",
    "print(\"test\")\n",
    "dfCombined = combineCode.getDataFrame(combinedData)\n",
    "print(\"t2\")\n",
    "normalizedData = combineCode.getNormalizedData(combinedData)\n",
    "print(\"t3\")\n",
    "dfNormalized = combineCode.getDataFrame(normalizedData)\n",
    "print(\"t4\")\n",
    "\n",
    "#plot\n",
    "'''sns.set(style=\"darkgrid\")\n",
    "g = sns.PairGrid(dfNormalized)\n",
    "print(\"t5\")\n",
    "g.map(sns.scatterplot)\n",
    "print(\"t6\")\n",
    "plt.show(sns)\n",
    "print(\"hello\")'''\n",
    "\n",
    "#sns.distplot(dfNormalized[\"numberPoints\", kde=True, rug=False)\n",
    "#plt.show()\n",
    "'''color = sns.color_palette()[2]\n",
    "g = sns.jointplot(\"temperature\", \"numLidarPoints\", data=dfNormalized, kind=\"reg\",\n",
    "                  xlim=(0, 1), ylim=(0, 1), color=color, size=7)\n",
    "import matplotlib.pyplot as plt\n",
    "plt.show()'''"
   ]
  },
  {
   "cell_type": "code",
   "execution_count": 2,
   "metadata": {},
   "outputs": [
    {
     "data": {
      "text/plain": [
       "'fig, ax = plt.subplots(subplot_kw={\"projection\": \"3d\"})\\nfig.suptitle(\\'Colors\\')\\nax.set_zlabel(\\'% of Expected Lidar Points\\')\\nax.set_ylabel(\\'Distance (m)\\') \\nax.set_xlabel(\\'Temperatures (C)\\')\\n\\nDistances = [0.61,1.219,1.829]\\nexpectedY_40 = [1961,491,218]\\n\\ndistances = [0.61,0.61,0.61,0.61,0.61,0.61,0.61,0.61,0.61,0.61,0.61,0.61,1.219,1.219,1.219,1.219,1.219,1.219,1.219,1.219,1.219,1.219,1.219,1.219,1.829,1.829,1.829,1.829,1.829,1.829,1.829,1.829,1.829,1.829,1.829,1.829]\\ntemperatures = [21,40,45,21,40,45,21,40,45,21,40,45,21,40,45,21,40,45,21,40,45,21,40,45,21,40,50,21,40,50,21,40,50,21,40,50]\\npercentageOfExpectedPoints = [60,50,54,53,56,61,50,60,68,53,52,54,64,137,122,55,118,100,59,144,134,61,98,92,96,83,85,72,69,71,72,87,97,111,90,71]\\ncolors=[1,1,1,2,2,2,3,3,3,4,4,4,1,1,1,2,2,2,3,3,3,4,4,4,1,1,1,2,2,2,3,3,3,4,4,4,1,1,1,2,2,2,3,3,3,4,4,4]\\nax.scatter(temperatures, distances, percentageOfExpectedPoints) \\n\\nplt.show()'"
      ]
     },
     "execution_count": 2,
     "metadata": {},
     "output_type": "execute_result"
    }
   ],
   "source": [
    "'''fig, ax = plt.subplots(subplot_kw={\"projection\": \"3d\"})\n",
    "fig.suptitle('Colors')\n",
    "ax.set_zlabel('% of Expected Lidar Points')\n",
    "ax.set_ylabel('Distance (m)') \n",
    "ax.set_xlabel('Temperatures (C)')\n",
    "\n",
    "Distances = [0.61,1.219,1.829]\n",
    "expectedY_40 = [1961,491,218]\n",
    "\n",
    "distances = [0.61,0.61,0.61,0.61,0.61,0.61,0.61,0.61,0.61,0.61,0.61,0.61,1.219,1.219,1.219,1.219,1.219,1.219,1.219,1.219,1.219,1.219,1.219,1.219,1.829,1.829,1.829,1.829,1.829,1.829,1.829,1.829,1.829,1.829,1.829,1.829]\n",
    "temperatures = [21,40,45,21,40,45,21,40,45,21,40,45,21,40,45,21,40,45,21,40,45,21,40,45,21,40,50,21,40,50,21,40,50,21,40,50]\n",
    "percentageOfExpectedPoints = [60,50,54,53,56,61,50,60,68,53,52,54,64,137,122,55,118,100,59,144,134,61,98,92,96,83,85,72,69,71,72,87,97,111,90,71]\n",
    "colors=[1,1,1,2,2,2,3,3,3,4,4,4,1,1,1,2,2,2,3,3,3,4,4,4,1,1,1,2,2,2,3,3,3,4,4,4,1,1,1,2,2,2,3,3,3,4,4,4]\n",
    "ax.scatter(temperatures, distances, percentageOfExpectedPoints) \n",
    "\n",
    "plt.show()'''\n"
   ]
  },
  {
   "cell_type": "code",
   "execution_count": null,
   "metadata": {},
   "outputs": [],
   "source": []
  }
 ],
 "metadata": {
  "kernelspec": {
   "display_name": "Python 3",
   "language": "python",
   "name": "python3"
  },
  "language_info": {
   "codemirror_mode": {
    "name": "ipython",
    "version": 3
   },
   "file_extension": ".py",
   "mimetype": "text/x-python",
   "name": "python",
   "nbconvert_exporter": "python",
   "pygments_lexer": "ipython3",
   "version": "3.7.3"
  }
 },
 "nbformat": 4,
 "nbformat_minor": 2
}
